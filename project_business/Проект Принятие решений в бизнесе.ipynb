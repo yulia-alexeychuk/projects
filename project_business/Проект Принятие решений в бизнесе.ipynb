{
 "cells": [
  {
   "cell_type": "markdown",
   "metadata": {},
   "source": [
    "# <center>Проект «Приоритизация гипотез и анализ A/B-теста»</center>"
   ]
  },
  {
   "cell_type": "markdown",
   "metadata": {},
   "source": [
    "## Введение"
   ]
  },
  {
   "cell_type": "markdown",
   "metadata": {},
   "source": [
    "В этом проекте мы разберемся, как увеличить выручку крупного интернет-магазина. В нашем распоряжении **три датасета**:\n",
    "- перечень гипотез с показателями Reach, Impact, Confidence, Efforts;\n",
    "- заказы, совершенные пользователями из разных групп A/B-теста;\n",
    "- группы A/B-теста и количество пользователей.\n",
    "\n",
    "**Наша цель** - определить наличие различий между группами A/B-теста и решить, нужно ли продолжать тест.\n",
    "\n",
    "**Наш план работы**:\n",
    "- познакомиться с данными;\n",
    "- подготовить данные к анализу;\n",
    "- приоритизировать гипотезы с помощью фреймворков ICE и RICE;\n",
    "- проанализировать A/B-тест:\n",
    "  - построить график кумулятивной выручки по группам;\n",
    "  - построить график кумулятивного среднего чека по группам;\n",
    "  - построить график относительного изменения кумулятивного среднего чека группы B к группе A;\n",
    "  - построить график кумулятивного среднего количества заказов на посетителя по группам;\n",
    "  - построить график относительного изменения кумулятивного среднего количества заказов на посетителя группы B к группе A;\n",
    "  - построить точечный график количества заказов по пользователям;\n",
    "  - посчитать 95-й и 99-й перцентили количества заказов на пользователя, выбрать границу для определения аномальных пользователей;\n",
    "  - построить точечный график стоимостей заказов;\n",
    "  - посчитать 95-й и 99-й перцентили стоимости заказов, выбрать границу для определения аномальных заказов;\n",
    "  - посчитать статистическую значимость различий в среднем количестве заказов на посетителя между группами по «сырым» данным;\n",
    "  - посчитать статистическую значимость различий в среднем чеке заказа между группами по «сырым» данным;\n",
    "  - посчитать статистическую значимость различий в среднем количестве заказов на посетителя между группами по «очищенным» данным;\n",
    "  - посчитать статистическую значимость различий в среднем чеке заказа между группами по «очищенным» данным;\n",
    "  - принять решение по результатам теста."
   ]
  },
  {
   "cell_type": "markdown",
   "metadata": {},
   "source": [
    "## Знакомство с данными"
   ]
  },
  {
   "cell_type": "code",
   "execution_count": 1,
   "metadata": {},
   "outputs": [],
   "source": [
    "import pandas as pd\n",
    "import seaborn as sns\n",
    "import matplotlib.pyplot as plt\n",
    "import missingno as msno\n",
    "from scipy import stats as st\n",
    "import numpy as np\n",
    "import datetime as dt"
   ]
  },
  {
   "cell_type": "code",
   "execution_count": 2,
   "metadata": {},
   "outputs": [],
   "source": [
    "hypothesis = pd.read_csv('hypothesis.csv')\n",
    "orders = pd.read_csv('orders.csv')\n",
    "visitors = pd.read_csv('visitors.csv')"
   ]
  },
  {
   "cell_type": "code",
   "execution_count": 3,
   "metadata": {
    "scrolled": true
   },
   "outputs": [
    {
     "data": {
      "text/html": [
       "<div>\n",
       "<style scoped>\n",
       "    .dataframe tbody tr th:only-of-type {\n",
       "        vertical-align: middle;\n",
       "    }\n",
       "\n",
       "    .dataframe tbody tr th {\n",
       "        vertical-align: top;\n",
       "    }\n",
       "\n",
       "    .dataframe thead th {\n",
       "        text-align: right;\n",
       "    }\n",
       "</style>\n",
       "<table border=\"1\" class=\"dataframe\">\n",
       "  <thead>\n",
       "    <tr style=\"text-align: right;\">\n",
       "      <th></th>\n",
       "      <th>Hypothesis</th>\n",
       "      <th>Reach</th>\n",
       "      <th>Impact</th>\n",
       "      <th>Confidence</th>\n",
       "      <th>Efforts</th>\n",
       "    </tr>\n",
       "  </thead>\n",
       "  <tbody>\n",
       "    <tr>\n",
       "      <th>0</th>\n",
       "      <td>Добавить два новых канала привлечения трафика,...</td>\n",
       "      <td>3</td>\n",
       "      <td>10</td>\n",
       "      <td>8</td>\n",
       "      <td>6</td>\n",
       "    </tr>\n",
       "    <tr>\n",
       "      <th>1</th>\n",
       "      <td>Запустить собственную службу доставки, что сок...</td>\n",
       "      <td>2</td>\n",
       "      <td>5</td>\n",
       "      <td>4</td>\n",
       "      <td>10</td>\n",
       "    </tr>\n",
       "    <tr>\n",
       "      <th>2</th>\n",
       "      <td>Добавить блоки рекомендаций товаров на сайт ин...</td>\n",
       "      <td>8</td>\n",
       "      <td>3</td>\n",
       "      <td>7</td>\n",
       "      <td>3</td>\n",
       "    </tr>\n",
       "    <tr>\n",
       "      <th>3</th>\n",
       "      <td>Изменить структура категорий, что увеличит кон...</td>\n",
       "      <td>8</td>\n",
       "      <td>3</td>\n",
       "      <td>3</td>\n",
       "      <td>8</td>\n",
       "    </tr>\n",
       "    <tr>\n",
       "      <th>4</th>\n",
       "      <td>Изменить цвет фона главной страницы, чтобы уве...</td>\n",
       "      <td>3</td>\n",
       "      <td>1</td>\n",
       "      <td>1</td>\n",
       "      <td>1</td>\n",
       "    </tr>\n",
       "  </tbody>\n",
       "</table>\n",
       "</div>"
      ],
      "text/plain": [
       "                                          Hypothesis  Reach  Impact  \\\n",
       "0  Добавить два новых канала привлечения трафика,...      3      10   \n",
       "1  Запустить собственную службу доставки, что сок...      2       5   \n",
       "2  Добавить блоки рекомендаций товаров на сайт ин...      8       3   \n",
       "3  Изменить структура категорий, что увеличит кон...      8       3   \n",
       "4  Изменить цвет фона главной страницы, чтобы уве...      3       1   \n",
       "\n",
       "   Confidence  Efforts  \n",
       "0           8        6  \n",
       "1           4       10  \n",
       "2           7        3  \n",
       "3           3        8  \n",
       "4           1        1  "
      ]
     },
     "metadata": {},
     "output_type": "display_data"
    },
    {
     "data": {
      "text/html": [
       "<div>\n",
       "<style scoped>\n",
       "    .dataframe tbody tr th:only-of-type {\n",
       "        vertical-align: middle;\n",
       "    }\n",
       "\n",
       "    .dataframe tbody tr th {\n",
       "        vertical-align: top;\n",
       "    }\n",
       "\n",
       "    .dataframe thead th {\n",
       "        text-align: right;\n",
       "    }\n",
       "</style>\n",
       "<table border=\"1\" class=\"dataframe\">\n",
       "  <thead>\n",
       "    <tr style=\"text-align: right;\">\n",
       "      <th></th>\n",
       "      <th>transactionId</th>\n",
       "      <th>visitorId</th>\n",
       "      <th>date</th>\n",
       "      <th>revenue</th>\n",
       "      <th>group</th>\n",
       "    </tr>\n",
       "  </thead>\n",
       "  <tbody>\n",
       "    <tr>\n",
       "      <th>0</th>\n",
       "      <td>3667963787</td>\n",
       "      <td>3312258926</td>\n",
       "      <td>2019-08-15</td>\n",
       "      <td>1650</td>\n",
       "      <td>B</td>\n",
       "    </tr>\n",
       "    <tr>\n",
       "      <th>1</th>\n",
       "      <td>2804400009</td>\n",
       "      <td>3642806036</td>\n",
       "      <td>2019-08-15</td>\n",
       "      <td>730</td>\n",
       "      <td>B</td>\n",
       "    </tr>\n",
       "    <tr>\n",
       "      <th>2</th>\n",
       "      <td>2961555356</td>\n",
       "      <td>4069496402</td>\n",
       "      <td>2019-08-15</td>\n",
       "      <td>400</td>\n",
       "      <td>A</td>\n",
       "    </tr>\n",
       "    <tr>\n",
       "      <th>3</th>\n",
       "      <td>3797467345</td>\n",
       "      <td>1196621759</td>\n",
       "      <td>2019-08-15</td>\n",
       "      <td>9759</td>\n",
       "      <td>B</td>\n",
       "    </tr>\n",
       "    <tr>\n",
       "      <th>4</th>\n",
       "      <td>2282983706</td>\n",
       "      <td>2322279887</td>\n",
       "      <td>2019-08-15</td>\n",
       "      <td>2308</td>\n",
       "      <td>B</td>\n",
       "    </tr>\n",
       "  </tbody>\n",
       "</table>\n",
       "</div>"
      ],
      "text/plain": [
       "   transactionId   visitorId        date  revenue group\n",
       "0     3667963787  3312258926  2019-08-15     1650     B\n",
       "1     2804400009  3642806036  2019-08-15      730     B\n",
       "2     2961555356  4069496402  2019-08-15      400     A\n",
       "3     3797467345  1196621759  2019-08-15     9759     B\n",
       "4     2282983706  2322279887  2019-08-15     2308     B"
      ]
     },
     "metadata": {},
     "output_type": "display_data"
    },
    {
     "data": {
      "text/html": [
       "<div>\n",
       "<style scoped>\n",
       "    .dataframe tbody tr th:only-of-type {\n",
       "        vertical-align: middle;\n",
       "    }\n",
       "\n",
       "    .dataframe tbody tr th {\n",
       "        vertical-align: top;\n",
       "    }\n",
       "\n",
       "    .dataframe thead th {\n",
       "        text-align: right;\n",
       "    }\n",
       "</style>\n",
       "<table border=\"1\" class=\"dataframe\">\n",
       "  <thead>\n",
       "    <tr style=\"text-align: right;\">\n",
       "      <th></th>\n",
       "      <th>date</th>\n",
       "      <th>group</th>\n",
       "      <th>visitors</th>\n",
       "    </tr>\n",
       "  </thead>\n",
       "  <tbody>\n",
       "    <tr>\n",
       "      <th>0</th>\n",
       "      <td>2019-08-01</td>\n",
       "      <td>A</td>\n",
       "      <td>719</td>\n",
       "    </tr>\n",
       "    <tr>\n",
       "      <th>1</th>\n",
       "      <td>2019-08-02</td>\n",
       "      <td>A</td>\n",
       "      <td>619</td>\n",
       "    </tr>\n",
       "    <tr>\n",
       "      <th>2</th>\n",
       "      <td>2019-08-03</td>\n",
       "      <td>A</td>\n",
       "      <td>507</td>\n",
       "    </tr>\n",
       "    <tr>\n",
       "      <th>3</th>\n",
       "      <td>2019-08-04</td>\n",
       "      <td>A</td>\n",
       "      <td>717</td>\n",
       "    </tr>\n",
       "    <tr>\n",
       "      <th>4</th>\n",
       "      <td>2019-08-05</td>\n",
       "      <td>A</td>\n",
       "      <td>756</td>\n",
       "    </tr>\n",
       "  </tbody>\n",
       "</table>\n",
       "</div>"
      ],
      "text/plain": [
       "         date group  visitors\n",
       "0  2019-08-01     A       719\n",
       "1  2019-08-02     A       619\n",
       "2  2019-08-03     A       507\n",
       "3  2019-08-04     A       717\n",
       "4  2019-08-05     A       756"
      ]
     },
     "metadata": {},
     "output_type": "display_data"
    },
    {
     "name": "stdout",
     "output_type": "stream",
     "text": [
      "hypothesis\n",
      "<class 'pandas.core.frame.DataFrame'>\n",
      "RangeIndex: 9 entries, 0 to 8\n",
      "Data columns (total 5 columns):\n",
      " #   Column      Non-Null Count  Dtype \n",
      "---  ------      --------------  ----- \n",
      " 0   Hypothesis  9 non-null      object\n",
      " 1   Reach       9 non-null      int64 \n",
      " 2   Impact      9 non-null      int64 \n",
      " 3   Confidence  9 non-null      int64 \n",
      " 4   Efforts     9 non-null      int64 \n",
      "dtypes: int64(4), object(1)\n",
      "memory usage: 492.0+ bytes\n",
      "\n",
      "orders\n",
      "<class 'pandas.core.frame.DataFrame'>\n",
      "RangeIndex: 1197 entries, 0 to 1196\n",
      "Data columns (total 5 columns):\n",
      " #   Column         Non-Null Count  Dtype \n",
      "---  ------         --------------  ----- \n",
      " 0   transactionId  1197 non-null   int64 \n",
      " 1   visitorId      1197 non-null   int64 \n",
      " 2   date           1197 non-null   object\n",
      " 3   revenue        1197 non-null   int64 \n",
      " 4   group          1197 non-null   object\n",
      "dtypes: int64(3), object(2)\n",
      "memory usage: 46.9+ KB\n",
      "\n",
      "visitors\n",
      "<class 'pandas.core.frame.DataFrame'>\n",
      "RangeIndex: 62 entries, 0 to 61\n",
      "Data columns (total 3 columns):\n",
      " #   Column    Non-Null Count  Dtype \n",
      "---  ------    --------------  ----- \n",
      " 0   date      62 non-null     object\n",
      " 1   group     62 non-null     object\n",
      " 2   visitors  62 non-null     int64 \n",
      "dtypes: int64(1), object(2)\n",
      "memory usage: 1.6+ KB\n"
     ]
    }
   ],
   "source": [
    "display(hypothesis.head(5))\n",
    "display(orders.head(5))\n",
    "display(visitors.head(5))\n",
    "\n",
    "print('hypothesis')\n",
    "hypothesis.info()\n",
    "print()\n",
    "print('orders')\n",
    "orders.info()\n",
    "print()\n",
    "print('visitors')\n",
    "visitors.info()"
   ]
  },
  {
   "cell_type": "markdown",
   "metadata": {},
   "source": [
    "### Промежуточный вывод"
   ]
  },
  {
   "cell_type": "markdown",
   "metadata": {},
   "source": [
    "У нас есть следующие данные:\n",
    "- 9 гипотез с показателями Reach, Impact, Confidence, Efforts;\n",
    "- заказы, совершенные пользователями из разных групп A/B-теста, на 1197 строк;\n",
    "- группы A/B-теста и количество пользователей на 62 строки."
   ]
  },
  {
   "cell_type": "markdown",
   "metadata": {},
   "source": [
    "## Предобработка данных"
   ]
  },
  {
   "cell_type": "markdown",
   "metadata": {},
   "source": [
    "Исправим названия столбцов в «змеином» регистре."
   ]
  },
  {
   "cell_type": "code",
   "execution_count": 4,
   "metadata": {},
   "outputs": [
    {
     "data": {
      "text/html": [
       "<div>\n",
       "<style scoped>\n",
       "    .dataframe tbody tr th:only-of-type {\n",
       "        vertical-align: middle;\n",
       "    }\n",
       "\n",
       "    .dataframe tbody tr th {\n",
       "        vertical-align: top;\n",
       "    }\n",
       "\n",
       "    .dataframe thead th {\n",
       "        text-align: right;\n",
       "    }\n",
       "</style>\n",
       "<table border=\"1\" class=\"dataframe\">\n",
       "  <thead>\n",
       "    <tr style=\"text-align: right;\">\n",
       "      <th></th>\n",
       "      <th>hypothesis</th>\n",
       "      <th>reach</th>\n",
       "      <th>impact</th>\n",
       "      <th>confidence</th>\n",
       "      <th>efforts</th>\n",
       "    </tr>\n",
       "  </thead>\n",
       "  <tbody>\n",
       "    <tr>\n",
       "      <th>0</th>\n",
       "      <td>Добавить два новых канала привлечения трафика,...</td>\n",
       "      <td>3</td>\n",
       "      <td>10</td>\n",
       "      <td>8</td>\n",
       "      <td>6</td>\n",
       "    </tr>\n",
       "  </tbody>\n",
       "</table>\n",
       "</div>"
      ],
      "text/plain": [
       "                                          hypothesis  reach  impact  \\\n",
       "0  Добавить два новых канала привлечения трафика,...      3      10   \n",
       "\n",
       "   confidence  efforts  \n",
       "0           8        6  "
      ]
     },
     "metadata": {},
     "output_type": "display_data"
    },
    {
     "data": {
      "text/html": [
       "<div>\n",
       "<style scoped>\n",
       "    .dataframe tbody tr th:only-of-type {\n",
       "        vertical-align: middle;\n",
       "    }\n",
       "\n",
       "    .dataframe tbody tr th {\n",
       "        vertical-align: top;\n",
       "    }\n",
       "\n",
       "    .dataframe thead th {\n",
       "        text-align: right;\n",
       "    }\n",
       "</style>\n",
       "<table border=\"1\" class=\"dataframe\">\n",
       "  <thead>\n",
       "    <tr style=\"text-align: right;\">\n",
       "      <th></th>\n",
       "      <th>transaction_id</th>\n",
       "      <th>visitor_id</th>\n",
       "      <th>date</th>\n",
       "      <th>revenue</th>\n",
       "      <th>group</th>\n",
       "    </tr>\n",
       "  </thead>\n",
       "  <tbody>\n",
       "    <tr>\n",
       "      <th>0</th>\n",
       "      <td>3667963787</td>\n",
       "      <td>3312258926</td>\n",
       "      <td>2019-08-15</td>\n",
       "      <td>1650</td>\n",
       "      <td>B</td>\n",
       "    </tr>\n",
       "  </tbody>\n",
       "</table>\n",
       "</div>"
      ],
      "text/plain": [
       "   transaction_id  visitor_id        date  revenue group\n",
       "0      3667963787  3312258926  2019-08-15     1650     B"
      ]
     },
     "metadata": {},
     "output_type": "display_data"
    }
   ],
   "source": [
    "orders = orders.rename(\n",
    "    columns={\n",
    "        'transactionId': 'transaction_id',\n",
    "        'visitorId': 'visitor_id'\n",
    "    }\n",
    ")\n",
    "\n",
    "hypothesis.columns = hypothesis.columns.str.lower()\n",
    "\n",
    "\n",
    "display(hypothesis.head(1))\n",
    "display(orders.head(1))"
   ]
  },
  {
   "cell_type": "markdown",
   "metadata": {},
   "source": [
    "Проверим корректность типов данных."
   ]
  },
  {
   "cell_type": "code",
   "execution_count": 5,
   "metadata": {
    "scrolled": true
   },
   "outputs": [
    {
     "name": "stdout",
     "output_type": "stream",
     "text": [
      "hypothesis\n",
      "<class 'pandas.core.frame.DataFrame'>\n",
      "RangeIndex: 9 entries, 0 to 8\n",
      "Data columns (total 5 columns):\n",
      " #   Column      Non-Null Count  Dtype \n",
      "---  ------      --------------  ----- \n",
      " 0   hypothesis  9 non-null      object\n",
      " 1   reach       9 non-null      int64 \n",
      " 2   impact      9 non-null      int64 \n",
      " 3   confidence  9 non-null      int64 \n",
      " 4   efforts     9 non-null      int64 \n",
      "dtypes: int64(4), object(1)\n",
      "memory usage: 492.0+ bytes\n",
      "\n",
      "orders\n",
      "<class 'pandas.core.frame.DataFrame'>\n",
      "RangeIndex: 1197 entries, 0 to 1196\n",
      "Data columns (total 5 columns):\n",
      " #   Column          Non-Null Count  Dtype \n",
      "---  ------          --------------  ----- \n",
      " 0   transaction_id  1197 non-null   int64 \n",
      " 1   visitor_id      1197 non-null   int64 \n",
      " 2   date            1197 non-null   object\n",
      " 3   revenue         1197 non-null   int64 \n",
      " 4   group           1197 non-null   object\n",
      "dtypes: int64(3), object(2)\n",
      "memory usage: 46.9+ KB\n",
      "\n",
      "visitors\n",
      "<class 'pandas.core.frame.DataFrame'>\n",
      "RangeIndex: 62 entries, 0 to 61\n",
      "Data columns (total 3 columns):\n",
      " #   Column    Non-Null Count  Dtype \n",
      "---  ------    --------------  ----- \n",
      " 0   date      62 non-null     object\n",
      " 1   group     62 non-null     object\n",
      " 2   visitors  62 non-null     int64 \n",
      "dtypes: int64(1), object(2)\n",
      "memory usage: 1.6+ KB\n"
     ]
    }
   ],
   "source": [
    "print('hypothesis')\n",
    "hypothesis.info()\n",
    "print()\n",
    "print('orders')\n",
    "orders.info()\n",
    "print()\n",
    "print('visitors')\n",
    "visitors.info()"
   ]
  },
  {
   "cell_type": "code",
   "execution_count": 6,
   "metadata": {
    "scrolled": true
   },
   "outputs": [
    {
     "name": "stdout",
     "output_type": "stream",
     "text": [
      "orders\n",
      "<class 'pandas.core.frame.DataFrame'>\n",
      "RangeIndex: 1197 entries, 0 to 1196\n",
      "Data columns (total 5 columns):\n",
      " #   Column          Non-Null Count  Dtype         \n",
      "---  ------          --------------  -----         \n",
      " 0   transaction_id  1197 non-null   object        \n",
      " 1   visitor_id      1197 non-null   object        \n",
      " 2   date            1197 non-null   datetime64[ns]\n",
      " 3   revenue         1197 non-null   int64         \n",
      " 4   group           1197 non-null   object        \n",
      "dtypes: datetime64[ns](1), int64(1), object(3)\n",
      "memory usage: 46.9+ KB\n",
      "\n",
      "visitors\n",
      "<class 'pandas.core.frame.DataFrame'>\n",
      "RangeIndex: 62 entries, 0 to 61\n",
      "Data columns (total 3 columns):\n",
      " #   Column    Non-Null Count  Dtype         \n",
      "---  ------    --------------  -----         \n",
      " 0   date      62 non-null     datetime64[ns]\n",
      " 1   group     62 non-null     object        \n",
      " 2   visitors  62 non-null     int64         \n",
      "dtypes: datetime64[ns](1), int64(1), object(1)\n",
      "memory usage: 1.6+ KB\n"
     ]
    }
   ],
   "source": [
    "orders['transaction_id'] = orders['transaction_id'].astype('str')\n",
    "orders['visitor_id'] = orders['visitor_id'].astype('str')\n",
    "orders['date'] = pd.to_datetime(orders['date'])\n",
    "visitors['date'] = pd.to_datetime(visitors['date'])\n",
    "\n",
    "print('orders')\n",
    "orders.info()\n",
    "print()\n",
    "print('visitors')\n",
    "visitors.info()"
   ]
  },
  {
   "cell_type": "markdown",
   "metadata": {},
   "source": [
    "Изменили тип данных в столбцах transaction_id и visitor_id в таблице orders на object, поскольку это категориальные переменные, и в столбцах date таблиц orders и visitors на datetime64."
   ]
  },
  {
   "cell_type": "markdown",
   "metadata": {},
   "source": [
    "Проверим данные на наличие пропущенных значений и дубликатов."
   ]
  },
  {
   "cell_type": "code",
   "execution_count": 7,
   "metadata": {},
   "outputs": [
    {
     "name": "stdout",
     "output_type": "stream",
     "text": [
      "transaction_id    0\n",
      "visitor_id        0\n",
      "date              0\n",
      "revenue           0\n",
      "group             0\n",
      "dtype: int64\n",
      "date        0\n",
      "group       0\n",
      "visitors    0\n",
      "dtype: int64\n"
     ]
    }
   ],
   "source": [
    "print(orders.isna().sum())\n",
    "print(visitors.isna().sum())"
   ]
  },
  {
   "cell_type": "code",
   "execution_count": 8,
   "metadata": {},
   "outputs": [
    {
     "name": "stdout",
     "output_type": "stream",
     "text": [
      "Количество дубликатов в таблице orders: 0\n",
      "Количество дубликатов в таблице visitors: 0\n",
      "Количество дубликатов в таблице orders по комбинации transaction_id и visitor_id: 0\n"
     ]
    }
   ],
   "source": [
    "print('Количество дубликатов в таблице orders:', orders.duplicated().sum())\n",
    "print('Количество дубликатов в таблице visitors:', visitors.duplicated().sum())\n",
    "print('Количество дубликатов в таблице orders по комбинации transaction_id и visitor_id:', orders[['transaction_id', 'visitor_id']].duplicated().sum())"
   ]
  },
  {
   "cell_type": "markdown",
   "metadata": {},
   "source": [
    "Пропусков и дубликатов мы не обнаружили."
   ]
  },
  {
   "cell_type": "markdown",
   "metadata": {},
   "source": [
    "### Промежуточный вывод"
   ]
  },
  {
   "cell_type": "markdown",
   "metadata": {},
   "source": [
    "В итоге предобработки мы:\n",
    "- скорректировали названия столбцов в «змеином» регистре;\n",
    "- проверили и скорректировали типы данных в столбцах transaction_id и visitor_id таблицы orders на object и в столбцах date таблиц orders и visitors на datetime64;\n",
    "- проверили данные на наличие пропущенных значений и дубликатов, их не обнаружилось."
   ]
  },
  {
   "cell_type": "markdown",
   "metadata": {},
   "source": [
    "## Приоритизация гипотез"
   ]
  },
  {
   "cell_type": "markdown",
   "metadata": {},
   "source": [
    "Расшифруем названия столбцов в нашем датасете:\n",
    "- reach — скольких пользователей затронет изменение, которое вы хотите внести;\n",
    "- impact — насколько сильно изменение повлияет на пользователей, их опыт и удовлетворение от продукта;\n",
    "- confidence — насколько вы уверены, что это изменение повлияет на пользователей именно так; \n",
    "- efforts — сколько стоит протестировать эту гипотезу. "
   ]
  },
  {
   "cell_type": "code",
   "execution_count": 9,
   "metadata": {},
   "outputs": [
    {
     "data": {
      "text/html": [
       "<div>\n",
       "<style scoped>\n",
       "    .dataframe tbody tr th:only-of-type {\n",
       "        vertical-align: middle;\n",
       "    }\n",
       "\n",
       "    .dataframe tbody tr th {\n",
       "        vertical-align: top;\n",
       "    }\n",
       "\n",
       "    .dataframe thead th {\n",
       "        text-align: right;\n",
       "    }\n",
       "</style>\n",
       "<table border=\"1\" class=\"dataframe\">\n",
       "  <thead>\n",
       "    <tr style=\"text-align: right;\">\n",
       "      <th></th>\n",
       "      <th>hypothesis</th>\n",
       "      <th>reach</th>\n",
       "      <th>impact</th>\n",
       "      <th>confidence</th>\n",
       "      <th>efforts</th>\n",
       "    </tr>\n",
       "  </thead>\n",
       "  <tbody>\n",
       "    <tr>\n",
       "      <th>0</th>\n",
       "      <td>Добавить два новых канала привлечения трафика, что позволит привлекать на 30% больше пользователей</td>\n",
       "      <td>3</td>\n",
       "      <td>10</td>\n",
       "      <td>8</td>\n",
       "      <td>6</td>\n",
       "    </tr>\n",
       "    <tr>\n",
       "      <th>1</th>\n",
       "      <td>Запустить собственную службу доставки, что сократит срок доставки заказов</td>\n",
       "      <td>2</td>\n",
       "      <td>5</td>\n",
       "      <td>4</td>\n",
       "      <td>10</td>\n",
       "    </tr>\n",
       "    <tr>\n",
       "      <th>2</th>\n",
       "      <td>Добавить блоки рекомендаций товаров на сайт интернет магазина, чтобы повысить конверсию и средний чек заказа</td>\n",
       "      <td>8</td>\n",
       "      <td>3</td>\n",
       "      <td>7</td>\n",
       "      <td>3</td>\n",
       "    </tr>\n",
       "    <tr>\n",
       "      <th>3</th>\n",
       "      <td>Изменить структура категорий, что увеличит конверсию, т.к. пользователи быстрее найдут нужный товар</td>\n",
       "      <td>8</td>\n",
       "      <td>3</td>\n",
       "      <td>3</td>\n",
       "      <td>8</td>\n",
       "    </tr>\n",
       "    <tr>\n",
       "      <th>4</th>\n",
       "      <td>Изменить цвет фона главной страницы, чтобы увеличить вовлеченность пользователей</td>\n",
       "      <td>3</td>\n",
       "      <td>1</td>\n",
       "      <td>1</td>\n",
       "      <td>1</td>\n",
       "    </tr>\n",
       "    <tr>\n",
       "      <th>5</th>\n",
       "      <td>Добавить страницу отзывов клиентов о магазине, что позволит увеличить количество заказов</td>\n",
       "      <td>3</td>\n",
       "      <td>2</td>\n",
       "      <td>2</td>\n",
       "      <td>3</td>\n",
       "    </tr>\n",
       "    <tr>\n",
       "      <th>6</th>\n",
       "      <td>Показать на главной странице баннеры с актуальными акциями и распродажами, чтобы увеличить конверсию</td>\n",
       "      <td>5</td>\n",
       "      <td>3</td>\n",
       "      <td>8</td>\n",
       "      <td>3</td>\n",
       "    </tr>\n",
       "    <tr>\n",
       "      <th>7</th>\n",
       "      <td>Добавить форму подписки на все основные страницы, чтобы собрать базу клиентов для email-рассылок</td>\n",
       "      <td>10</td>\n",
       "      <td>7</td>\n",
       "      <td>8</td>\n",
       "      <td>5</td>\n",
       "    </tr>\n",
       "    <tr>\n",
       "      <th>8</th>\n",
       "      <td>Запустить акцию, дающую скидку на товар в день рождения</td>\n",
       "      <td>1</td>\n",
       "      <td>9</td>\n",
       "      <td>9</td>\n",
       "      <td>5</td>\n",
       "    </tr>\n",
       "  </tbody>\n",
       "</table>\n",
       "</div>"
      ],
      "text/plain": [
       "                                                                                                     hypothesis  reach  impact  confidence  efforts\n",
       "0            Добавить два новых канала привлечения трафика, что позволит привлекать на 30% больше пользователей      3      10           8        6\n",
       "1                                     Запустить собственную службу доставки, что сократит срок доставки заказов      2       5           4       10\n",
       "2  Добавить блоки рекомендаций товаров на сайт интернет магазина, чтобы повысить конверсию и средний чек заказа      8       3           7        3\n",
       "3           Изменить структура категорий, что увеличит конверсию, т.к. пользователи быстрее найдут нужный товар      8       3           3        8\n",
       "4                              Изменить цвет фона главной страницы, чтобы увеличить вовлеченность пользователей      3       1           1        1\n",
       "5                      Добавить страницу отзывов клиентов о магазине, что позволит увеличить количество заказов      3       2           2        3\n",
       "6          Показать на главной странице баннеры с актуальными акциями и распродажами, чтобы увеличить конверсию      5       3           8        3\n",
       "7              Добавить форму подписки на все основные страницы, чтобы собрать базу клиентов для email-рассылок     10       7           8        5\n",
       "8                                                       Запустить акцию, дающую скидку на товар в день рождения      1       9           9        5"
      ]
     },
     "metadata": {},
     "output_type": "display_data"
    }
   ],
   "source": [
    "pd.set_option('max_colwidth', 120)\n",
    "pd.set_option('display.width', 500)\n",
    "display(hypothesis)"
   ]
  },
  {
   "cell_type": "markdown",
   "metadata": {},
   "source": [
    "Применим фреймворк ICE для приоритизации гипотез."
   ]
  },
  {
   "cell_type": "code",
   "execution_count": 10,
   "metadata": {},
   "outputs": [
    {
     "data": {
      "text/html": [
       "<div>\n",
       "<style scoped>\n",
       "    .dataframe tbody tr th:only-of-type {\n",
       "        vertical-align: middle;\n",
       "    }\n",
       "\n",
       "    .dataframe tbody tr th {\n",
       "        vertical-align: top;\n",
       "    }\n",
       "\n",
       "    .dataframe thead th {\n",
       "        text-align: right;\n",
       "    }\n",
       "</style>\n",
       "<table border=\"1\" class=\"dataframe\">\n",
       "  <thead>\n",
       "    <tr style=\"text-align: right;\">\n",
       "      <th></th>\n",
       "      <th>hypothesis</th>\n",
       "      <th>ICE</th>\n",
       "    </tr>\n",
       "  </thead>\n",
       "  <tbody>\n",
       "    <tr>\n",
       "      <th>8</th>\n",
       "      <td>Запустить акцию, дающую скидку на товар в день рождения</td>\n",
       "      <td>16.20</td>\n",
       "    </tr>\n",
       "    <tr>\n",
       "      <th>0</th>\n",
       "      <td>Добавить два новых канала привлечения трафика, что позволит привлекать на 30% больше пользователей</td>\n",
       "      <td>13.33</td>\n",
       "    </tr>\n",
       "    <tr>\n",
       "      <th>7</th>\n",
       "      <td>Добавить форму подписки на все основные страницы, чтобы собрать базу клиентов для email-рассылок</td>\n",
       "      <td>11.20</td>\n",
       "    </tr>\n",
       "    <tr>\n",
       "      <th>6</th>\n",
       "      <td>Показать на главной странице баннеры с актуальными акциями и распродажами, чтобы увеличить конверсию</td>\n",
       "      <td>8.00</td>\n",
       "    </tr>\n",
       "    <tr>\n",
       "      <th>2</th>\n",
       "      <td>Добавить блоки рекомендаций товаров на сайт интернет магазина, чтобы повысить конверсию и средний чек заказа</td>\n",
       "      <td>7.00</td>\n",
       "    </tr>\n",
       "    <tr>\n",
       "      <th>1</th>\n",
       "      <td>Запустить собственную службу доставки, что сократит срок доставки заказов</td>\n",
       "      <td>2.00</td>\n",
       "    </tr>\n",
       "    <tr>\n",
       "      <th>5</th>\n",
       "      <td>Добавить страницу отзывов клиентов о магазине, что позволит увеличить количество заказов</td>\n",
       "      <td>1.33</td>\n",
       "    </tr>\n",
       "    <tr>\n",
       "      <th>3</th>\n",
       "      <td>Изменить структура категорий, что увеличит конверсию, т.к. пользователи быстрее найдут нужный товар</td>\n",
       "      <td>1.12</td>\n",
       "    </tr>\n",
       "    <tr>\n",
       "      <th>4</th>\n",
       "      <td>Изменить цвет фона главной страницы, чтобы увеличить вовлеченность пользователей</td>\n",
       "      <td>1.00</td>\n",
       "    </tr>\n",
       "  </tbody>\n",
       "</table>\n",
       "</div>"
      ],
      "text/plain": [
       "                                                                                                     hypothesis    ICE\n",
       "8                                                       Запустить акцию, дающую скидку на товар в день рождения  16.20\n",
       "0            Добавить два новых канала привлечения трафика, что позволит привлекать на 30% больше пользователей  13.33\n",
       "7              Добавить форму подписки на все основные страницы, чтобы собрать базу клиентов для email-рассылок  11.20\n",
       "6          Показать на главной странице баннеры с актуальными акциями и распродажами, чтобы увеличить конверсию   8.00\n",
       "2  Добавить блоки рекомендаций товаров на сайт интернет магазина, чтобы повысить конверсию и средний чек заказа   7.00\n",
       "1                                     Запустить собственную службу доставки, что сократит срок доставки заказов   2.00\n",
       "5                      Добавить страницу отзывов клиентов о магазине, что позволит увеличить количество заказов   1.33\n",
       "3           Изменить структура категорий, что увеличит конверсию, т.к. пользователи быстрее найдут нужный товар   1.12\n",
       "4                              Изменить цвет фона главной страницы, чтобы увеличить вовлеченность пользователей   1.00"
      ]
     },
     "metadata": {},
     "output_type": "display_data"
    }
   ],
   "source": [
    "hypothesis['ICE'] = round((hypothesis['impact']*hypothesis['confidence'])/hypothesis['efforts'], 2)\n",
    "display(hypothesis[['hypothesis', 'ICE']].sort_values(by='ICE', ascending=False))"
   ]
  },
  {
   "cell_type": "markdown",
   "metadata": {},
   "source": [
    "В наибольшем приоритете у нас оказались гипотезы:\n",
    "- 8 - Запустить акцию, дающую скидку на товар в день рождения\n",
    "- 0 - Добавить два новых канала привлечения трафика, что позволит привлекать на 30% больше пользователей\n",
    "- 7 - Добавить форму подписки на все основные страницы, чтобы собрать базу клиентов для email-рассылок"
   ]
  },
  {
   "cell_type": "markdown",
   "metadata": {},
   "source": [
    "Применим фреймворк RICE и посмотрим, как изменилась приоритизация гипотез."
   ]
  },
  {
   "cell_type": "code",
   "execution_count": 11,
   "metadata": {},
   "outputs": [
    {
     "data": {
      "text/html": [
       "<div>\n",
       "<style scoped>\n",
       "    .dataframe tbody tr th:only-of-type {\n",
       "        vertical-align: middle;\n",
       "    }\n",
       "\n",
       "    .dataframe tbody tr th {\n",
       "        vertical-align: top;\n",
       "    }\n",
       "\n",
       "    .dataframe thead th {\n",
       "        text-align: right;\n",
       "    }\n",
       "</style>\n",
       "<table border=\"1\" class=\"dataframe\">\n",
       "  <thead>\n",
       "    <tr style=\"text-align: right;\">\n",
       "      <th></th>\n",
       "      <th>hypothesis</th>\n",
       "      <th>RICE</th>\n",
       "    </tr>\n",
       "  </thead>\n",
       "  <tbody>\n",
       "    <tr>\n",
       "      <th>7</th>\n",
       "      <td>Добавить форму подписки на все основные страницы, чтобы собрать базу клиентов для email-рассылок</td>\n",
       "      <td>112.0</td>\n",
       "    </tr>\n",
       "    <tr>\n",
       "      <th>2</th>\n",
       "      <td>Добавить блоки рекомендаций товаров на сайт интернет магазина, чтобы повысить конверсию и средний чек заказа</td>\n",
       "      <td>56.0</td>\n",
       "    </tr>\n",
       "    <tr>\n",
       "      <th>0</th>\n",
       "      <td>Добавить два новых канала привлечения трафика, что позволит привлекать на 30% больше пользователей</td>\n",
       "      <td>40.0</td>\n",
       "    </tr>\n",
       "    <tr>\n",
       "      <th>6</th>\n",
       "      <td>Показать на главной странице баннеры с актуальными акциями и распродажами, чтобы увеличить конверсию</td>\n",
       "      <td>40.0</td>\n",
       "    </tr>\n",
       "    <tr>\n",
       "      <th>8</th>\n",
       "      <td>Запустить акцию, дающую скидку на товар в день рождения</td>\n",
       "      <td>16.2</td>\n",
       "    </tr>\n",
       "    <tr>\n",
       "      <th>3</th>\n",
       "      <td>Изменить структура категорий, что увеличит конверсию, т.к. пользователи быстрее найдут нужный товар</td>\n",
       "      <td>9.0</td>\n",
       "    </tr>\n",
       "    <tr>\n",
       "      <th>1</th>\n",
       "      <td>Запустить собственную службу доставки, что сократит срок доставки заказов</td>\n",
       "      <td>4.0</td>\n",
       "    </tr>\n",
       "    <tr>\n",
       "      <th>5</th>\n",
       "      <td>Добавить страницу отзывов клиентов о магазине, что позволит увеличить количество заказов</td>\n",
       "      <td>4.0</td>\n",
       "    </tr>\n",
       "    <tr>\n",
       "      <th>4</th>\n",
       "      <td>Изменить цвет фона главной страницы, чтобы увеличить вовлеченность пользователей</td>\n",
       "      <td>3.0</td>\n",
       "    </tr>\n",
       "  </tbody>\n",
       "</table>\n",
       "</div>"
      ],
      "text/plain": [
       "                                                                                                     hypothesis   RICE\n",
       "7              Добавить форму подписки на все основные страницы, чтобы собрать базу клиентов для email-рассылок  112.0\n",
       "2  Добавить блоки рекомендаций товаров на сайт интернет магазина, чтобы повысить конверсию и средний чек заказа   56.0\n",
       "0            Добавить два новых канала привлечения трафика, что позволит привлекать на 30% больше пользователей   40.0\n",
       "6          Показать на главной странице баннеры с актуальными акциями и распродажами, чтобы увеличить конверсию   40.0\n",
       "8                                                       Запустить акцию, дающую скидку на товар в день рождения   16.2\n",
       "3           Изменить структура категорий, что увеличит конверсию, т.к. пользователи быстрее найдут нужный товар    9.0\n",
       "1                                     Запустить собственную службу доставки, что сократит срок доставки заказов    4.0\n",
       "5                      Добавить страницу отзывов клиентов о магазине, что позволит увеличить количество заказов    4.0\n",
       "4                              Изменить цвет фона главной страницы, чтобы увеличить вовлеченность пользователей    3.0"
      ]
     },
     "metadata": {},
     "output_type": "display_data"
    }
   ],
   "source": [
    "hypothesis['RICE'] = (hypothesis['reach']*hypothesis['impact']*hypothesis['confidence'])/hypothesis['efforts']\n",
    "display(hypothesis[['hypothesis', 'RICE']].sort_values(by='RICE', ascending=False))"
   ]
  },
  {
   "cell_type": "markdown",
   "metadata": {},
   "source": [
    "Теперь на первом месте гипотеза:\n",
    "- 7 - Добавить форму подписки на все основные страницы, чтобы собрать базу клиентов для email-рассылок\n",
    "\n",
    "А дальше идут:\n",
    "- 2 - Добавить блоки рекомендаций товаров на сайт интернет магазина, чтобы повысить конверсию и средний чек заказа\n",
    "- 0 - Добавить два новых канала привлечения трафика, что позволит привлекать на 30% больше пользователей\n",
    "- 6 - Показать на главной странице баннеры с актуальными акциями и распродажами, чтобы увеличить конверсию"
   ]
  },
  {
   "cell_type": "markdown",
   "metadata": {},
   "source": [
    "### Промежуточный вывод"
   ]
  },
  {
   "cell_type": "markdown",
   "metadata": {},
   "source": [
    "В фреймворке RICE в отличие от ICE добавляется параметр Reach, то есть скольких пользователей затронет изменение.\n",
    "Если в гипотезах `Запустить акцию, дающую скидку на товар в день рождения` и `Добавить два новых канала привлечения трафика, что позволит привлекать на 30% больше пользователей` высокие оценки в Impact и Confidence, что выводит их в топ, когда мы применяем ICE, то в гипотезах `Добавить форму подписки на все основные страницы, чтобы собрать базу клиентов для email-рассылок` и `Добавить блоки рекомендаций товаров на сайт интернет магазина, чтобы повысить конверсию и средний чек заказа` высокая оценка у параметра Reach, то есть охват пользователей значительно выше, чем у первых двух. При этом у гипотезы `Добавить форму подписки на все основные страницы, чтобы собрать базу клиентов для email-рассылок` высокие оценки также в Impact и Confidence, что выводит ее в топ при применении обоих фреймворков.\n",
    "\n",
    "Можно сделать вывод, что в первую очередь стоит обратить внимание на гипотезу - `Добавить форму подписки на все основные страницы, чтобы собрать базу клиентов для email-рассылок`."
   ]
  },
  {
   "cell_type": "markdown",
   "metadata": {},
   "source": [
    "## Анализ A/B-теста"
   ]
  },
  {
   "cell_type": "markdown",
   "metadata": {},
   "source": [
    "### Проверка данных на нормальность"
   ]
  },
  {
   "cell_type": "markdown",
   "metadata": {},
   "source": [
    "Проверим с помощью критерия Шапиро-Уилка, можно ли считать переменную revenue таблицы orders нормально распределённой.\n",
    "\n",
    "Сформулируем гипотезы:\n",
    "- **Нулевая гипотеза**: Переменная revenue таблицы orders распределена нормально.\n",
    "- **Альтернативная гипотеза**: Переменная revenue таблицы orders распределена не нормально."
   ]
  },
  {
   "cell_type": "code",
   "execution_count": 12,
   "metadata": {},
   "outputs": [
    {
     "name": "stdout",
     "output_type": "stream",
     "text": [
      "p-значение:  0.0\n",
      "Отвергаем нулевую гипотезу: распределение не нормально\n"
     ]
    }
   ],
   "source": [
    "alpha = 0.05  # критический уровень статистической значимости\n",
    "\n",
    "results_revenue = st.shapiro(orders['revenue'])\n",
    "p_value_revenue = results_revenue[\n",
    "    1\n",
    "]  # второе значение в массиве результатов (с индексом 1) - p-value\n",
    "\n",
    "print('p-значение: ', p_value_revenue)\n",
    "\n",
    "if p_value_revenue < alpha:\n",
    "    print('Отвергаем нулевую гипотезу: распределение не нормально')\n",
    "else:\n",
    "    print('Не получилось отвергнуть нулевую гипотезу, всё нормально') "
   ]
  },
  {
   "cell_type": "markdown",
   "metadata": {},
   "source": [
    "Таким же образом проверим переменную visitors таблицы visitors.\n",
    "\n",
    "- **Нулевая гипотеза**: Переменная visitors таблицы visitors распределена нормально.\n",
    "- **Альтернативная гипотеза**: Переменная visitors таблицы visitors распределена не нормально."
   ]
  },
  {
   "cell_type": "code",
   "execution_count": 13,
   "metadata": {},
   "outputs": [
    {
     "name": "stdout",
     "output_type": "stream",
     "text": [
      "p-значение:  0.00202026404440403\n",
      "Отвергаем нулевую гипотезу: распределение не нормально\n"
     ]
    }
   ],
   "source": [
    "results_visitors = st.shapiro(visitors['visitors'])\n",
    "p_value_visitors = results_visitors[\n",
    "    1\n",
    "]  # второе значение в массиве результатов (с индексом 1) - p-value\n",
    "\n",
    "print('p-значение: ', p_value_visitors)\n",
    "\n",
    "if p_value_visitors < alpha:\n",
    "    print('Отвергаем нулевую гипотезу: распределение не нормально')\n",
    "else:\n",
    "    print('Не получилось отвергнуть нулевую гипотезу, всё нормально') "
   ]
  },
  {
   "cell_type": "markdown",
   "metadata": {},
   "source": [
    "Обе переменные распределены не нормально."
   ]
  },
  {
   "cell_type": "markdown",
   "metadata": {},
   "source": [
    "### Графики по выручке"
   ]
  },
  {
   "cell_type": "markdown",
   "metadata": {},
   "source": [
    "Выясним даты проведения теста и количество уникальных пользователей в каждой группе, а также проверим, не пересекаются ли пользователи в этих группах."
   ]
  },
  {
   "cell_type": "code",
   "execution_count": 14,
   "metadata": {},
   "outputs": [
    {
     "name": "stdout",
     "output_type": "stream",
     "text": [
      "Начало теста: 2019-08-01 00:00:00\n",
      "Окончание теста: 2019-08-31 00:00:00\n"
     ]
    },
    {
     "data": {
      "text/html": [
       "<div>\n",
       "<style scoped>\n",
       "    .dataframe tbody tr th:only-of-type {\n",
       "        vertical-align: middle;\n",
       "    }\n",
       "\n",
       "    .dataframe tbody tr th {\n",
       "        vertical-align: top;\n",
       "    }\n",
       "\n",
       "    .dataframe thead th {\n",
       "        text-align: right;\n",
       "    }\n",
       "</style>\n",
       "<table border=\"1\" class=\"dataframe\">\n",
       "  <thead>\n",
       "    <tr style=\"text-align: right;\">\n",
       "      <th></th>\n",
       "      <th>visitor_id</th>\n",
       "    </tr>\n",
       "    <tr>\n",
       "      <th>group</th>\n",
       "      <th></th>\n",
       "    </tr>\n",
       "  </thead>\n",
       "  <tbody>\n",
       "    <tr>\n",
       "      <th>A</th>\n",
       "      <td>503</td>\n",
       "    </tr>\n",
       "    <tr>\n",
       "      <th>B</th>\n",
       "      <td>586</td>\n",
       "    </tr>\n",
       "  </tbody>\n",
       "</table>\n",
       "</div>"
      ],
      "text/plain": [
       "       visitor_id\n",
       "group            \n",
       "A             503\n",
       "B             586"
      ]
     },
     "execution_count": 14,
     "metadata": {},
     "output_type": "execute_result"
    }
   ],
   "source": [
    "print('Начало теста:', orders['date'].min()) \n",
    "print('Окончание теста:', orders['date'].max())\n",
    "orders.groupby('group').agg({'visitor_id':'nunique'})\n"
   ]
  },
  {
   "cell_type": "code",
   "execution_count": 15,
   "metadata": {},
   "outputs": [
    {
     "data": {
      "text/plain": [
       "58"
      ]
     },
     "execution_count": 15,
     "metadata": {},
     "output_type": "execute_result"
    }
   ],
   "source": [
    "common_users = list(set(orders.query('group == \"A\"')['visitor_id']).intersection(orders.query('group == \"B\"')['visitor_id']))\n",
    "len(common_users)"
   ]
  },
  {
   "cell_type": "markdown",
   "metadata": {},
   "source": [
    "В нашем тесте участвует две группы пользователей - A и B. В группе A - 503 пользователя, в группе B - 586, при этом 58 из них попали в обе группы. Чтобы исключить искажение данных, мы удалим этих пользователей из таблицы."
   ]
  },
  {
   "cell_type": "code",
   "execution_count": 16,
   "metadata": {},
   "outputs": [
    {
     "data": {
      "text/html": [
       "<div>\n",
       "<style scoped>\n",
       "    .dataframe tbody tr th:only-of-type {\n",
       "        vertical-align: middle;\n",
       "    }\n",
       "\n",
       "    .dataframe tbody tr th {\n",
       "        vertical-align: top;\n",
       "    }\n",
       "\n",
       "    .dataframe thead th {\n",
       "        text-align: right;\n",
       "    }\n",
       "</style>\n",
       "<table border=\"1\" class=\"dataframe\">\n",
       "  <thead>\n",
       "    <tr style=\"text-align: right;\">\n",
       "      <th></th>\n",
       "      <th>visitor_id</th>\n",
       "    </tr>\n",
       "    <tr>\n",
       "      <th>group</th>\n",
       "      <th></th>\n",
       "    </tr>\n",
       "  </thead>\n",
       "  <tbody>\n",
       "    <tr>\n",
       "      <th>A</th>\n",
       "      <td>445</td>\n",
       "    </tr>\n",
       "    <tr>\n",
       "      <th>B</th>\n",
       "      <td>528</td>\n",
       "    </tr>\n",
       "  </tbody>\n",
       "</table>\n",
       "</div>"
      ],
      "text/plain": [
       "       visitor_id\n",
       "group            \n",
       "A             445\n",
       "B             528"
      ]
     },
     "execution_count": 16,
     "metadata": {},
     "output_type": "execute_result"
    }
   ],
   "source": [
    "orders = orders.query('visitor_id not in @common_users')\n",
    "orders.groupby('group').agg({'visitor_id':'nunique'})"
   ]
  },
  {
   "cell_type": "markdown",
   "metadata": {},
   "source": [
    "После удаления совпадающих пользователей в группе A - 445 пользователей, а в группе B - 528.\n",
    "\n",
    "Начало теста - 2019-08-01.\n",
    "\n",
    "Окончание теста - 2019-08-31."
   ]
  },
  {
   "cell_type": "markdown",
   "metadata": {},
   "source": [
    "Построим графики кумулятивной выручки и кумулятивного среднего чека по группам, а также график относительного изменения кумулятивного среднего чека группы B к группе A, но сначала подготовим данные."
   ]
  },
  {
   "cell_type": "code",
   "execution_count": 17,
   "metadata": {},
   "outputs": [
    {
     "name": "stdout",
     "output_type": "stream",
     "text": [
      "        date group  orders  buyers  revenue  visitors\n",
      "0 2019-08-01     A      23      19   142779       719\n",
      "1 2019-08-01     B      17      17    59758       713\n",
      "2 2019-08-02     A      42      36   234381      1338\n",
      "3 2019-08-02     B      40      39   221801      1294\n",
      "4 2019-08-03     A      66      60   346854      1845\n"
     ]
    }
   ],
   "source": [
    "# создаем массив уникальных пар значений дат и групп теста\n",
    "datesGroups = orders[['date','group']].drop_duplicates()\n",
    "\n",
    "# получаем агрегированные кумулятивные по дням данные о заказах \n",
    "ordersAggregated = datesGroups.apply(lambda x: orders[np.logical_and(orders['date'] <= x['date'], orders['group'] == x['group'])].agg({'date' : 'max', 'group' : 'max', 'transaction_id' : 'nunique', 'visitor_id' : 'nunique', 'revenue' : 'sum'}), axis=1).sort_values(by=['date','group'])\n",
    "\n",
    "# получаем агрегированные кумулятивные по дням данные о посетителях интернет-магазина \n",
    "visitorsAggregated = datesGroups.apply(lambda x: visitors[np.logical_and(visitors['date'] <= x['date'], visitors['group'] == x['group'])].agg({'date' : 'max', 'group' : 'max', 'visitors' : 'sum'}), axis=1).sort_values(by=['date','group'])\n",
    "\n",
    "# объединяем кумулятивные данные в одной таблице и присваиваем ее столбцам понятные названия\n",
    "cumulativeData = ordersAggregated.merge(visitorsAggregated, left_on=['date', 'group'], right_on=['date', 'group'])\n",
    "cumulativeData.columns = ['date', 'group', 'orders', 'buyers', 'revenue', 'visitors']\n",
    "\n",
    "print(cumulativeData.head(5))\n"
   ]
  },
  {
   "cell_type": "markdown",
   "metadata": {},
   "source": [
    "Построим **график кумулятивной выручки по группам**."
   ]
  },
  {
   "cell_type": "code",
   "execution_count": 18,
   "metadata": {},
   "outputs": [
    {
     "data": {
      "image/png": "[encoded data removed]",
      "text/plain": [
       "<Figure size 1000x500 with 1 Axes>"
      ]
     },
     "metadata": {},
     "output_type": "display_data"
    }
   ],
   "source": [
    "# задаём размер сетки для графиков\n",
    "plt.figure(figsize=(10, 5))\n",
    "\n",
    "# датафрейм с кумулятивным количеством заказов и кумулятивной выручкой по дням в группе А\n",
    "cumulativeRevenueA = cumulativeData[cumulativeData['group']=='A'][['date','revenue', 'orders']]\n",
    "\n",
    "# датафрейм с кумулятивным количеством заказов и кумулятивной выручкой по дням в группе B\n",
    "cumulativeRevenueB = cumulativeData[cumulativeData['group']=='B'][['date','revenue', 'orders']]\n",
    "\n",
    "# Строим график выручки группы А\n",
    "plt.plot(cumulativeRevenueA['date'], cumulativeRevenueA['revenue'], label='A')\n",
    "\n",
    "# Строим график выручки группы B\n",
    "plt.plot(cumulativeRevenueB['date'], cumulativeRevenueB['revenue'], label='B')\n",
    "plt.title('График кумулятивной выручки по группам')\n",
    "plt.xlabel('даты')\n",
    "plt.ylabel('выручка')\n",
    "plt.legend()\n",
    "plt.show()"
   ]
  },
  {
   "cell_type": "markdown",
   "metadata": {},
   "source": [
    "Выручка группы B резко выросла во второй половине теста по сравнению с группой A, это может сигнализировать о всплесках числа заказов либо о появлении очень дорогих заказов в выборке."
   ]
  },
  {
   "cell_type": "markdown",
   "metadata": {},
   "source": [
    "Построим **график кумулятивного среднего чека по группам**."
   ]
  },
  {
   "cell_type": "code",
   "execution_count": 19,
   "metadata": {},
   "outputs": [
    {
     "data": {
      "image/png": "[encoded data removed]",
      "text/plain": [
       "<Figure size 1000x500 with 1 Axes>"
      ]
     },
     "metadata": {},
     "output_type": "display_data"
    }
   ],
   "source": [
    "# задаём размер сетки для графиков\n",
    "plt.figure(figsize=(10, 5))\n",
    "\n",
    "plt.plot(cumulativeRevenueA['date'], cumulativeRevenueA['revenue']/cumulativeRevenueA['orders'], label='A')\n",
    "plt.plot(cumulativeRevenueB['date'], cumulativeRevenueB['revenue']/cumulativeRevenueB['orders'], label='B')\n",
    "plt.title('График кумулятивного среднего чека по группам')\n",
    "plt.xlabel('даты')\n",
    "plt.ylabel('средний чек')\n",
    "plt.legend()\n",
    "plt.show()"
   ]
  },
  {
   "cell_type": "markdown",
   "metadata": {},
   "source": [
    "Средний чек для группы A установился на одном уровне, а для группы B резко вырос во второй половине теста и постепенно падает. Возможно, в группу B во второй половине теста попали крупные заказы, тогда ей нужно больше данных, чтобы прийти к реальному среднему чеку и установиться на его уровне."
   ]
  },
  {
   "cell_type": "markdown",
   "metadata": {},
   "source": [
    "Построим **график относительного изменения кумулятивного среднего чека группы B к группе A**."
   ]
  },
  {
   "cell_type": "code",
   "execution_count": 20,
   "metadata": {},
   "outputs": [
    {
     "data": {
      "image/png": "[encoded data removed]",
      "text/plain": [
       "<Figure size 1000x500 with 1 Axes>"
      ]
     },
     "metadata": {},
     "output_type": "display_data"
    }
   ],
   "source": [
    "# задаём размер сетки для графиков\n",
    "plt.figure(figsize=(10, 5))\n",
    "\n",
    "# собираем данные в одном датафрейме\n",
    "mergedCumulativeRevenue = cumulativeRevenueA.merge(cumulativeRevenueB, left_on='date', right_on='date', how='left', suffixes=['A', 'B'])\n",
    "\n",
    "# cтроим отношение средних чеков\n",
    "plt.plot(mergedCumulativeRevenue['date'], (mergedCumulativeRevenue['revenueB']/mergedCumulativeRevenue['ordersB'])/(mergedCumulativeRevenue['revenueA']/mergedCumulativeRevenue['ordersA'])-1)\n",
    "\n",
    "# добавляем ось X\n",
    "plt.axhline(y=0, color='black', linestyle='--')\n",
    "\n",
    "plt.title('График относительного изменения кумулятивного среднего чека группы B к группе A')\n",
    "plt.xlabel('даты')\n",
    "plt.ylabel('относительное изменение среднего чека')\n",
    "plt.show()"
   ]
  },
  {
   "cell_type": "markdown",
   "metadata": {},
   "source": [
    "В нескольких точках график различия между сегментами резко «скачет», где-то точно спрятались крупные заказы и выбросы."
   ]
  },
  {
   "cell_type": "markdown",
   "metadata": {},
   "source": [
    "### Графики по количеству заказов"
   ]
  },
  {
   "cell_type": "markdown",
   "metadata": {},
   "source": [
    "Теперь построим графики кумулятивного среднего количества заказов на посетителя по группам и относительного изменения кумулятивного среднего количества заказов на посетителя группы B к группе A."
   ]
  },
  {
   "cell_type": "markdown",
   "metadata": {},
   "source": [
    "Построим **график кумулятивного среднего количества заказов на посетителя по группам**."
   ]
  },
  {
   "cell_type": "code",
   "execution_count": 21,
   "metadata": {},
   "outputs": [
    {
     "data": {
      "image/png": "[encoded data removed]",
      "text/plain": [
       "<Figure size 1000x500 with 1 Axes>"
      ]
     },
     "metadata": {},
     "output_type": "display_data"
    }
   ],
   "source": [
    "# считаем среднее количество заказов на посетителя\n",
    "cumulativeData['conversion'] = cumulativeData['orders']/cumulativeData['visitors']\n",
    "\n",
    "# отделяем данные по группе A\n",
    "cumulativeDataA = cumulativeData[cumulativeData['group']=='A']\n",
    "\n",
    "# отделяем данные по группе B\n",
    "cumulativeDataB = cumulativeData[cumulativeData['group']=='B']\n",
    "\n",
    "# задаём размер сетки для графиков\n",
    "plt.figure(figsize=(10, 5))\n",
    "\n",
    "# строим графики\n",
    "plt.plot(cumulativeDataA['date'], cumulativeDataA['conversion'], label='A')\n",
    "plt.plot(cumulativeDataB['date'], cumulativeDataB['conversion'], label='B')\n",
    "plt.title('График кумулятивного среднего количества заказов на посетителя по группам')\n",
    "plt.xlabel('даты')\n",
    "plt.ylabel('количество заказов')\n",
    "plt.legend()\n",
    "plt.show()"
   ]
  },
  {
   "cell_type": "markdown",
   "metadata": {},
   "source": [
    "Среднее количество заказов у группы B значительно выше, чем у группы A. Значения обеих групп зафиксировались."
   ]
  },
  {
   "cell_type": "markdown",
   "metadata": {},
   "source": [
    "Построим **график относительного изменения кумулятивного среднего количества заказов на посетителя группы B к группе A**."
   ]
  },
  {
   "cell_type": "code",
   "execution_count": 22,
   "metadata": {},
   "outputs": [
    {
     "data": {
      "image/png": "[encoded data removed]",
      "text/plain": [
       "<Figure size 1000x500 with 1 Axes>"
      ]
     },
     "metadata": {},
     "output_type": "display_data"
    }
   ],
   "source": [
    "mergedCumulativeConversions = cumulativeDataA[['date','conversion']].merge(cumulativeDataB[['date','conversion']], left_on='date', right_on='date', how='left', suffixes=['A', 'B'])\n",
    "\n",
    "# задаём размер сетки для графиков\n",
    "plt.figure(figsize=(10, 5))\n",
    "\n",
    "plt.plot(mergedCumulativeConversions['date'], mergedCumulativeConversions['conversionB']/mergedCumulativeConversions['conversionA']-1, label=\"Относительный прирост кумулятивного среднего количества заказов на посетителя группы B относительно группы A\")\n",
    "plt.legend()\n",
    "\n",
    "plt.axhline(y=0, color='black', linestyle='--')\n",
    "plt.axhline(y=-0.1, color='grey', linestyle='--')\n",
    "\n",
    "plt.title('График относительного изменения кумулятивного среднего количества заказов на посетителя группы B к группе A')\n",
    "plt.xlabel('даты')\n",
    "plt.ylabel('относительное изменение количества заказов')\n",
    "plt.show()"
   ]
  },
  {
   "cell_type": "markdown",
   "metadata": {},
   "source": [
    "Прирост кумулятивного среднего в группе B сильно опередил группу A еще в первой половине теста, затем немного пошел на спад, все еще опережая группу A."
   ]
  },
  {
   "cell_type": "markdown",
   "metadata": {},
   "source": [
    "### Анализ выбросов и всплесков"
   ]
  },
  {
   "cell_type": "markdown",
   "metadata": {},
   "source": [
    "Построим точечный график количества заказов по пользователям и стоимостей заказов, посчитаем 95-й и 99-й перцентили и выберем границу для определения аномальных пользователей и аномальных заказов."
   ]
  },
  {
   "cell_type": "markdown",
   "metadata": {},
   "source": [
    "Построим точечную диаграмму числа заказов на одного пользователя и посчитаем выборочные перцентили."
   ]
  },
  {
   "cell_type": "code",
   "execution_count": 23,
   "metadata": {},
   "outputs": [
    {
     "name": "stdout",
     "output_type": "stream",
     "text": [
      "     visitor_id  orders\n",
      "507  2988190573       3\n",
      "376   249864742       3\n",
      "442  2742574263       3\n",
      "274  2108163459       3\n",
      "749  3967698036       3\n",
      "729  3908431265       3\n",
      "866   611059232       3\n",
      "614  3362039251       2\n",
      "907   759473111       2\n",
      "306  2232111114       2\n"
     ]
    },
    {
     "data": {
      "image/png": "[encoded data removed]",
      "text/plain": [
       "<Figure size 1000x500 with 1 Axes>"
      ]
     },
     "metadata": {},
     "output_type": "display_data"
    }
   ],
   "source": [
    "ordersByUsers = (\n",
    "    orders.groupby('visitor_id', as_index=False)\n",
    "    .agg({'transaction_id': 'nunique'})\n",
    ")\n",
    "\n",
    "ordersByUsers.columns = ['visitor_id', 'orders']\n",
    "\n",
    "print(ordersByUsers.sort_values(by='orders', ascending=False).head(10)) \n",
    "\n",
    "# задаём размер сетки для графиков\n",
    "plt.figure(figsize=(10, 5))\n",
    "\n",
    "x_values = pd.Series(range(0,len(ordersByUsers)))\n",
    "\n",
    "plt.scatter(x_values, ordersByUsers['orders']) \n",
    "plt.title('Точечная диаграмма числа заказов на одного пользователя')\n",
    "plt.xlabel('количество пользователей')\n",
    "plt.ylabel('количество заказов')\n",
    "plt.show()"
   ]
  },
  {
   "cell_type": "code",
   "execution_count": 24,
   "metadata": {
    "scrolled": false
   },
   "outputs": [
    {
     "name": "stdout",
     "output_type": "stream",
     "text": [
      "Перцентили 90, 95, 99: [1. 1. 2.]\n"
     ]
    }
   ],
   "source": [
    "print('Перцентили 90, 95, 99:', np.percentile(ordersByUsers['orders'], [90, 95, 99])) "
   ]
  },
  {
   "cell_type": "markdown",
   "metadata": {},
   "source": [
    "Не больше 5% пользователей совершали больше 1 заказа, и не больше 1% пользователей совершали больше 2 заказов. Будем считать аномальными пользователей, совершивших больше 1 заказа."
   ]
  },
  {
   "cell_type": "markdown",
   "metadata": {},
   "source": [
    "Изучим точечную диаграмму распределения стоимостей заказов."
   ]
  },
  {
   "cell_type": "code",
   "execution_count": 25,
   "metadata": {},
   "outputs": [
    {
     "data": {
      "image/png": "[encoded data removed]",
      "text/plain": [
       "<Figure size 1000x500 with 1 Axes>"
      ]
     },
     "metadata": {},
     "output_type": "display_data"
    }
   ],
   "source": [
    "# задаём размер сетки для графиков\n",
    "plt.figure(figsize=(10, 5))\n",
    "\n",
    "x_values = pd.Series(range(0,len(orders['revenue'])))\n",
    "plt.scatter(x_values, orders['revenue'])\n",
    "plt.title('Точечная диаграмма распределения стоимостей заказов')\n",
    "plt.xlabel('количество пользователей')\n",
    "plt.ylabel('стоимость')\n",
    "plt.show()"
   ]
  },
  {
   "cell_type": "markdown",
   "metadata": {},
   "source": [
    "Как мы и предполагали, есть немного дорогих заказов. Определим 90, 95 и 99 перцентили среднего чека в выборке."
   ]
  },
  {
   "cell_type": "code",
   "execution_count": 26,
   "metadata": {
    "scrolled": true
   },
   "outputs": [
    {
     "name": "stdout",
     "output_type": "stream",
     "text": [
      "[17990. 26785. 53904.]\n"
     ]
    }
   ],
   "source": [
    "print(np.percentile(orders['revenue'], [90, 95, 99]))"
   ]
  },
  {
   "cell_type": "markdown",
   "metadata": {},
   "source": [
    "Не более 5% заказов дороже 26 785 рублей и не более 1% дороже 53 904 рублей. Будем считать аномальными заказы дороже 26 785 рублей."
   ]
  },
  {
   "cell_type": "markdown",
   "metadata": {},
   "source": [
    "### Статистическая значимость"
   ]
  },
  {
   "cell_type": "markdown",
   "metadata": {},
   "source": [
    "#### Различия по «сырым» данным"
   ]
  },
  {
   "cell_type": "markdown",
   "metadata": {},
   "source": [
    "Посчитаем статистическую значимость различий в среднем числе заказов на пользователя и среднем чеке между группами по «сырым» данным — без удаления аномальных пользователей.\n",
    "\n",
    "Будем использовать критерий Манна-Уитни, поскольку наши переменные распределены не нормально, а значит, алгебраические метрики будут работать плохо, одно выбивающееся значение может существенно повлиять на результат. Критерий Манна-Уитни основан на структурном подходе и работает с рангами, никак не учитывая сами значения.\n",
    "\n",
    "Сформулируем гипотезы:\n",
    "- **Нулевая гипотеза**: различий в среднем количестве заказов на пользователя между группами нет. \n",
    "- **Альтернативная гипотеза**: различия в среднем количестве заказов на пользователя между группами есть."
   ]
  },
  {
   "cell_type": "code",
   "execution_count": 27,
   "metadata": {},
   "outputs": [
    {
     "name": "stdout",
     "output_type": "stream",
     "text": [
      "p-value: 0.011\n",
      "Относительный прирост среднего числа заказов группы B: 0.160\n"
     ]
    }
   ],
   "source": [
    "# для пользователей, которые заказывали хотя бы 1 раз, укажем число совершённых заказов\n",
    "ordersByUsersA = (\n",
    "    orders[orders['group'] == 'A']\n",
    "    .groupby('visitor_id', as_index=False)\n",
    "    .agg({'transaction_id': pd.Series.nunique})\n",
    ")\n",
    "ordersByUsersA.columns = ['visitor_id', 'orders']\n",
    "\n",
    "ordersByUsersB = (\n",
    "    orders[orders['group'] == 'B']\n",
    "    .groupby('visitor_id', as_index=False)\n",
    "    .agg({'transaction_id': pd.Series.nunique})\n",
    ")\n",
    "ordersByUsersB.columns = ['visitor_id', 'orders']\n",
    "\n",
    "# Объявим переменные, в которых пользователям из разных групп будет соответствовать количество заказов\n",
    "sampleA = pd.concat(\n",
    "    [\n",
    "        ordersByUsersA['orders'],\n",
    "        pd.Series(\n",
    "            0,\n",
    "            index=np.arange(\n",
    "                visitors.query('group == \"A\"')['visitors'].sum() - len(ordersByUsersA['orders'])\n",
    "            ),\n",
    "            name='orders',\n",
    "        ),\n",
    "    ],\n",
    "    axis=0,\n",
    ")\n",
    "\n",
    "sampleB = pd.concat(\n",
    "    [\n",
    "        ordersByUsersB['orders'],\n",
    "        pd.Series(\n",
    "            0,\n",
    "            index=np.arange(\n",
    "                visitors.query('group == \"B\"')['visitors'].sum() - len(ordersByUsersB['orders'])\n",
    "            ),\n",
    "            name='orders',\n",
    "        ),\n",
    "    ],\n",
    "    axis=0,\n",
    ")\n",
    "\n",
    "# Применим критерий Манна-Уитни и отформатируем p-value, округлив его до трёх знаков после запятой\n",
    "print('p-value:', \"{0:.3f}\".format(st.mannwhitneyu(sampleA, sampleB)[1]))\n",
    "\n",
    "print('Относительный прирост среднего числа заказов группы B:', \"{0:.3f}\".format(sampleB.mean() / sampleA.mean() - 1))\n"
   ]
  },
  {
   "cell_type": "markdown",
   "metadata": {},
   "source": [
    "Первое число — p-value = 0.011 меньше 0.05. Значит, нулевую гипотезу о том, что статистически значимых различий в среднем числе заказов на пользователя между группами нет, отвергаем. Относительный рост группы B равен 16% — второе число в выводе."
   ]
  },
  {
   "cell_type": "markdown",
   "metadata": {},
   "source": [
    "Теперь проверим статистическую значимость различий в среднем чеке между сегментами.\n",
    "- **Нулевая гипотеза**: различий в среднем чеке между группами нет. \n",
    "- **Альтернативная гипотеза**: различия в среднем чеке между группами есть."
   ]
  },
  {
   "cell_type": "code",
   "execution_count": 28,
   "metadata": {},
   "outputs": [
    {
     "name": "stdout",
     "output_type": "stream",
     "text": [
      "p-value: 0.829\n",
      "Относительный прирост среднего чека группы B: 0.287\n"
     ]
    }
   ],
   "source": [
    "print('p-value:', '{0:.3f}'.format(st.mannwhitneyu(orders[orders['group']=='A']['revenue'], orders[orders['group']=='B']['revenue'])[1]))\n",
    "print('Относительный прирост среднего чека группы B:', '{0:.3f}'.format(orders[orders['group']=='B']['revenue'].mean()/orders[orders['group']=='A']['revenue'].mean()-1))"
   ]
  },
  {
   "cell_type": "markdown",
   "metadata": {},
   "source": [
    "P-value значительно больше 0.05. Значит, причин отвергать нулевую гипотезу и считать, что в среднем чеке есть различия, нет. Впрочем, средний чек группы B значительно выше среднего чека группы A."
   ]
  },
  {
   "cell_type": "markdown",
   "metadata": {},
   "source": [
    "#### Различия по «очищенным» данным"
   ]
  },
  {
   "cell_type": "markdown",
   "metadata": {},
   "source": [
    "Теперь посчитаем статистическую значимость различий в среднем числе заказов на пользователя и среднем чеке между группами по «очищенным» данным.\n",
    "\n",
    "Узнаем, сколько всего аномальный пользователей."
   ]
  },
  {
   "cell_type": "code",
   "execution_count": 29,
   "metadata": {},
   "outputs": [
    {
     "name": "stdout",
     "output_type": "stream",
     "text": [
      "551     1010866419\n",
      "568      113298937\n",
      "1103    1164614297\n",
      "137     1211585711\n",
      "1136    1307669133\n",
      "Name: visitor_id, dtype: object\n",
      "86\n"
     ]
    }
   ],
   "source": [
    "usersWithManyOrders = pd.concat(\n",
    "    [\n",
    "        ordersByUsersA[ordersByUsersA['orders'] > np.percentile(ordersByUsers['orders'], 95)]['visitor_id'],\n",
    "        ordersByUsersB[ordersByUsersB['orders'] > np.percentile(ordersByUsers['orders'], 95)]['visitor_id'],\n",
    "    ],\n",
    "    axis=0,\n",
    ")\n",
    "usersWithExpensiveOrders = orders[orders['revenue'] > np.percentile(orders['revenue'], 95)]['visitor_id']\n",
    "abnormalUsers = (\n",
    "    pd.concat([usersWithManyOrders, usersWithExpensiveOrders], axis=0)\n",
    "    .drop_duplicates()\n",
    "    .sort_values()\n",
    ")\n",
    "print(abnormalUsers.head(5))\n",
    "print(abnormalUsers.shape[0])"
   ]
  },
  {
   "cell_type": "code",
   "execution_count": 30,
   "metadata": {},
   "outputs": [
    {
     "data": {
      "text/plain": [
       "8.84"
      ]
     },
     "execution_count": 30,
     "metadata": {},
     "output_type": "execute_result"
    }
   ],
   "source": [
    "round(len(abnormalUsers)/orders['visitor_id'].nunique()*100, 2)"
   ]
  },
  {
   "cell_type": "markdown",
   "metadata": {},
   "source": [
    "Всего 86 аномальных пользователей, это 8,84% от общего количества пользователей."
   ]
  },
  {
   "cell_type": "markdown",
   "metadata": {},
   "source": [
    "Узнаем, как их действия повлияли на результаты теста. Сначала подготовим выборки количества заказов по пользователям по группам теста."
   ]
  },
  {
   "cell_type": "code",
   "execution_count": 31,
   "metadata": {},
   "outputs": [],
   "source": [
    "sampleAFiltered = pd.concat(\n",
    "    [\n",
    "        ordersByUsersA[\n",
    "            np.logical_not(ordersByUsersA['visitor_id'].isin(abnormalUsers))\n",
    "        ]['orders'],\n",
    "        pd.Series(\n",
    "            0,\n",
    "            index=np.arange(\n",
    "                visitors.query('group == \"A\"')['visitors'].sum() - len(ordersByUsersA['orders'])\n",
    "            ),\n",
    "            name='orders',\n",
    "        ),\n",
    "    ],\n",
    "    axis=0,\n",
    ")\n",
    "\n",
    "sampleBFiltered = pd.concat(\n",
    "    [\n",
    "        ordersByUsersB[\n",
    "            np.logical_not(ordersByUsersB['visitor_id'].isin(abnormalUsers))\n",
    "        ]['orders'],\n",
    "        pd.Series(\n",
    "            0,\n",
    "            index=np.arange(\n",
    "                visitors.query('group == \"B\"')['visitors'].sum() - len(ordersByUsersB['orders'])\n",
    "            ),\n",
    "            name='orders',\n",
    "        ),\n",
    "    ],\n",
    "    axis=0,\n",
    ")\n",
    "\n"
   ]
  },
  {
   "cell_type": "markdown",
   "metadata": {},
   "source": [
    "Применим статистический критерий Манна-Уитни к полученным выборкам."
   ]
  },
  {
   "cell_type": "code",
   "execution_count": 32,
   "metadata": {},
   "outputs": [
    {
     "name": "stdout",
     "output_type": "stream",
     "text": [
      "p-value: 0.016\n",
      "Относительный прирост среднего числа заказов группы B: 0.174\n"
     ]
    }
   ],
   "source": [
    "print('p-value:', '{0:.3f}'.format(st.mannwhitneyu(sampleAFiltered, sampleBFiltered)[1]))\n",
    "print('Относительный прирост среднего числа заказов группы B:', '{0:.3f}'.format(sampleBFiltered.mean()/sampleAFiltered.mean()-1))"
   ]
  },
  {
   "cell_type": "markdown",
   "metadata": {},
   "source": [
    "P-value и относительный рост группы B стали немного выше."
   ]
  },
  {
   "cell_type": "code",
   "execution_count": 33,
   "metadata": {},
   "outputs": [
    {
     "name": "stdout",
     "output_type": "stream",
     "text": [
      "p-value: 0.727\n",
      "Относительный прирост среднего чека группы B: -0.034\n"
     ]
    }
   ],
   "source": [
    "print(\n",
    "    'p-value:', '{0:.3f}'.format(\n",
    "        st.mannwhitneyu(\n",
    "            orders[\n",
    "                np.logical_and(\n",
    "                    orders['group'] == 'A',\n",
    "                    np.logical_not(orders['visitor_id'].isin(abnormalUsers)),\n",
    "                )\n",
    "            ]['revenue'],\n",
    "            orders[\n",
    "                np.logical_and(\n",
    "                    orders['group'] == 'B',\n",
    "                    np.logical_not(orders['visitor_id'].isin(abnormalUsers)),\n",
    "                )\n",
    "            ]['revenue'],\n",
    "        )[1]\n",
    "    )\n",
    ")\n",
    "\n",
    "print(\n",
    "    'Относительный прирост среднего чека группы B:', \"{0:.3f}\".format(\n",
    "        orders[\n",
    "            np.logical_and(\n",
    "                orders['group'] == 'B',\n",
    "                np.logical_not(orders['visitor_id'].isin(abnormalUsers)),\n",
    "            )\n",
    "        ]['revenue'].mean()\n",
    "        / orders[\n",
    "            np.logical_and(\n",
    "                orders['group'] == 'A',\n",
    "                np.logical_not(orders['visitor_id'].isin(abnormalUsers)),\n",
    "            )\n",
    "        ]['revenue'].mean()\n",
    "        - 1\n",
    "    )\n",
    ")"
   ]
  },
  {
   "cell_type": "markdown",
   "metadata": {},
   "source": [
    "P-value стал ниже, а относительный прирост среднего чека группы B даже стал отрицательным: -3,4%."
   ]
  },
  {
   "cell_type": "markdown",
   "metadata": {},
   "source": [
    "### Промежуточный вывод"
   ]
  },
  {
   "cell_type": "markdown",
   "metadata": {},
   "source": [
    "- Мы проверили с помощью **критерия Шапиро-Уилка** переменные revenue таблицы orders и visitors таблицы visitors. Обе переменные распределены не нормально.\n",
    "- Построив **графики по выручке**, мы увидели, что:\n",
    "   - Выручка группы B резко выросла во второй половине теста по сравнению с группой A, это может сигнализировать о всплесках числа заказов либо о появлении очень дорогих заказов в выборке.\n",
    "   - Средний чек для группы A установился на одном уровне, а для группы B резко вырос во второй половине теста и постепенно падает. Возможно, в группу B во второй половине теста попали крупные заказы, тогда ей нужно больше данных, чтобы прийти к реальному среднему чеку и установиться на его уровне.\n",
    "   - В нескольких точках график различия между сегментами резко «скачет», где-то точно спрятались крупные заказы и выбросы.\n",
    "- Рассмотрев **графики по количеству заказов**, мы выяснили, что:\n",
    "   - Среднее количество заказов у группы B значительно выше, чем у группы A. Значения обеих групп зафиксировались.\n",
    "   - Прирост кумулятивного среднего в группе B сильно опередил группу A еще в первой половине теста, затем немного пошел на спад, все еще опережая группу A.\n",
    "- Провели **анализ выбросов и всплесков**:\n",
    "   - Не больше 5% пользователей совершали больше 1 заказа, и не больше 1% пользователей совершали больше 2 заказов. Будем считать аномальными пользователей, совершивших больше 1 заказа.\n",
    "   - Не более 5% заказов дороже 26 785 рублей и не более 1% дороже 53 904 рублей. Будем считать аномальными заказы дороже 26 785 рублей.\n",
    "- Посчитали **статистическую значимость по «сырым» данным**:\n",
    "   - Сформулировали гипотезы для среднего количества заказов:\n",
    "      - ***Нулевая гипотеза***: различий в среднем количестве заказов на пользователя между группами нет.\n",
    "      - ***Альтернативная гипотеза***: различия в среднем количестве заказов на пользователя между группами есть.\n",
    "   - P-value = 0.011 меньше 0.05. Значит, нулевую гипотезу о том, что статистически значимых различий в среднем числе заказов на пользователя между группами нет, отвергаем. Относительный рост группы B равен 16%.\n",
    "   - Сформулировали гипотезы для среднего чека:\n",
    "      - ***Нулевая гипотеза***: различий в среднем чеке между группами нет.\n",
    "      - ***Альтернативная гипотеза***: различия в среднем чеке между группами есть.\n",
    "   - P-value значительно больше 0.05. Значит, причин отвергать нулевую гипотезу и считать, что в среднем чеке есть различия, нет. Впрочем, средний чек группы B значительно выше среднего чека группы A.\n",
    "- Посчитали **статистическую значимость по «очищенным» данным**.\n",
    "   - По среднему числу заказов: P-value и относительный рост группы B стали немного выше. Нулевую гипотезу все так же отвергаем, различия в группах есть.\n",
    "   - По среднему чеку: P-value стал ниже, а относительный прирост среднего чека группы B даже стал отрицательным: -3,4%. Нулевую гипотезу не отвергаем, различий в группах нет.\n",
    "\n",
    "**В итоге мы имеем следующие факты**:\n",
    "- Есть статистически значимое различие по среднему количеству заказов между группами как по «сырым», так и по данным после фильтрации аномалий;\n",
    "- Нет статистически значимого различия по среднему чеку между группами ни по «сырым», ни по данным после фильтрации аномалий;\n",
    "- График различия среднего количества заказов на посетителя между группами сообщает, что результаты группы B лучше группы A, и значения зафиксировались.\n",
    "- График различия среднего чека говорит о том, что результаты группы B лучше группы A, но постепенно идут на спад.\n",
    "\n",
    "Исходя из обнаруженных фактов, результаты группы B значительно превосходят группу A."
   ]
  },
  {
   "cell_type": "markdown",
   "metadata": {},
   "source": [
    "## Общий вывод"
   ]
  },
  {
   "cell_type": "markdown",
   "metadata": {},
   "source": [
    "В этом проекте мы **познакомились с данными**:\n",
    "- 9 гипотез с показателями Reach, Impact, Confidence, Efforts;\n",
    "- заказы, совершенные пользователями из разных групп A/B-теста, на 1197 строк;\n",
    "- группы A/B-теста и количество пользователей на 62 строки.\n",
    "\n",
    "Провели **предобработку данных**:\n",
    "- скорректировали названия столбцов в «змеином» регистре;\n",
    "- проверили и скорректировали типы данных в столбцах transaction_id и visitor_id таблицы orders на object и в столбцах date таблиц orders и visitors на datetime64;\n",
    "- проверили данные на наличие пропущенных значений и дубликатов, их не обнаружилось.\n",
    "\n",
    "**Приоритизировали гипотезы**:\n",
    "- В фреймворке RICE в отличие от ICE добавляется параметр Reach, то есть скольких пользователей затронет изменение.\n",
    "Если в гипотезах `Запустить акцию, дающую скидку на товар в день рождения` и `Добавить два новых канала привлечения трафика, что позволит привлекать на 30% больше пользователей` высокие оценки в Impact и Confidence, что выводит их в топ, когда мы применяем ICE, то в гипотезах `Добавить форму подписки на все основные страницы, чтобы собрать базу клиентов для email-рассылок` и `Добавить блоки рекомендаций товаров на сайт интернет магазина, чтобы повысить конверсию и средний чек заказа` высокая оценка у параметра Reach, то есть охват пользователей значительно выше, чем у первых двух. При этом у гипотезы `Добавить форму подписки на все основные страницы, чтобы собрать базу клиентов для email-рассылок` высокие оценки также в Impact и Confidence, что выводит ее в топ при применении обоих фреймворков.\n",
    "- Можно сделать вывод, что в первую очередь стоит обратить внимание на гипотезу - `Добавить форму подписки на все основные страницы, чтобы собрать базу клиентов для email-рассылок`.\n",
    "\n",
    "**Провели A/B-тест**:\n",
    "- Мы проверили с помощью **критерия Шапиро-Уилка** переменные revenue таблицы orders и visitors таблицы visitors. Обе переменные распределены не нормально.\n",
    "- Построив **графики по выручке**, мы увидели, что:\n",
    "   - Выручка группы B резко выросла во второй половине теста по сравнению с группой A, это может сигнализировать о всплесках числа заказов либо о появлении очень дорогих заказов в выборке.\n",
    "   - Средний чек для группы A установился на одном уровне, а для группы B резко вырос во второй половине теста и постепенно падает. Возможно, в группу B во второй половине теста попали крупные заказы, тогда ей нужно больше данных, чтобы прийти к реальному среднему чеку и установиться на его уровне.\n",
    "   - В нескольких точках график различия между сегментами резко «скачет», где-то точно спрятались крупные заказы и выбросы.\n",
    "- Рассмотрев **графики по количеству заказов**, мы выяснили, что:\n",
    "   - Среднее количество заказов у группы B значительно выше, чем у группы A. Значения обеих групп зафиксировались.\n",
    "   - Прирост кумулятивного среднего в группе B сильно опередил группу A еще в первой половине теста, затем немного пошел на спад, все еще опережая группу A.\n",
    "- Провели **анализ выбросов и всплесков**:\n",
    "   - Не больше 5% пользователей совершали больше 1 заказа, и не больше 1% пользователей совершали больше 2 заказов. Будем считать аномальными пользователей, совершивших больше 1 заказа.\n",
    "   - Не более 5% заказов дороже 26 785 рублей и не более 1% дороже 53 904 рублей. Будем считать аномальными заказы дороже 26 785 рублей.\n",
    "- Посчитали **статистическую значимость по «сырым» данным**:\n",
    "   - Сформулировали гипотезы для среднего количества заказов:\n",
    "      - ***Нулевая гипотеза***: различий в среднем количестве заказов на пользователя между группами нет.\n",
    "      - ***Альтернативная гипотеза***: различия в среднем количестве заказов на пользователя между группами есть.\n",
    "   - P-value = 0.011 меньше 0.05. Значит, нулевую гипотезу о том, что статистически значимых различий в среднем числе заказов на пользователя между группами нет, отвергаем. Относительный рост группы B равен 16%.\n",
    "   - Сформулировали гипотезы для среднего чека:\n",
    "      - ***Нулевая гипотеза***: различий в среднем чеке между группами нет.\n",
    "      - ***Альтернативная гипотеза***: различия в среднем чеке между группами есть.\n",
    "   - P-value значительно больше 0.05. Значит, причин отвергать нулевую гипотезу и считать, что в среднем чеке есть различия, нет. Впрочем, средний чек группы B значительно выше среднего чека группы A.\n",
    "- Посчитали **статистическую значимость по «очищенным» данным**.\n",
    "   - По среднему числу заказов: P-value и относительный рост группы B стали немного выше. Нулевую гипотезу все так же отвергаем, различия в группах есть.\n",
    "   - По среднему чеку: P-value стал ниже, а относительный прирост среднего чека группы B даже стал отрицательным: -3,4%. Нулевую гипотезу не отвергаем, различий в группах нет.\n",
    "\n",
    "**В итоге мы имеем следующие факты**:\n",
    "- Есть статистически значимое различие по среднему количеству заказов между группами как по «сырым», так и по данным после фильтрации аномалий;\n",
    "- Нет статистически значимого различия по среднему чеку между группами ни по «сырым», ни по данным после фильтрации аномалий;\n",
    "- График различия среднего количества заказов на посетителя между группами сообщает, что результаты группы B лучше группы A, и значения зафиксировались.\n",
    "- График различия среднего чека говорит о том, что результаты группы B лучше группы A, но постепенно идут на спад.\n",
    "\n",
    "Исходя из обнаруженных фактов, результаты группы B значительно превосходят группу A."
   ]
  }
 ],
 "metadata": {
  "ExecuteTimeLog": [
   {
    "duration": 2907,
    "start_time": "2024-01-05T10:06:15.430Z"
   },
   {
    "duration": 1339,
    "start_time": "2024-01-05T10:06:33.667Z"
   },
   {
    "duration": 220,
    "start_time": "2024-01-05T10:08:51.992Z"
   },
   {
    "duration": 2223,
    "start_time": "2024-01-05T10:50:13.478Z"
   },
   {
    "duration": 1104,
    "start_time": "2024-01-05T10:50:15.703Z"
   },
   {
    "duration": 106,
    "start_time": "2024-01-05T10:50:16.808Z"
   },
   {
    "duration": 16,
    "start_time": "2024-01-05T11:28:21.469Z"
   },
   {
    "duration": 10,
    "start_time": "2024-01-05T11:29:55.612Z"
   },
   {
    "duration": 8,
    "start_time": "2024-01-05T11:29:59.197Z"
   },
   {
    "duration": 4,
    "start_time": "2024-01-05T11:59:38.342Z"
   },
   {
    "duration": 5,
    "start_time": "2024-01-05T11:59:59.970Z"
   },
   {
    "duration": 5,
    "start_time": "2024-01-05T12:03:01.581Z"
   },
   {
    "duration": 2207,
    "start_time": "2024-01-05T12:07:11.890Z"
   },
   {
    "duration": 1106,
    "start_time": "2024-01-05T12:07:14.099Z"
   },
   {
    "duration": 106,
    "start_time": "2024-01-05T12:07:15.207Z"
   },
   {
    "duration": 10,
    "start_time": "2024-01-05T12:07:15.315Z"
   },
   {
    "duration": 21,
    "start_time": "2024-01-05T12:07:15.327Z"
   },
   {
    "duration": 19,
    "start_time": "2024-01-05T12:07:15.350Z"
   },
   {
    "duration": 18,
    "start_time": "2024-01-05T12:07:15.370Z"
   },
   {
    "duration": 10,
    "start_time": "2024-01-05T12:09:13.523Z"
   },
   {
    "duration": 2162,
    "start_time": "2024-01-05T12:09:42.347Z"
   },
   {
    "duration": 1088,
    "start_time": "2024-01-05T12:09:44.511Z"
   },
   {
    "duration": 107,
    "start_time": "2024-01-05T12:09:45.600Z"
   },
   {
    "duration": 12,
    "start_time": "2024-01-05T12:09:45.708Z"
   },
   {
    "duration": 17,
    "start_time": "2024-01-05T12:09:45.722Z"
   },
   {
    "duration": 20,
    "start_time": "2024-01-05T12:09:45.741Z"
   },
   {
    "duration": 15,
    "start_time": "2024-01-05T12:09:45.763Z"
   },
   {
    "duration": 7,
    "start_time": "2024-01-05T12:28:51.611Z"
   },
   {
    "duration": 6,
    "start_time": "2024-01-05T12:30:13.995Z"
   },
   {
    "duration": 8,
    "start_time": "2024-01-05T12:31:54.612Z"
   },
   {
    "duration": 20,
    "start_time": "2024-01-05T12:34:03.055Z"
   },
   {
    "duration": 22,
    "start_time": "2024-01-05T12:37:30.179Z"
   },
   {
    "duration": 2184,
    "start_time": "2024-01-05T12:39:19.188Z"
   },
   {
    "duration": 1112,
    "start_time": "2024-01-05T12:39:21.374Z"
   },
   {
    "duration": 108,
    "start_time": "2024-01-05T12:39:22.487Z"
   },
   {
    "duration": 11,
    "start_time": "2024-01-05T12:39:22.597Z"
   },
   {
    "duration": 44,
    "start_time": "2024-01-05T12:39:22.609Z"
   },
   {
    "duration": 20,
    "start_time": "2024-01-05T12:39:22.654Z"
   },
   {
    "duration": 5,
    "start_time": "2024-01-05T12:39:22.675Z"
   },
   {
    "duration": 15,
    "start_time": "2024-01-05T12:39:22.681Z"
   },
   {
    "duration": 6,
    "start_time": "2024-01-05T12:39:22.698Z"
   },
   {
    "duration": 10,
    "start_time": "2024-01-05T12:39:22.705Z"
   },
   {
    "duration": 7,
    "start_time": "2024-01-05T12:39:22.716Z"
   },
   {
    "duration": 2932,
    "start_time": "2024-01-06T11:16:39.049Z"
   },
   {
    "duration": 1327,
    "start_time": "2024-01-06T11:16:41.983Z"
   },
   {
    "duration": 218,
    "start_time": "2024-01-06T11:16:43.311Z"
   },
   {
    "duration": 12,
    "start_time": "2024-01-06T11:16:43.531Z"
   },
   {
    "duration": 22,
    "start_time": "2024-01-06T11:16:43.544Z"
   },
   {
    "duration": 33,
    "start_time": "2024-01-06T11:16:43.567Z"
   },
   {
    "duration": 7,
    "start_time": "2024-01-06T11:16:43.601Z"
   },
   {
    "duration": 9,
    "start_time": "2024-01-06T11:16:43.609Z"
   },
   {
    "duration": 7,
    "start_time": "2024-01-06T11:16:43.619Z"
   },
   {
    "duration": 8,
    "start_time": "2024-01-06T11:16:43.629Z"
   },
   {
    "duration": 44,
    "start_time": "2024-01-06T11:16:43.638Z"
   },
   {
    "duration": 10,
    "start_time": "2024-01-06T11:16:43.684Z"
   },
   {
    "duration": 4,
    "start_time": "2024-01-06T11:21:46.556Z"
   },
   {
    "duration": 4,
    "start_time": "2024-01-06T11:21:49.297Z"
   },
   {
    "duration": 393,
    "start_time": "2024-01-06T11:29:15.882Z"
   },
   {
    "duration": 2455,
    "start_time": "2024-01-06T11:29:56.373Z"
   },
   {
    "duration": 1085,
    "start_time": "2024-01-06T11:29:58.830Z"
   },
   {
    "duration": 108,
    "start_time": "2024-01-06T11:29:59.917Z"
   },
   {
    "duration": 13,
    "start_time": "2024-01-06T11:30:00.028Z"
   },
   {
    "duration": 58,
    "start_time": "2024-01-06T11:30:00.042Z"
   },
   {
    "duration": 47,
    "start_time": "2024-01-06T11:30:00.102Z"
   },
   {
    "duration": 18,
    "start_time": "2024-01-06T11:30:00.151Z"
   },
   {
    "duration": 39,
    "start_time": "2024-01-06T11:30:00.170Z"
   },
   {
    "duration": 53,
    "start_time": "2024-01-06T11:30:00.210Z"
   },
   {
    "duration": 24,
    "start_time": "2024-01-06T11:30:00.265Z"
   },
   {
    "duration": 71,
    "start_time": "2024-01-06T11:30:00.291Z"
   },
   {
    "duration": 30,
    "start_time": "2024-01-06T11:30:00.364Z"
   },
   {
    "duration": 41,
    "start_time": "2024-01-06T11:30:00.396Z"
   },
   {
    "duration": 439,
    "start_time": "2024-01-06T11:30:00.439Z"
   },
   {
    "duration": 28,
    "start_time": "2024-01-06T11:30:35.035Z"
   },
   {
    "duration": 270,
    "start_time": "2024-01-06T11:31:55.253Z"
   },
   {
    "duration": 247,
    "start_time": "2024-01-06T11:33:51.061Z"
   },
   {
    "duration": 198,
    "start_time": "2024-01-06T11:35:04.168Z"
   },
   {
    "duration": 188,
    "start_time": "2024-01-06T11:35:11.023Z"
   },
   {
    "duration": 170,
    "start_time": "2024-01-06T11:41:36.469Z"
   },
   {
    "duration": 191,
    "start_time": "2024-01-06T11:41:51.246Z"
   },
   {
    "duration": 293,
    "start_time": "2024-01-06T11:47:49.772Z"
   },
   {
    "duration": 194,
    "start_time": "2024-01-06T11:57:41.990Z"
   },
   {
    "duration": 183,
    "start_time": "2024-01-06T11:58:18.609Z"
   },
   {
    "duration": 262,
    "start_time": "2024-01-06T11:58:51.304Z"
   },
   {
    "duration": 290,
    "start_time": "2024-01-06T12:03:36.021Z"
   },
   {
    "duration": 5,
    "start_time": "2024-01-06T12:04:14.462Z"
   },
   {
    "duration": 3,
    "start_time": "2024-01-06T12:04:30.479Z"
   },
   {
    "duration": 211,
    "start_time": "2024-01-06T12:05:06.752Z"
   },
   {
    "duration": 199,
    "start_time": "2024-01-06T12:05:11.936Z"
   },
   {
    "duration": 288,
    "start_time": "2024-01-06T12:05:16.930Z"
   },
   {
    "duration": 330,
    "start_time": "2024-01-06T12:05:51.969Z"
   },
   {
    "duration": 126,
    "start_time": "2024-01-06T12:22:39.929Z"
   },
   {
    "duration": 92,
    "start_time": "2024-01-06T12:23:25.953Z"
   },
   {
    "duration": 11,
    "start_time": "2024-01-06T12:23:32.218Z"
   },
   {
    "duration": 8,
    "start_time": "2024-01-06T12:23:40.178Z"
   },
   {
    "duration": 143,
    "start_time": "2024-01-06T12:23:59.779Z"
   },
   {
    "duration": 146,
    "start_time": "2024-01-06T12:25:26.884Z"
   },
   {
    "duration": 143,
    "start_time": "2024-01-06T12:25:56.452Z"
   },
   {
    "duration": 132,
    "start_time": "2024-01-06T12:26:00.716Z"
   },
   {
    "duration": 5,
    "start_time": "2024-01-06T12:30:37.433Z"
   },
   {
    "duration": 294,
    "start_time": "2024-01-06T12:33:54.556Z"
   },
   {
    "duration": 8,
    "start_time": "2024-01-06T12:34:37.404Z"
   },
   {
    "duration": 119,
    "start_time": "2024-01-06T12:36:06.551Z"
   },
   {
    "duration": 127,
    "start_time": "2024-01-06T12:36:32.440Z"
   },
   {
    "duration": 203,
    "start_time": "2024-01-06T12:36:52.367Z"
   },
   {
    "duration": 112,
    "start_time": "2024-01-06T12:37:22.633Z"
   },
   {
    "duration": 221,
    "start_time": "2024-01-06T12:51:11.743Z"
   },
   {
    "duration": 225,
    "start_time": "2024-01-06T12:52:00.031Z"
   },
   {
    "duration": 213,
    "start_time": "2024-01-06T12:56:28.840Z"
   },
   {
    "duration": 155,
    "start_time": "2024-01-06T13:09:14.171Z"
   },
   {
    "duration": 188,
    "start_time": "2024-01-06T13:09:24.266Z"
   },
   {
    "duration": 230,
    "start_time": "2024-01-06T13:09:53.115Z"
   },
   {
    "duration": 166,
    "start_time": "2024-01-06T13:10:02.011Z"
   },
   {
    "duration": 10,
    "start_time": "2024-01-06T13:19:16.660Z"
   },
   {
    "duration": 11,
    "start_time": "2024-01-06T13:19:21.308Z"
   },
   {
    "duration": 5,
    "start_time": "2024-01-06T13:29:57.759Z"
   },
   {
    "duration": 1206,
    "start_time": "2024-01-06T13:33:47.708Z"
   },
   {
    "duration": 2533,
    "start_time": "2024-01-06T13:34:24.490Z"
   },
   {
    "duration": 1111,
    "start_time": "2024-01-06T13:34:27.025Z"
   },
   {
    "duration": 106,
    "start_time": "2024-01-06T13:34:28.137Z"
   },
   {
    "duration": 12,
    "start_time": "2024-01-06T13:34:28.245Z"
   },
   {
    "duration": 24,
    "start_time": "2024-01-06T13:34:28.259Z"
   },
   {
    "duration": 21,
    "start_time": "2024-01-06T13:34:28.284Z"
   },
   {
    "duration": 6,
    "start_time": "2024-01-06T13:34:28.307Z"
   },
   {
    "duration": 12,
    "start_time": "2024-01-06T13:34:28.315Z"
   },
   {
    "duration": 7,
    "start_time": "2024-01-06T13:34:28.328Z"
   },
   {
    "duration": 21,
    "start_time": "2024-01-06T13:34:28.337Z"
   },
   {
    "duration": 7,
    "start_time": "2024-01-06T13:34:28.359Z"
   },
   {
    "duration": 4,
    "start_time": "2024-01-06T13:34:28.382Z"
   },
   {
    "duration": 8,
    "start_time": "2024-01-06T13:34:28.387Z"
   },
   {
    "duration": 295,
    "start_time": "2024-01-06T13:34:28.397Z"
   },
   {
    "duration": 274,
    "start_time": "2024-01-06T13:34:28.694Z"
   },
   {
    "duration": 198,
    "start_time": "2024-01-06T13:34:28.969Z"
   },
   {
    "duration": 300,
    "start_time": "2024-01-06T13:34:29.169Z"
   },
   {
    "duration": 220,
    "start_time": "2024-01-06T13:34:29.471Z"
   },
   {
    "duration": 314,
    "start_time": "2024-01-06T13:34:29.693Z"
   },
   {
    "duration": 128,
    "start_time": "2024-01-06T13:34:30.008Z"
   },
   {
    "duration": 155,
    "start_time": "2024-01-06T13:34:30.138Z"
   },
   {
    "duration": 4,
    "start_time": "2024-01-06T13:34:30.295Z"
   },
   {
    "duration": 234,
    "start_time": "2024-01-06T13:34:30.301Z"
   },
   {
    "duration": 199,
    "start_time": "2024-01-06T13:34:30.537Z"
   },
   {
    "duration": 11,
    "start_time": "2024-01-06T13:34:30.738Z"
   },
   {
    "duration": 44,
    "start_time": "2024-01-06T13:34:30.750Z"
   },
   {
    "duration": 25,
    "start_time": "2024-01-06T13:34:30.796Z"
   },
   {
    "duration": 96,
    "start_time": "2024-01-06T13:35:35.005Z"
   },
   {
    "duration": 25,
    "start_time": "2024-01-06T13:35:39.693Z"
   },
   {
    "duration": 25,
    "start_time": "2024-01-06T13:36:09.701Z"
   },
   {
    "duration": 10,
    "start_time": "2024-01-06T13:37:51.719Z"
   },
   {
    "duration": 1271,
    "start_time": "2024-01-06T13:37:59.751Z"
   },
   {
    "duration": 14,
    "start_time": "2024-01-06T13:38:22.087Z"
   },
   {
    "duration": 306,
    "start_time": "2024-01-06T13:56:07.889Z"
   },
   {
    "duration": 119,
    "start_time": "2024-01-06T13:56:30.706Z"
   },
   {
    "duration": 9,
    "start_time": "2024-01-06T14:01:14.295Z"
   },
   {
    "duration": 2413,
    "start_time": "2024-01-06T14:01:41.008Z"
   },
   {
    "duration": 1094,
    "start_time": "2024-01-06T14:01:43.424Z"
   },
   {
    "duration": 109,
    "start_time": "2024-01-06T14:01:44.519Z"
   },
   {
    "duration": 13,
    "start_time": "2024-01-06T14:01:44.630Z"
   },
   {
    "duration": 23,
    "start_time": "2024-01-06T14:01:44.644Z"
   },
   {
    "duration": 38,
    "start_time": "2024-01-06T14:01:44.668Z"
   },
   {
    "duration": 7,
    "start_time": "2024-01-06T14:01:44.708Z"
   },
   {
    "duration": 10,
    "start_time": "2024-01-06T14:01:44.716Z"
   },
   {
    "duration": 8,
    "start_time": "2024-01-06T14:01:44.727Z"
   },
   {
    "duration": 7,
    "start_time": "2024-01-06T14:01:44.737Z"
   },
   {
    "duration": 43,
    "start_time": "2024-01-06T14:01:44.746Z"
   },
   {
    "duration": 6,
    "start_time": "2024-01-06T14:01:44.790Z"
   },
   {
    "duration": 4,
    "start_time": "2024-01-06T14:01:44.798Z"
   },
   {
    "duration": 325,
    "start_time": "2024-01-06T14:01:44.804Z"
   },
   {
    "duration": 288,
    "start_time": "2024-01-06T14:01:45.130Z"
   },
   {
    "duration": 188,
    "start_time": "2024-01-06T14:01:45.419Z"
   },
   {
    "duration": 276,
    "start_time": "2024-01-06T14:01:45.609Z"
   },
   {
    "duration": 207,
    "start_time": "2024-01-06T14:01:45.886Z"
   },
   {
    "duration": 328,
    "start_time": "2024-01-06T14:01:46.095Z"
   },
   {
    "duration": 128,
    "start_time": "2024-01-06T14:01:46.425Z"
   },
   {
    "duration": 145,
    "start_time": "2024-01-06T14:01:46.555Z"
   },
   {
    "duration": 5,
    "start_time": "2024-01-06T14:01:46.701Z"
   },
   {
    "duration": 222,
    "start_time": "2024-01-06T14:01:46.707Z"
   },
   {
    "duration": 196,
    "start_time": "2024-01-06T14:01:46.931Z"
   },
   {
    "duration": 9,
    "start_time": "2024-01-06T14:01:47.129Z"
   },
   {
    "duration": 8,
    "start_time": "2024-01-06T14:01:47.140Z"
   },
   {
    "duration": 8,
    "start_time": "2024-01-06T14:01:47.149Z"
   },
   {
    "duration": 44,
    "start_time": "2024-01-06T14:01:47.160Z"
   },
   {
    "duration": 14,
    "start_time": "2024-01-06T14:01:47.205Z"
   },
   {
    "duration": 2563,
    "start_time": "2024-01-06T14:49:49.431Z"
   },
   {
    "duration": 1227,
    "start_time": "2024-01-06T14:49:51.997Z"
   },
   {
    "duration": 119,
    "start_time": "2024-01-06T14:49:53.225Z"
   },
   {
    "duration": 11,
    "start_time": "2024-01-06T14:49:53.345Z"
   },
   {
    "duration": 39,
    "start_time": "2024-01-06T14:49:53.358Z"
   },
   {
    "duration": 21,
    "start_time": "2024-01-06T14:49:53.399Z"
   },
   {
    "duration": 24,
    "start_time": "2024-01-06T14:49:53.421Z"
   },
   {
    "duration": 9,
    "start_time": "2024-01-06T14:49:53.446Z"
   },
   {
    "duration": 15,
    "start_time": "2024-01-06T14:49:53.456Z"
   },
   {
    "duration": 22,
    "start_time": "2024-01-06T14:49:53.472Z"
   },
   {
    "duration": 13,
    "start_time": "2024-01-06T14:49:53.496Z"
   },
   {
    "duration": 13,
    "start_time": "2024-01-06T14:49:53.510Z"
   },
   {
    "duration": 32,
    "start_time": "2024-01-06T14:49:53.525Z"
   },
   {
    "duration": 322,
    "start_time": "2024-01-06T14:49:53.560Z"
   },
   {
    "duration": 295,
    "start_time": "2024-01-06T14:49:53.887Z"
   },
   {
    "duration": 206,
    "start_time": "2024-01-06T14:49:54.184Z"
   },
   {
    "duration": 310,
    "start_time": "2024-01-06T14:49:54.392Z"
   },
   {
    "duration": 227,
    "start_time": "2024-01-06T14:49:54.704Z"
   },
   {
    "duration": 325,
    "start_time": "2024-01-06T14:49:54.933Z"
   },
   {
    "duration": 133,
    "start_time": "2024-01-06T14:49:55.260Z"
   },
   {
    "duration": 155,
    "start_time": "2024-01-06T14:49:55.395Z"
   },
   {
    "duration": 5,
    "start_time": "2024-01-06T14:49:55.552Z"
   },
   {
    "duration": 250,
    "start_time": "2024-01-06T14:49:55.559Z"
   },
   {
    "duration": 210,
    "start_time": "2024-01-06T14:49:55.811Z"
   },
   {
    "duration": 11,
    "start_time": "2024-01-06T14:49:56.023Z"
   },
   {
    "duration": 9,
    "start_time": "2024-01-06T14:49:56.035Z"
   },
   {
    "duration": 8,
    "start_time": "2024-01-06T14:49:56.046Z"
   },
   {
    "duration": 32,
    "start_time": "2024-01-06T14:49:56.081Z"
   },
   {
    "duration": 14,
    "start_time": "2024-01-06T14:49:56.115Z"
   },
   {
    "duration": 2747,
    "start_time": "2024-01-06T14:53:21.657Z"
   },
   {
    "duration": 1180,
    "start_time": "2024-01-06T14:53:24.407Z"
   },
   {
    "duration": 113,
    "start_time": "2024-01-06T14:53:25.597Z"
   },
   {
    "duration": 11,
    "start_time": "2024-01-06T14:53:25.712Z"
   },
   {
    "duration": 33,
    "start_time": "2024-01-06T14:53:25.725Z"
   },
   {
    "duration": 46,
    "start_time": "2024-01-06T14:53:25.759Z"
   },
   {
    "duration": 7,
    "start_time": "2024-01-06T14:53:25.807Z"
   },
   {
    "duration": 9,
    "start_time": "2024-01-06T14:53:25.816Z"
   },
   {
    "duration": 16,
    "start_time": "2024-01-06T14:53:25.827Z"
   },
   {
    "duration": 30,
    "start_time": "2024-01-06T14:53:25.845Z"
   },
   {
    "duration": 13,
    "start_time": "2024-01-06T14:53:25.877Z"
   },
   {
    "duration": 11,
    "start_time": "2024-01-06T14:53:25.892Z"
   },
   {
    "duration": 5,
    "start_time": "2024-01-06T14:53:25.904Z"
   },
   {
    "duration": 330,
    "start_time": "2024-01-06T14:53:25.911Z"
   },
   {
    "duration": 303,
    "start_time": "2024-01-06T14:53:26.243Z"
   },
   {
    "duration": 195,
    "start_time": "2024-01-06T14:53:26.548Z"
   },
   {
    "duration": 302,
    "start_time": "2024-01-06T14:53:26.745Z"
   },
   {
    "duration": 208,
    "start_time": "2024-01-06T14:53:27.048Z"
   },
   {
    "duration": 366,
    "start_time": "2024-01-06T14:53:27.257Z"
   },
   {
    "duration": 125,
    "start_time": "2024-01-06T14:53:27.625Z"
   },
   {
    "duration": 164,
    "start_time": "2024-01-06T14:53:27.751Z"
   },
   {
    "duration": 4,
    "start_time": "2024-01-06T14:53:27.916Z"
   },
   {
    "duration": 247,
    "start_time": "2024-01-06T14:53:27.922Z"
   },
   {
    "duration": 190,
    "start_time": "2024-01-06T14:53:28.170Z"
   },
   {
    "duration": 9,
    "start_time": "2024-01-06T14:53:28.362Z"
   },
   {
    "duration": 23,
    "start_time": "2024-01-06T14:53:28.373Z"
   },
   {
    "duration": 7,
    "start_time": "2024-01-06T14:53:28.398Z"
   },
   {
    "duration": 26,
    "start_time": "2024-01-06T14:53:28.406Z"
   },
   {
    "duration": 13,
    "start_time": "2024-01-06T14:53:28.433Z"
   },
   {
    "duration": 2707,
    "start_time": "2024-01-06T15:01:32.201Z"
   },
   {
    "duration": 1137,
    "start_time": "2024-01-06T15:01:34.911Z"
   },
   {
    "duration": 108,
    "start_time": "2024-01-06T15:01:36.049Z"
   },
   {
    "duration": 12,
    "start_time": "2024-01-06T15:01:36.159Z"
   },
   {
    "duration": 35,
    "start_time": "2024-01-06T15:01:36.173Z"
   },
   {
    "duration": 25,
    "start_time": "2024-01-06T15:01:36.209Z"
   },
   {
    "duration": 11,
    "start_time": "2024-01-06T15:01:36.236Z"
   },
   {
    "duration": 9,
    "start_time": "2024-01-06T15:01:36.248Z"
   },
   {
    "duration": 26,
    "start_time": "2024-01-06T15:01:36.258Z"
   },
   {
    "duration": 12,
    "start_time": "2024-01-06T15:01:36.287Z"
   },
   {
    "duration": 7,
    "start_time": "2024-01-06T15:01:36.301Z"
   },
   {
    "duration": 4,
    "start_time": "2024-01-06T15:01:36.310Z"
   },
   {
    "duration": 4,
    "start_time": "2024-01-06T15:01:36.315Z"
   },
   {
    "duration": 361,
    "start_time": "2024-01-06T15:01:36.322Z"
   },
   {
    "duration": 314,
    "start_time": "2024-01-06T15:01:36.685Z"
   },
   {
    "duration": 212,
    "start_time": "2024-01-06T15:01:37.001Z"
   },
   {
    "duration": 301,
    "start_time": "2024-01-06T15:01:37.215Z"
   },
   {
    "duration": 245,
    "start_time": "2024-01-06T15:01:37.518Z"
   },
   {
    "duration": 396,
    "start_time": "2024-01-06T15:01:37.764Z"
   },
   {
    "duration": 151,
    "start_time": "2024-01-06T15:01:38.162Z"
   },
   {
    "duration": 164,
    "start_time": "2024-01-06T15:01:38.315Z"
   },
   {
    "duration": 5,
    "start_time": "2024-01-06T15:01:38.483Z"
   },
   {
    "duration": 254,
    "start_time": "2024-01-06T15:01:38.490Z"
   },
   {
    "duration": 202,
    "start_time": "2024-01-06T15:01:38.745Z"
   },
   {
    "duration": 10,
    "start_time": "2024-01-06T15:01:38.949Z"
   },
   {
    "duration": 24,
    "start_time": "2024-01-06T15:01:38.961Z"
   },
   {
    "duration": 10,
    "start_time": "2024-01-06T15:01:38.988Z"
   },
   {
    "duration": 27,
    "start_time": "2024-01-06T15:01:39.000Z"
   },
   {
    "duration": 14,
    "start_time": "2024-01-06T15:01:39.028Z"
   },
   {
    "duration": 3277,
    "start_time": "2024-01-08T09:03:45.023Z"
   },
   {
    "duration": 1451,
    "start_time": "2024-01-08T09:03:48.303Z"
   },
   {
    "duration": 186,
    "start_time": "2024-01-08T09:03:49.755Z"
   },
   {
    "duration": 43,
    "start_time": "2024-01-08T09:03:49.943Z"
   },
   {
    "duration": 13,
    "start_time": "2024-01-08T09:03:49.988Z"
   },
   {
    "duration": 37,
    "start_time": "2024-01-08T09:03:50.003Z"
   },
   {
    "duration": 25,
    "start_time": "2024-01-08T09:03:50.042Z"
   },
   {
    "duration": 21,
    "start_time": "2024-01-08T09:03:50.069Z"
   },
   {
    "duration": 24,
    "start_time": "2024-01-08T09:03:50.092Z"
   },
   {
    "duration": 9,
    "start_time": "2024-01-08T09:03:50.117Z"
   },
   {
    "duration": 116,
    "start_time": "2024-01-08T09:03:50.128Z"
   },
   {
    "duration": 0,
    "start_time": "2024-01-08T09:03:50.247Z"
   },
   {
    "duration": 0,
    "start_time": "2024-01-08T09:03:50.248Z"
   },
   {
    "duration": 0,
    "start_time": "2024-01-08T09:03:50.249Z"
   },
   {
    "duration": 0,
    "start_time": "2024-01-08T09:03:50.251Z"
   },
   {
    "duration": 0,
    "start_time": "2024-01-08T09:03:50.252Z"
   },
   {
    "duration": 0,
    "start_time": "2024-01-08T09:03:50.253Z"
   },
   {
    "duration": 0,
    "start_time": "2024-01-08T09:03:50.254Z"
   },
   {
    "duration": 0,
    "start_time": "2024-01-08T09:03:50.255Z"
   },
   {
    "duration": 0,
    "start_time": "2024-01-08T09:03:50.256Z"
   },
   {
    "duration": 0,
    "start_time": "2024-01-08T09:03:50.257Z"
   },
   {
    "duration": 0,
    "start_time": "2024-01-08T09:03:50.258Z"
   },
   {
    "duration": 0,
    "start_time": "2024-01-08T09:03:50.259Z"
   },
   {
    "duration": 0,
    "start_time": "2024-01-08T09:03:50.260Z"
   },
   {
    "duration": 0,
    "start_time": "2024-01-08T09:03:50.262Z"
   },
   {
    "duration": 0,
    "start_time": "2024-01-08T09:03:50.263Z"
   },
   {
    "duration": 0,
    "start_time": "2024-01-08T09:03:50.264Z"
   },
   {
    "duration": 0,
    "start_time": "2024-01-08T09:03:50.265Z"
   },
   {
    "duration": 0,
    "start_time": "2024-01-08T09:03:50.266Z"
   },
   {
    "duration": 0,
    "start_time": "2024-01-08T09:03:50.267Z"
   },
   {
    "duration": 0,
    "start_time": "2024-01-08T09:03:50.268Z"
   },
   {
    "duration": 9,
    "start_time": "2024-01-08T09:05:08.222Z"
   },
   {
    "duration": 69,
    "start_time": "2024-01-08T09:05:22.607Z"
   },
   {
    "duration": 71,
    "start_time": "2024-01-08T09:05:36.384Z"
   },
   {
    "duration": 8,
    "start_time": "2024-01-08T09:05:47.750Z"
   },
   {
    "duration": 11,
    "start_time": "2024-01-08T09:05:52.357Z"
   },
   {
    "duration": 10,
    "start_time": "2024-01-08T09:06:17.703Z"
   },
   {
    "duration": 11,
    "start_time": "2024-01-08T09:07:54.848Z"
   },
   {
    "duration": 2586,
    "start_time": "2024-01-08T09:08:52.735Z"
   },
   {
    "duration": 1199,
    "start_time": "2024-01-08T09:08:55.323Z"
   },
   {
    "duration": 75,
    "start_time": "2024-01-08T09:08:56.524Z"
   },
   {
    "duration": 45,
    "start_time": "2024-01-08T09:08:56.601Z"
   },
   {
    "duration": 14,
    "start_time": "2024-01-08T09:08:56.649Z"
   },
   {
    "duration": 41,
    "start_time": "2024-01-08T09:08:56.665Z"
   },
   {
    "duration": 36,
    "start_time": "2024-01-08T09:08:56.708Z"
   },
   {
    "duration": 17,
    "start_time": "2024-01-08T09:08:56.746Z"
   },
   {
    "duration": 10,
    "start_time": "2024-01-08T09:08:56.765Z"
   },
   {
    "duration": 25,
    "start_time": "2024-01-08T09:08:56.777Z"
   },
   {
    "duration": 29,
    "start_time": "2024-01-08T09:08:56.804Z"
   },
   {
    "duration": 18,
    "start_time": "2024-01-08T09:08:56.836Z"
   },
   {
    "duration": 34,
    "start_time": "2024-01-08T09:08:56.856Z"
   },
   {
    "duration": 20,
    "start_time": "2024-01-08T09:08:56.894Z"
   },
   {
    "duration": 311,
    "start_time": "2024-01-08T09:08:56.916Z"
   },
   {
    "duration": 351,
    "start_time": "2024-01-08T09:08:57.229Z"
   },
   {
    "duration": 227,
    "start_time": "2024-01-08T09:08:57.581Z"
   },
   {
    "duration": 347,
    "start_time": "2024-01-08T09:08:57.809Z"
   },
   {
    "duration": 246,
    "start_time": "2024-01-08T09:08:58.157Z"
   },
   {
    "duration": 399,
    "start_time": "2024-01-08T09:08:58.405Z"
   },
   {
    "duration": 158,
    "start_time": "2024-01-08T09:08:58.806Z"
   },
   {
    "duration": 5,
    "start_time": "2024-01-08T09:08:58.966Z"
   },
   {
    "duration": 173,
    "start_time": "2024-01-08T09:08:58.972Z"
   },
   {
    "duration": 4,
    "start_time": "2024-01-08T09:08:59.147Z"
   },
   {
    "duration": 243,
    "start_time": "2024-01-08T09:08:59.153Z"
   },
   {
    "duration": 193,
    "start_time": "2024-01-08T09:08:59.398Z"
   },
   {
    "duration": 11,
    "start_time": "2024-01-08T09:08:59.592Z"
   },
   {
    "duration": 45,
    "start_time": "2024-01-08T09:08:59.605Z"
   },
   {
    "duration": 17,
    "start_time": "2024-01-08T09:08:59.651Z"
   },
   {
    "duration": 32,
    "start_time": "2024-01-08T09:08:59.669Z"
   },
   {
    "duration": 15,
    "start_time": "2024-01-08T09:08:59.702Z"
   },
   {
    "duration": 11,
    "start_time": "2024-01-08T09:10:59.403Z"
   },
   {
    "duration": 4,
    "start_time": "2024-01-08T09:27:44.973Z"
   },
   {
    "duration": 123,
    "start_time": "2024-01-08T09:29:24.766Z"
   },
   {
    "duration": 11,
    "start_time": "2024-01-08T09:29:38.694Z"
   },
   {
    "duration": 11,
    "start_time": "2024-01-08T09:34:28.716Z"
   },
   {
    "duration": 12,
    "start_time": "2024-01-08T09:41:51.244Z"
   },
   {
    "duration": 8,
    "start_time": "2024-01-08T09:47:14.289Z"
   },
   {
    "duration": 13,
    "start_time": "2024-01-08T09:47:19.025Z"
   },
   {
    "duration": 11,
    "start_time": "2024-01-08T09:47:38.896Z"
   },
   {
    "duration": 13,
    "start_time": "2024-01-08T09:51:15.845Z"
   },
   {
    "duration": 12,
    "start_time": "2024-01-08T09:51:31.597Z"
   },
   {
    "duration": 11,
    "start_time": "2024-01-08T09:53:43.086Z"
   },
   {
    "duration": 16,
    "start_time": "2024-01-08T09:57:09.402Z"
   },
   {
    "duration": 9,
    "start_time": "2024-01-08T09:57:15.498Z"
   },
   {
    "duration": 10,
    "start_time": "2024-01-08T09:57:26.450Z"
   },
   {
    "duration": 10,
    "start_time": "2024-01-08T09:57:49.331Z"
   },
   {
    "duration": 12,
    "start_time": "2024-01-08T09:57:55.203Z"
   },
   {
    "duration": 9,
    "start_time": "2024-01-08T09:58:52.836Z"
   },
   {
    "duration": 14,
    "start_time": "2024-01-08T09:59:36.323Z"
   },
   {
    "duration": 14,
    "start_time": "2024-01-08T09:59:44.412Z"
   },
   {
    "duration": 10,
    "start_time": "2024-01-08T09:59:55.788Z"
   },
   {
    "duration": 2663,
    "start_time": "2024-01-08T10:05:34.222Z"
   },
   {
    "duration": 1211,
    "start_time": "2024-01-08T10:05:36.888Z"
   },
   {
    "duration": 76,
    "start_time": "2024-01-08T10:05:38.100Z"
   },
   {
    "duration": 44,
    "start_time": "2024-01-08T10:05:38.178Z"
   },
   {
    "duration": 15,
    "start_time": "2024-01-08T10:05:38.223Z"
   },
   {
    "duration": 24,
    "start_time": "2024-01-08T10:05:38.240Z"
   },
   {
    "duration": 24,
    "start_time": "2024-01-08T10:05:38.266Z"
   },
   {
    "duration": 37,
    "start_time": "2024-01-08T10:05:38.291Z"
   },
   {
    "duration": 13,
    "start_time": "2024-01-08T10:05:38.329Z"
   },
   {
    "duration": 9,
    "start_time": "2024-01-08T10:05:38.345Z"
   },
   {
    "duration": 15,
    "start_time": "2024-01-08T10:05:38.356Z"
   },
   {
    "duration": 12,
    "start_time": "2024-01-08T10:05:38.373Z"
   },
   {
    "duration": 5,
    "start_time": "2024-01-08T10:05:38.386Z"
   },
   {
    "duration": 4,
    "start_time": "2024-01-08T10:05:38.423Z"
   },
   {
    "duration": 14,
    "start_time": "2024-01-08T10:05:38.429Z"
   },
   {
    "duration": 10,
    "start_time": "2024-01-08T10:05:38.445Z"
   },
   {
    "duration": 12,
    "start_time": "2024-01-08T10:05:38.457Z"
   },
   {
    "duration": 347,
    "start_time": "2024-01-08T10:05:38.471Z"
   },
   {
    "duration": 321,
    "start_time": "2024-01-08T10:05:38.821Z"
   },
   {
    "duration": 238,
    "start_time": "2024-01-08T10:05:39.144Z"
   },
   {
    "duration": 348,
    "start_time": "2024-01-08T10:05:39.383Z"
   },
   {
    "duration": 237,
    "start_time": "2024-01-08T10:05:39.732Z"
   },
   {
    "duration": 355,
    "start_time": "2024-01-08T10:05:39.971Z"
   },
   {
    "duration": 175,
    "start_time": "2024-01-08T10:05:40.328Z"
   },
   {
    "duration": 5,
    "start_time": "2024-01-08T10:05:40.504Z"
   },
   {
    "duration": 173,
    "start_time": "2024-01-08T10:05:40.511Z"
   },
   {
    "duration": 5,
    "start_time": "2024-01-08T10:05:40.686Z"
   },
   {
    "duration": 273,
    "start_time": "2024-01-08T10:05:40.694Z"
   },
   {
    "duration": 190,
    "start_time": "2024-01-08T10:05:40.969Z"
   },
   {
    "duration": 11,
    "start_time": "2024-01-08T10:05:41.161Z"
   },
   {
    "duration": 22,
    "start_time": "2024-01-08T10:05:41.173Z"
   },
   {
    "duration": 25,
    "start_time": "2024-01-08T10:05:41.197Z"
   },
   {
    "duration": 38,
    "start_time": "2024-01-08T10:05:41.224Z"
   },
   {
    "duration": 15,
    "start_time": "2024-01-08T10:05:41.263Z"
   },
   {
    "duration": 2630,
    "start_time": "2024-01-08T10:09:23.049Z"
   },
   {
    "duration": 1212,
    "start_time": "2024-01-08T10:09:25.682Z"
   },
   {
    "duration": 75,
    "start_time": "2024-01-08T10:09:26.896Z"
   },
   {
    "duration": 42,
    "start_time": "2024-01-08T10:09:26.973Z"
   },
   {
    "duration": 13,
    "start_time": "2024-01-08T10:09:27.017Z"
   },
   {
    "duration": 23,
    "start_time": "2024-01-08T10:09:27.032Z"
   },
   {
    "duration": 27,
    "start_time": "2024-01-08T10:09:27.057Z"
   },
   {
    "duration": 38,
    "start_time": "2024-01-08T10:09:27.085Z"
   },
   {
    "duration": 11,
    "start_time": "2024-01-08T10:09:27.126Z"
   },
   {
    "duration": 16,
    "start_time": "2024-01-08T10:09:27.140Z"
   },
   {
    "duration": 13,
    "start_time": "2024-01-08T10:09:27.158Z"
   },
   {
    "duration": 12,
    "start_time": "2024-01-08T10:09:27.173Z"
   },
   {
    "duration": 36,
    "start_time": "2024-01-08T10:09:27.188Z"
   },
   {
    "duration": 5,
    "start_time": "2024-01-08T10:09:27.228Z"
   },
   {
    "duration": 16,
    "start_time": "2024-01-08T10:09:27.235Z"
   },
   {
    "duration": 13,
    "start_time": "2024-01-08T10:09:27.253Z"
   },
   {
    "duration": 12,
    "start_time": "2024-01-08T10:09:27.267Z"
   },
   {
    "duration": 354,
    "start_time": "2024-01-08T10:09:27.281Z"
   },
   {
    "duration": 300,
    "start_time": "2024-01-08T10:09:27.636Z"
   },
   {
    "duration": 214,
    "start_time": "2024-01-08T10:09:27.938Z"
   },
   {
    "duration": 284,
    "start_time": "2024-01-08T10:09:28.154Z"
   },
   {
    "duration": 244,
    "start_time": "2024-01-08T10:09:28.439Z"
   },
   {
    "duration": 380,
    "start_time": "2024-01-08T10:09:28.685Z"
   },
   {
    "duration": 165,
    "start_time": "2024-01-08T10:09:29.067Z"
   },
   {
    "duration": 5,
    "start_time": "2024-01-08T10:09:29.234Z"
   },
   {
    "duration": 167,
    "start_time": "2024-01-08T10:09:29.241Z"
   },
   {
    "duration": 4,
    "start_time": "2024-01-08T10:09:29.410Z"
   },
   {
    "duration": 249,
    "start_time": "2024-01-08T10:09:29.416Z"
   },
   {
    "duration": 195,
    "start_time": "2024-01-08T10:09:29.667Z"
   },
   {
    "duration": 12,
    "start_time": "2024-01-08T10:09:29.864Z"
   },
   {
    "duration": 10,
    "start_time": "2024-01-08T10:09:29.877Z"
   },
   {
    "duration": 11,
    "start_time": "2024-01-08T10:09:29.888Z"
   },
   {
    "duration": 26,
    "start_time": "2024-01-08T10:09:29.923Z"
   },
   {
    "duration": 15,
    "start_time": "2024-01-08T10:09:29.951Z"
   },
   {
    "duration": 349,
    "start_time": "2024-01-08T10:10:47.523Z"
   },
   {
    "duration": 407,
    "start_time": "2024-01-08T10:11:37.699Z"
   },
   {
    "duration": 173,
    "start_time": "2024-01-08T10:12:30.020Z"
   },
   {
    "duration": 167,
    "start_time": "2024-01-08T10:14:41.535Z"
   },
   {
    "duration": 175,
    "start_time": "2024-01-08T10:14:50.181Z"
   },
   {
    "duration": 2606,
    "start_time": "2024-01-08T10:24:19.707Z"
   },
   {
    "duration": 1239,
    "start_time": "2024-01-08T10:24:22.315Z"
   },
   {
    "duration": 76,
    "start_time": "2024-01-08T10:24:23.555Z"
   },
   {
    "duration": 43,
    "start_time": "2024-01-08T10:24:23.633Z"
   },
   {
    "duration": 14,
    "start_time": "2024-01-08T10:24:23.677Z"
   },
   {
    "duration": 44,
    "start_time": "2024-01-08T10:24:23.693Z"
   },
   {
    "duration": 25,
    "start_time": "2024-01-08T10:24:23.739Z"
   },
   {
    "duration": 28,
    "start_time": "2024-01-08T10:24:23.766Z"
   },
   {
    "duration": 15,
    "start_time": "2024-01-08T10:24:23.796Z"
   },
   {
    "duration": 11,
    "start_time": "2024-01-08T10:24:23.821Z"
   },
   {
    "duration": 24,
    "start_time": "2024-01-08T10:24:23.834Z"
   },
   {
    "duration": 12,
    "start_time": "2024-01-08T10:24:23.860Z"
   },
   {
    "duration": 10,
    "start_time": "2024-01-08T10:24:23.874Z"
   },
   {
    "duration": 6,
    "start_time": "2024-01-08T10:24:23.886Z"
   },
   {
    "duration": 37,
    "start_time": "2024-01-08T10:24:23.893Z"
   },
   {
    "duration": 18,
    "start_time": "2024-01-08T10:24:23.932Z"
   },
   {
    "duration": 16,
    "start_time": "2024-01-08T10:24:23.952Z"
   },
   {
    "duration": 321,
    "start_time": "2024-01-08T10:24:23.970Z"
   },
   {
    "duration": 309,
    "start_time": "2024-01-08T10:24:24.293Z"
   },
   {
    "duration": 224,
    "start_time": "2024-01-08T10:24:24.603Z"
   },
   {
    "duration": 307,
    "start_time": "2024-01-08T10:24:24.829Z"
   },
   {
    "duration": 235,
    "start_time": "2024-01-08T10:24:25.138Z"
   },
   {
    "duration": 336,
    "start_time": "2024-01-08T10:24:25.374Z"
   },
   {
    "duration": 173,
    "start_time": "2024-01-08T10:24:25.711Z"
   },
   {
    "duration": 4,
    "start_time": "2024-01-08T10:24:25.886Z"
   },
   {
    "duration": 183,
    "start_time": "2024-01-08T10:24:25.891Z"
   },
   {
    "duration": 4,
    "start_time": "2024-01-08T10:24:26.076Z"
   },
   {
    "duration": 16,
    "start_time": "2024-01-08T10:24:26.082Z"
   },
   {
    "duration": 198,
    "start_time": "2024-01-08T10:24:26.100Z"
   },
   {
    "duration": 11,
    "start_time": "2024-01-08T10:24:26.300Z"
   },
   {
    "duration": 18,
    "start_time": "2024-01-08T10:24:26.313Z"
   },
   {
    "duration": 11,
    "start_time": "2024-01-08T10:24:26.333Z"
   },
   {
    "duration": 28,
    "start_time": "2024-01-08T10:24:26.346Z"
   },
   {
    "duration": 17,
    "start_time": "2024-01-08T10:24:26.376Z"
   },
   {
    "duration": 6,
    "start_time": "2024-01-08T10:38:09.592Z"
   },
   {
    "duration": 5,
    "start_time": "2024-01-08T10:39:33.596Z"
   },
   {
    "duration": 4,
    "start_time": "2024-01-08T10:39:54.476Z"
   },
   {
    "duration": 4,
    "start_time": "2024-01-08T10:44:37.507Z"
   },
   {
    "duration": 4,
    "start_time": "2024-01-08T10:44:56.084Z"
   },
   {
    "duration": 5,
    "start_time": "2024-01-08T10:45:25.180Z"
   },
   {
    "duration": 5,
    "start_time": "2024-01-08T10:45:38.011Z"
   },
   {
    "duration": 5,
    "start_time": "2024-01-08T10:46:44.590Z"
   },
   {
    "duration": 2647,
    "start_time": "2024-01-08T10:48:22.615Z"
   },
   {
    "duration": 1201,
    "start_time": "2024-01-08T10:48:25.264Z"
   },
   {
    "duration": 74,
    "start_time": "2024-01-08T10:48:26.467Z"
   },
   {
    "duration": 43,
    "start_time": "2024-01-08T10:48:26.544Z"
   },
   {
    "duration": 13,
    "start_time": "2024-01-08T10:48:26.588Z"
   },
   {
    "duration": 37,
    "start_time": "2024-01-08T10:48:26.603Z"
   },
   {
    "duration": 24,
    "start_time": "2024-01-08T10:48:26.642Z"
   },
   {
    "duration": 8,
    "start_time": "2024-01-08T10:48:26.668Z"
   },
   {
    "duration": 16,
    "start_time": "2024-01-08T10:48:26.677Z"
   },
   {
    "duration": 32,
    "start_time": "2024-01-08T10:48:26.696Z"
   },
   {
    "duration": 17,
    "start_time": "2024-01-08T10:48:26.730Z"
   },
   {
    "duration": 11,
    "start_time": "2024-01-08T10:48:26.749Z"
   },
   {
    "duration": 7,
    "start_time": "2024-01-08T10:48:26.762Z"
   },
   {
    "duration": 13,
    "start_time": "2024-01-08T10:48:26.770Z"
   },
   {
    "duration": 14,
    "start_time": "2024-01-08T10:48:26.785Z"
   },
   {
    "duration": 26,
    "start_time": "2024-01-08T10:48:26.800Z"
   },
   {
    "duration": 10,
    "start_time": "2024-01-08T10:48:26.828Z"
   },
   {
    "duration": 309,
    "start_time": "2024-01-08T10:48:26.840Z"
   },
   {
    "duration": 299,
    "start_time": "2024-01-08T10:48:27.151Z"
   },
   {
    "duration": 245,
    "start_time": "2024-01-08T10:48:27.452Z"
   },
   {
    "duration": 327,
    "start_time": "2024-01-08T10:48:27.700Z"
   },
   {
    "duration": 236,
    "start_time": "2024-01-08T10:48:28.029Z"
   },
   {
    "duration": 325,
    "start_time": "2024-01-08T10:48:28.266Z"
   },
   {
    "duration": 179,
    "start_time": "2024-01-08T10:48:28.593Z"
   },
   {
    "duration": 5,
    "start_time": "2024-01-08T10:48:28.773Z"
   },
   {
    "duration": 176,
    "start_time": "2024-01-08T10:48:28.780Z"
   },
   {
    "duration": 4,
    "start_time": "2024-01-08T10:48:28.958Z"
   },
   {
    "duration": 190,
    "start_time": "2024-01-08T10:48:28.965Z"
   },
   {
    "duration": 11,
    "start_time": "2024-01-08T10:48:29.156Z"
   },
   {
    "duration": 13,
    "start_time": "2024-01-08T10:48:29.168Z"
   },
   {
    "duration": 5,
    "start_time": "2024-01-08T10:48:29.182Z"
   },
   {
    "duration": 34,
    "start_time": "2024-01-08T10:48:29.189Z"
   },
   {
    "duration": 27,
    "start_time": "2024-01-08T10:48:29.225Z"
   },
   {
    "duration": 16,
    "start_time": "2024-01-08T10:48:29.254Z"
   },
   {
    "duration": 2601,
    "start_time": "2024-01-08T11:17:51.451Z"
   },
   {
    "duration": 1252,
    "start_time": "2024-01-08T11:17:54.054Z"
   },
   {
    "duration": 76,
    "start_time": "2024-01-08T11:17:55.307Z"
   },
   {
    "duration": 42,
    "start_time": "2024-01-08T11:17:55.384Z"
   },
   {
    "duration": 12,
    "start_time": "2024-01-08T11:17:55.428Z"
   },
   {
    "duration": 35,
    "start_time": "2024-01-08T11:17:55.442Z"
   },
   {
    "duration": 45,
    "start_time": "2024-01-08T11:17:55.479Z"
   },
   {
    "duration": 6,
    "start_time": "2024-01-08T11:17:55.526Z"
   },
   {
    "duration": 10,
    "start_time": "2024-01-08T11:17:55.534Z"
   },
   {
    "duration": 8,
    "start_time": "2024-01-08T11:17:55.545Z"
   },
   {
    "duration": 17,
    "start_time": "2024-01-08T11:17:55.554Z"
   },
   {
    "duration": 11,
    "start_time": "2024-01-08T11:17:55.573Z"
   },
   {
    "duration": 40,
    "start_time": "2024-01-08T11:17:55.586Z"
   },
   {
    "duration": 13,
    "start_time": "2024-01-08T11:17:55.630Z"
   },
   {
    "duration": 21,
    "start_time": "2024-01-08T11:17:55.645Z"
   },
   {
    "duration": 10,
    "start_time": "2024-01-08T11:17:55.668Z"
   },
   {
    "duration": 19,
    "start_time": "2024-01-08T11:17:55.679Z"
   },
   {
    "duration": 317,
    "start_time": "2024-01-08T11:17:55.700Z"
   },
   {
    "duration": 317,
    "start_time": "2024-01-08T11:17:56.022Z"
   },
   {
    "duration": 220,
    "start_time": "2024-01-08T11:17:56.341Z"
   },
   {
    "duration": 292,
    "start_time": "2024-01-08T11:17:56.563Z"
   },
   {
    "duration": 258,
    "start_time": "2024-01-08T11:17:56.858Z"
   },
   {
    "duration": 386,
    "start_time": "2024-01-08T11:17:57.118Z"
   },
   {
    "duration": 185,
    "start_time": "2024-01-08T11:17:57.506Z"
   },
   {
    "duration": 5,
    "start_time": "2024-01-08T11:17:57.693Z"
   },
   {
    "duration": 190,
    "start_time": "2024-01-08T11:17:57.700Z"
   },
   {
    "duration": 4,
    "start_time": "2024-01-08T11:17:57.892Z"
   },
   {
    "duration": 201,
    "start_time": "2024-01-08T11:17:57.898Z"
   },
   {
    "duration": 11,
    "start_time": "2024-01-08T11:17:58.100Z"
   },
   {
    "duration": 29,
    "start_time": "2024-01-08T11:17:58.113Z"
   },
   {
    "duration": 6,
    "start_time": "2024-01-08T11:17:58.144Z"
   },
   {
    "duration": 20,
    "start_time": "2024-01-08T11:17:58.151Z"
   },
   {
    "duration": 40,
    "start_time": "2024-01-08T11:17:58.173Z"
   },
   {
    "duration": 34,
    "start_time": "2024-01-08T11:17:58.215Z"
   }
  ],
  "kernelspec": {
   "display_name": "Python 3 (ipykernel)",
   "language": "python",
   "name": "python3"
  },
  "language_info": {
   "codemirror_mode": {
    "name": "ipython",
    "version": 3
   },
   "file_extension": ".py",
   "mimetype": "text/x-python",
   "name": "python",
   "nbconvert_exporter": "python",
   "pygments_lexer": "ipython3",
   "version": "3.11.4"
  },
  "toc": {
   "base_numbering": 1,
   "nav_menu": {},
   "number_sections": true,
   "sideBar": true,
   "skip_h1_title": true,
   "title_cell": "Table of Contents",
   "title_sidebar": "Contents",
   "toc_cell": false,
   "toc_position": {
    "height": "calc(100% - 180px)",
    "left": "10px",
    "top": "150px",
    "width": "371px"
   },
   "toc_section_display": true,
   "toc_window_display": true
  }
 },
 "nbformat": 4,
 "nbformat_minor": 2
}
