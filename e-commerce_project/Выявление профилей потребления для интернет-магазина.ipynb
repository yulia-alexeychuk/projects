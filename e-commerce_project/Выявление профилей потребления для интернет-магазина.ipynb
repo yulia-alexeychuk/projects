{
 "cells": [
  {
   "cell_type": "markdown",
   "id": "3e384ae9",
   "metadata": {},
   "source": [
    "# <center>Выявление профилей потребления для интернет-магазина</center>"
   ]
  },
  {
   "cell_type": "markdown",
   "id": "eeb28b8f",
   "metadata": {},
   "source": [
    "## Материалы\n",
    "\n",
    "[Ссылка на презентацию](https://disk.yandex.ru/i/9QccdtBV_azDIw)"
   ]
  },
  {
   "cell_type": "markdown",
   "id": "595cdf7b",
   "metadata": {},
   "source": [
    "## Введение\n",
    "\n",
    "В этом проекте мы проанализируем данные о транзакциях интернет-магазина товаров для дома и быта «Пока все ещё тут» и проведём сегментацию покупателей на основе их истории покупок.\n",
    "\n",
    "**Цель** — сегментировать покупателей по профилю потребления для осуществления рекламных рассылок.\n",
    "\n",
    "\n",
    "**Задачи**:\n",
    "- определить для каждого покупателя, как давно он покупал в последний раз;\n",
    "- посчитать сумму всех покупок для каждого покупателя;\n",
    "- посчитать частоту заказов у каждого покупателя;\n",
    "- провести RFM-анализ и разделить покупателей на сегменты;\n",
    "- проверить корректность разделения покупателей на сегменты.\n",
    "\n",
    "**План работы**:\n",
    "- познакомиться с данными;\n",
    "- провести предобработку данных;\n",
    "- провести исследовательский анализ данных:\n",
    "    - определить, данными за какой период мы обладаем;\n",
    "    - исследовать, сколько всего заказов и покупателей в датасете;\n",
    "    - для каждого покупателя:\n",
    "        - определить давность последней покупки;\n",
    "        - посчитать сумму покупок;\n",
    "        - определить частоту покупок.\n",
    "- сегментировать покупателей на основе истории их покупок:\n",
    "    - провести RFM-анализ:\n",
    "        - Recency (Давность) — как давно покупатель совершил покупку?\n",
    "        - Frequency (Частота) — как часто покупатель совершает покупки?\n",
    "        - Monetary Value (Денежная ценность) — сколько покупатель тратит?\n",
    "    - разделить покупателей на сегменты.\n",
    "- проверить корректность разделения на сегменты с помощью статистического теста:\n",
    "    - H0 — Нет различий между сегментами\n",
    "    - H1 — Есть различия между сегментами\n",
    "        - по давности покупки;\n",
    "        - по среднему чеку;\n",
    "        - по частоте покупок.\n",
    "- проанализировать особенности каждого сегмента:\n",
    "    - разделить товары на категории;\n",
    "    - определить топ категорий;\n",
    "    - определить сезонность категорий;\n",
    "    - определить ценовой диапазон категорий."
   ]
  },
  {
   "cell_type": "markdown",
   "id": "b054bc8a",
   "metadata": {},
   "source": [
    "## Знакомство с данными"
   ]
  },
  {
   "cell_type": "markdown",
   "id": "46c5f29d",
   "metadata": {},
   "source": [
    "Для начала загрузим данные и посмотрим на общую информацию о датасете."
   ]
  },
  {
   "cell_type": "code",
   "execution_count": 1,
   "id": "1fe14c9c",
   "metadata": {},
   "outputs": [],
   "source": [
    "# загрузим библиотеки\n",
    "import pandas as pd\n",
    "import seaborn as sns\n",
    "import matplotlib.pyplot as plt\n",
    "from scipy import stats as st\n",
    "import numpy as np\n",
    "import datetime as dt\n",
    "import os\n",
    "from statsmodels.sandbox.stats.multicomp import multipletests"
   ]
  },
  {
   "cell_type": "code",
   "execution_count": 2,
   "id": "feff2210",
   "metadata": {},
   "outputs": [],
   "source": [
    "# загрузим данные\n",
    "pth1 = '/datasets/ecom_dataset_upd.csv' # путь Яндекс\n",
    "pth2 = 'ecom_dataset_upd.csv' # мой путь\n",
    "\n",
    "if os.path.exists(pth1):\n",
    "    data = pd.read_csv(pth1)\n",
    "elif os.path.exists(pth2):\n",
    "    data = pd.read_csv(pth2)\n",
    "else:\n",
    "    print('Something is wrong')"
   ]
  },
  {
   "cell_type": "code",
   "execution_count": 3,
   "id": "278f03ab",
   "metadata": {},
   "outputs": [
    {
     "data": {
      "text/html": [
       "<div>\n",
       "<style scoped>\n",
       "    .dataframe tbody tr th:only-of-type {\n",
       "        vertical-align: middle;\n",
       "    }\n",
       "\n",
       "    .dataframe tbody tr th {\n",
       "        vertical-align: top;\n",
       "    }\n",
       "\n",
       "    .dataframe thead th {\n",
       "        text-align: right;\n",
       "    }\n",
       "</style>\n",
       "<table border=\"1\" class=\"dataframe\">\n",
       "  <thead>\n",
       "    <tr style=\"text-align: right;\">\n",
       "      <th></th>\n",
       "      <th>date</th>\n",
       "      <th>customer_id</th>\n",
       "      <th>order_id</th>\n",
       "      <th>product</th>\n",
       "      <th>quantity</th>\n",
       "      <th>price</th>\n",
       "    </tr>\n",
       "  </thead>\n",
       "  <tbody>\n",
       "    <tr>\n",
       "      <th>0</th>\n",
       "      <td>2018100100</td>\n",
       "      <td>ee47d746-6d2f-4d3c-9622-c31412542920</td>\n",
       "      <td>68477</td>\n",
       "      <td>Комнатное растение в горшке Алое Вера, d12, h30</td>\n",
       "      <td>1</td>\n",
       "      <td>142.0</td>\n",
       "    </tr>\n",
       "    <tr>\n",
       "      <th>1</th>\n",
       "      <td>2018100100</td>\n",
       "      <td>ee47d746-6d2f-4d3c-9622-c31412542920</td>\n",
       "      <td>68477</td>\n",
       "      <td>Комнатное растение в горшке Кофе Арабика, d12,...</td>\n",
       "      <td>1</td>\n",
       "      <td>194.0</td>\n",
       "    </tr>\n",
       "    <tr>\n",
       "      <th>2</th>\n",
       "      <td>2018100100</td>\n",
       "      <td>ee47d746-6d2f-4d3c-9622-c31412542920</td>\n",
       "      <td>68477</td>\n",
       "      <td>Радермахера d-12 см h-20 см</td>\n",
       "      <td>1</td>\n",
       "      <td>112.0</td>\n",
       "    </tr>\n",
       "    <tr>\n",
       "      <th>3</th>\n",
       "      <td>2018100100</td>\n",
       "      <td>ee47d746-6d2f-4d3c-9622-c31412542920</td>\n",
       "      <td>68477</td>\n",
       "      <td>Хризолидокарпус Лутесценс d-9 см</td>\n",
       "      <td>1</td>\n",
       "      <td>179.0</td>\n",
       "    </tr>\n",
       "    <tr>\n",
       "      <th>4</th>\n",
       "      <td>2018100100</td>\n",
       "      <td>ee47d746-6d2f-4d3c-9622-c31412542920</td>\n",
       "      <td>68477</td>\n",
       "      <td>Циперус Зумула d-12 см h-25 см</td>\n",
       "      <td>1</td>\n",
       "      <td>112.0</td>\n",
       "    </tr>\n",
       "  </tbody>\n",
       "</table>\n",
       "</div>"
      ],
      "text/plain": [
       "         date                           customer_id  order_id  \\\n",
       "0  2018100100  ee47d746-6d2f-4d3c-9622-c31412542920     68477   \n",
       "1  2018100100  ee47d746-6d2f-4d3c-9622-c31412542920     68477   \n",
       "2  2018100100  ee47d746-6d2f-4d3c-9622-c31412542920     68477   \n",
       "3  2018100100  ee47d746-6d2f-4d3c-9622-c31412542920     68477   \n",
       "4  2018100100  ee47d746-6d2f-4d3c-9622-c31412542920     68477   \n",
       "\n",
       "                                             product  quantity  price  \n",
       "0    Комнатное растение в горшке Алое Вера, d12, h30         1  142.0  \n",
       "1  Комнатное растение в горшке Кофе Арабика, d12,...         1  194.0  \n",
       "2                        Радермахера d-12 см h-20 см         1  112.0  \n",
       "3                   Хризолидокарпус Лутесценс d-9 см         1  179.0  \n",
       "4                     Циперус Зумула d-12 см h-25 см         1  112.0  "
      ]
     },
     "metadata": {},
     "output_type": "display_data"
    },
    {
     "name": "stdout",
     "output_type": "stream",
     "text": [
      "<class 'pandas.core.frame.DataFrame'>\n",
      "RangeIndex: 7474 entries, 0 to 7473\n",
      "Data columns (total 6 columns):\n",
      " #   Column       Non-Null Count  Dtype  \n",
      "---  ------       --------------  -----  \n",
      " 0   date         7474 non-null   int64  \n",
      " 1   customer_id  7474 non-null   object \n",
      " 2   order_id     7474 non-null   int64  \n",
      " 3   product      7474 non-null   object \n",
      " 4   quantity     7474 non-null   int64  \n",
      " 5   price        7474 non-null   float64\n",
      "dtypes: float64(1), int64(3), object(2)\n",
      "memory usage: 350.5+ KB\n"
     ]
    }
   ],
   "source": [
    "display(data.head())\n",
    "data.info()"
   ]
  },
  {
   "cell_type": "markdown",
   "id": "780e4480",
   "metadata": {},
   "source": [
    "### Промежуточный вывод\n",
    "\n",
    "В датасете 7474 строки со следующей информацией:\n",
    "- дата транзакции;\n",
    "- id покупателя;\n",
    "- id заказа;\n",
    "- наименование товара;\n",
    "- количество;\n",
    "- цена."
   ]
  },
  {
   "cell_type": "markdown",
   "id": "af0fb36c",
   "metadata": {},
   "source": [
    "## Предобработка данных"
   ]
  },
  {
   "cell_type": "markdown",
   "id": "35f1dbfc",
   "metadata": {},
   "source": [
    "Мы сразу видим, что наименования корректировать не нужно, а также в датасете нет пропущенных значений. Скорректируем типы данных в столбцах `date` и `order_id`."
   ]
  },
  {
   "cell_type": "code",
   "execution_count": 4,
   "id": "d392bfdf",
   "metadata": {},
   "outputs": [
    {
     "data": {
      "text/html": [
       "<div>\n",
       "<style scoped>\n",
       "    .dataframe tbody tr th:only-of-type {\n",
       "        vertical-align: middle;\n",
       "    }\n",
       "\n",
       "    .dataframe tbody tr th {\n",
       "        vertical-align: top;\n",
       "    }\n",
       "\n",
       "    .dataframe thead th {\n",
       "        text-align: right;\n",
       "    }\n",
       "</style>\n",
       "<table border=\"1\" class=\"dataframe\">\n",
       "  <thead>\n",
       "    <tr style=\"text-align: right;\">\n",
       "      <th></th>\n",
       "      <th>date</th>\n",
       "      <th>customer_id</th>\n",
       "      <th>order_id</th>\n",
       "      <th>product</th>\n",
       "      <th>quantity</th>\n",
       "      <th>price</th>\n",
       "    </tr>\n",
       "  </thead>\n",
       "  <tbody>\n",
       "    <tr>\n",
       "      <th>0</th>\n",
       "      <td>2018-10-01</td>\n",
       "      <td>ee47d746-6d2f-4d3c-9622-c31412542920</td>\n",
       "      <td>68477</td>\n",
       "      <td>Комнатное растение в горшке Алое Вера, d12, h30</td>\n",
       "      <td>1</td>\n",
       "      <td>142.0</td>\n",
       "    </tr>\n",
       "    <tr>\n",
       "      <th>1</th>\n",
       "      <td>2018-10-01</td>\n",
       "      <td>ee47d746-6d2f-4d3c-9622-c31412542920</td>\n",
       "      <td>68477</td>\n",
       "      <td>Комнатное растение в горшке Кофе Арабика, d12,...</td>\n",
       "      <td>1</td>\n",
       "      <td>194.0</td>\n",
       "    </tr>\n",
       "    <tr>\n",
       "      <th>2</th>\n",
       "      <td>2018-10-01</td>\n",
       "      <td>ee47d746-6d2f-4d3c-9622-c31412542920</td>\n",
       "      <td>68477</td>\n",
       "      <td>Радермахера d-12 см h-20 см</td>\n",
       "      <td>1</td>\n",
       "      <td>112.0</td>\n",
       "    </tr>\n",
       "    <tr>\n",
       "      <th>3</th>\n",
       "      <td>2018-10-01</td>\n",
       "      <td>ee47d746-6d2f-4d3c-9622-c31412542920</td>\n",
       "      <td>68477</td>\n",
       "      <td>Хризолидокарпус Лутесценс d-9 см</td>\n",
       "      <td>1</td>\n",
       "      <td>179.0</td>\n",
       "    </tr>\n",
       "    <tr>\n",
       "      <th>4</th>\n",
       "      <td>2018-10-01</td>\n",
       "      <td>ee47d746-6d2f-4d3c-9622-c31412542920</td>\n",
       "      <td>68477</td>\n",
       "      <td>Циперус Зумула d-12 см h-25 см</td>\n",
       "      <td>1</td>\n",
       "      <td>112.0</td>\n",
       "    </tr>\n",
       "  </tbody>\n",
       "</table>\n",
       "</div>"
      ],
      "text/plain": [
       "        date                           customer_id order_id  \\\n",
       "0 2018-10-01  ee47d746-6d2f-4d3c-9622-c31412542920    68477   \n",
       "1 2018-10-01  ee47d746-6d2f-4d3c-9622-c31412542920    68477   \n",
       "2 2018-10-01  ee47d746-6d2f-4d3c-9622-c31412542920    68477   \n",
       "3 2018-10-01  ee47d746-6d2f-4d3c-9622-c31412542920    68477   \n",
       "4 2018-10-01  ee47d746-6d2f-4d3c-9622-c31412542920    68477   \n",
       "\n",
       "                                             product  quantity  price  \n",
       "0    Комнатное растение в горшке Алое Вера, d12, h30         1  142.0  \n",
       "1  Комнатное растение в горшке Кофе Арабика, d12,...         1  194.0  \n",
       "2                        Радермахера d-12 см h-20 см         1  112.0  \n",
       "3                   Хризолидокарпус Лутесценс d-9 см         1  179.0  \n",
       "4                     Циперус Зумула d-12 см h-25 см         1  112.0  "
      ]
     },
     "metadata": {},
     "output_type": "display_data"
    },
    {
     "name": "stdout",
     "output_type": "stream",
     "text": [
      "<class 'pandas.core.frame.DataFrame'>\n",
      "RangeIndex: 7474 entries, 0 to 7473\n",
      "Data columns (total 6 columns):\n",
      " #   Column       Non-Null Count  Dtype         \n",
      "---  ------       --------------  -----         \n",
      " 0   date         7474 non-null   datetime64[ns]\n",
      " 1   customer_id  7474 non-null   object        \n",
      " 2   order_id     7474 non-null   object        \n",
      " 3   product      7474 non-null   object        \n",
      " 4   quantity     7474 non-null   int64         \n",
      " 5   price        7474 non-null   float64       \n",
      "dtypes: datetime64[ns](1), float64(1), int64(1), object(3)\n",
      "memory usage: 350.5+ KB\n"
     ]
    }
   ],
   "source": [
    "data['date'] = pd.to_datetime(data['date'], format='%Y%m%d%H')\n",
    "data['order_id'] = data['order_id'].astype('str')\n",
    "display(data.head())\n",
    "data.info()"
   ]
  },
  {
   "cell_type": "markdown",
   "id": "3b0ad4d7",
   "metadata": {},
   "source": [
    "Теперь проверим данные на наличие дубликатов."
   ]
  },
  {
   "cell_type": "code",
   "execution_count": 5,
   "id": "4f9f0d7d",
   "metadata": {},
   "outputs": [
    {
     "name": "stdout",
     "output_type": "stream",
     "text": [
      "Количество полных дубликатов: 0\n",
      "Количество неявных дубликатов: 1864\n"
     ]
    }
   ],
   "source": [
    "print('Количество полных дубликатов:', data.duplicated().sum())\n",
    "print('Количество неявных дубликатов:', data.drop('date', axis=1).duplicated().sum())"
   ]
  },
  {
   "cell_type": "markdown",
   "id": "40a330da",
   "metadata": {},
   "source": [
    "Полных дубликатов в датасете нет, но мы обнаружили 1864 неявных дубликатов, убрав столбец с датой. Удалим эти дубликаты."
   ]
  },
  {
   "cell_type": "code",
   "execution_count": 6,
   "id": "d75f7db6",
   "metadata": {},
   "outputs": [
    {
     "data": {
      "text/html": [
       "<div>\n",
       "<style scoped>\n",
       "    .dataframe tbody tr th:only-of-type {\n",
       "        vertical-align: middle;\n",
       "    }\n",
       "\n",
       "    .dataframe tbody tr th {\n",
       "        vertical-align: top;\n",
       "    }\n",
       "\n",
       "    .dataframe thead th {\n",
       "        text-align: right;\n",
       "    }\n",
       "</style>\n",
       "<table border=\"1\" class=\"dataframe\">\n",
       "  <thead>\n",
       "    <tr style=\"text-align: right;\">\n",
       "      <th></th>\n",
       "      <th>date</th>\n",
       "      <th>customer_id</th>\n",
       "      <th>order_id</th>\n",
       "      <th>product</th>\n",
       "      <th>quantity</th>\n",
       "      <th>price</th>\n",
       "    </tr>\n",
       "  </thead>\n",
       "  <tbody>\n",
       "    <tr>\n",
       "      <th>0</th>\n",
       "      <td>2018-10-01</td>\n",
       "      <td>ee47d746-6d2f-4d3c-9622-c31412542920</td>\n",
       "      <td>68477</td>\n",
       "      <td>Комнатное растение в горшке Алое Вера, d12, h30</td>\n",
       "      <td>1</td>\n",
       "      <td>142.0</td>\n",
       "    </tr>\n",
       "    <tr>\n",
       "      <th>1</th>\n",
       "      <td>2018-10-01</td>\n",
       "      <td>ee47d746-6d2f-4d3c-9622-c31412542920</td>\n",
       "      <td>68477</td>\n",
       "      <td>Комнатное растение в горшке Кофе Арабика, d12,...</td>\n",
       "      <td>1</td>\n",
       "      <td>194.0</td>\n",
       "    </tr>\n",
       "    <tr>\n",
       "      <th>2</th>\n",
       "      <td>2018-10-01</td>\n",
       "      <td>ee47d746-6d2f-4d3c-9622-c31412542920</td>\n",
       "      <td>68477</td>\n",
       "      <td>Радермахера d-12 см h-20 см</td>\n",
       "      <td>1</td>\n",
       "      <td>112.0</td>\n",
       "    </tr>\n",
       "    <tr>\n",
       "      <th>3</th>\n",
       "      <td>2018-10-01</td>\n",
       "      <td>ee47d746-6d2f-4d3c-9622-c31412542920</td>\n",
       "      <td>68477</td>\n",
       "      <td>Хризолидокарпус Лутесценс d-9 см</td>\n",
       "      <td>1</td>\n",
       "      <td>179.0</td>\n",
       "    </tr>\n",
       "    <tr>\n",
       "      <th>4</th>\n",
       "      <td>2018-10-01</td>\n",
       "      <td>ee47d746-6d2f-4d3c-9622-c31412542920</td>\n",
       "      <td>68477</td>\n",
       "      <td>Циперус Зумула d-12 см h-25 см</td>\n",
       "      <td>1</td>\n",
       "      <td>112.0</td>\n",
       "    </tr>\n",
       "  </tbody>\n",
       "</table>\n",
       "</div>"
      ],
      "text/plain": [
       "        date                           customer_id order_id  \\\n",
       "0 2018-10-01  ee47d746-6d2f-4d3c-9622-c31412542920    68477   \n",
       "1 2018-10-01  ee47d746-6d2f-4d3c-9622-c31412542920    68477   \n",
       "2 2018-10-01  ee47d746-6d2f-4d3c-9622-c31412542920    68477   \n",
       "3 2018-10-01  ee47d746-6d2f-4d3c-9622-c31412542920    68477   \n",
       "4 2018-10-01  ee47d746-6d2f-4d3c-9622-c31412542920    68477   \n",
       "\n",
       "                                             product  quantity  price  \n",
       "0    Комнатное растение в горшке Алое Вера, d12, h30         1  142.0  \n",
       "1  Комнатное растение в горшке Кофе Арабика, d12,...         1  194.0  \n",
       "2                        Радермахера d-12 см h-20 см         1  112.0  \n",
       "3                   Хризолидокарпус Лутесценс d-9 см         1  179.0  \n",
       "4                     Циперус Зумула d-12 см h-25 см         1  112.0  "
      ]
     },
     "metadata": {},
     "output_type": "display_data"
    },
    {
     "name": "stdout",
     "output_type": "stream",
     "text": [
      "(5610, 6)\n"
     ]
    }
   ],
   "source": [
    "data = data.drop_duplicates(subset=['customer_id', 'order_id', 'product', 'quantity', 'price']).reset_index(drop=True)\n",
    "display(data.head())\n",
    "print(data.shape)"
   ]
  },
  {
   "cell_type": "markdown",
   "id": "d27b80b7",
   "metadata": {},
   "source": [
    "В датасете осталось 5 610 строк."
   ]
  },
  {
   "cell_type": "markdown",
   "id": "e6f596bb",
   "metadata": {},
   "source": [
    "Проверим данные на наличие заказов, совершённых более, чем одним покупателем."
   ]
  },
  {
   "cell_type": "code",
   "execution_count": 7,
   "id": "cb6a7cd7",
   "metadata": {},
   "outputs": [
    {
     "name": "stdout",
     "output_type": "stream",
     "text": [
      "order_id       29\n",
      "customer_id    29\n",
      "dtype: int64\n",
      "62\n"
     ]
    }
   ],
   "source": [
    "# группируем данные по заказу и считаем количество покупателей в каждом заказе\n",
    "orders = data.groupby('order_id', as_index=False)['customer_id'].agg('nunique').sort_values(by='customer_id', ascending=False)\n",
    "# выводим количество заказов, в которых больше одного покупателя\n",
    "print(orders.query('customer_id > 1').count())\n",
    "print(orders.query('customer_id > 1')['customer_id'].sum())"
   ]
  },
  {
   "cell_type": "markdown",
   "id": "7270d768",
   "metadata": {},
   "source": [
    "В датасете 29 таких заказов, удалим повторяющиеся."
   ]
  },
  {
   "cell_type": "code",
   "execution_count": 8,
   "id": "385dc94e",
   "metadata": {},
   "outputs": [
    {
     "data": {
      "text/html": [
       "<div>\n",
       "<style scoped>\n",
       "    .dataframe tbody tr th:only-of-type {\n",
       "        vertical-align: middle;\n",
       "    }\n",
       "\n",
       "    .dataframe tbody tr th {\n",
       "        vertical-align: top;\n",
       "    }\n",
       "\n",
       "    .dataframe thead th {\n",
       "        text-align: right;\n",
       "    }\n",
       "</style>\n",
       "<table border=\"1\" class=\"dataframe\">\n",
       "  <thead>\n",
       "    <tr style=\"text-align: right;\">\n",
       "      <th></th>\n",
       "      <th>date</th>\n",
       "      <th>customer_id</th>\n",
       "      <th>order_id</th>\n",
       "      <th>product</th>\n",
       "      <th>quantity</th>\n",
       "      <th>price</th>\n",
       "      <th>customers_quantity</th>\n",
       "    </tr>\n",
       "  </thead>\n",
       "  <tbody>\n",
       "    <tr>\n",
       "      <th>0</th>\n",
       "      <td>2018-10-01</td>\n",
       "      <td>ee47d746-6d2f-4d3c-9622-c31412542920</td>\n",
       "      <td>68477</td>\n",
       "      <td>Комнатное растение в горшке Алое Вера, d12, h30</td>\n",
       "      <td>1</td>\n",
       "      <td>142.0</td>\n",
       "      <td>1</td>\n",
       "    </tr>\n",
       "    <tr>\n",
       "      <th>1</th>\n",
       "      <td>2018-10-01</td>\n",
       "      <td>ee47d746-6d2f-4d3c-9622-c31412542920</td>\n",
       "      <td>68477</td>\n",
       "      <td>Комнатное растение в горшке Кофе Арабика, d12,...</td>\n",
       "      <td>1</td>\n",
       "      <td>194.0</td>\n",
       "      <td>1</td>\n",
       "    </tr>\n",
       "    <tr>\n",
       "      <th>2</th>\n",
       "      <td>2018-10-01</td>\n",
       "      <td>ee47d746-6d2f-4d3c-9622-c31412542920</td>\n",
       "      <td>68477</td>\n",
       "      <td>Радермахера d-12 см h-20 см</td>\n",
       "      <td>1</td>\n",
       "      <td>112.0</td>\n",
       "      <td>1</td>\n",
       "    </tr>\n",
       "    <tr>\n",
       "      <th>3</th>\n",
       "      <td>2018-10-01</td>\n",
       "      <td>ee47d746-6d2f-4d3c-9622-c31412542920</td>\n",
       "      <td>68477</td>\n",
       "      <td>Хризолидокарпус Лутесценс d-9 см</td>\n",
       "      <td>1</td>\n",
       "      <td>179.0</td>\n",
       "      <td>1</td>\n",
       "    </tr>\n",
       "    <tr>\n",
       "      <th>4</th>\n",
       "      <td>2018-10-01</td>\n",
       "      <td>ee47d746-6d2f-4d3c-9622-c31412542920</td>\n",
       "      <td>68477</td>\n",
       "      <td>Циперус Зумула d-12 см h-25 см</td>\n",
       "      <td>1</td>\n",
       "      <td>112.0</td>\n",
       "      <td>1</td>\n",
       "    </tr>\n",
       "  </tbody>\n",
       "</table>\n",
       "</div>"
      ],
      "text/plain": [
       "        date                           customer_id order_id  \\\n",
       "0 2018-10-01  ee47d746-6d2f-4d3c-9622-c31412542920    68477   \n",
       "1 2018-10-01  ee47d746-6d2f-4d3c-9622-c31412542920    68477   \n",
       "2 2018-10-01  ee47d746-6d2f-4d3c-9622-c31412542920    68477   \n",
       "3 2018-10-01  ee47d746-6d2f-4d3c-9622-c31412542920    68477   \n",
       "4 2018-10-01  ee47d746-6d2f-4d3c-9622-c31412542920    68477   \n",
       "\n",
       "                                             product  quantity  price  \\\n",
       "0    Комнатное растение в горшке Алое Вера, d12, h30         1  142.0   \n",
       "1  Комнатное растение в горшке Кофе Арабика, d12,...         1  194.0   \n",
       "2                        Радермахера d-12 см h-20 см         1  112.0   \n",
       "3                   Хризолидокарпус Лутесценс d-9 см         1  179.0   \n",
       "4                     Циперус Зумула d-12 см h-25 см         1  112.0   \n",
       "\n",
       "   customers_quantity  \n",
       "0                   1  \n",
       "1                   1  \n",
       "2                   1  \n",
       "3                   1  \n",
       "4                   1  "
      ]
     },
     "execution_count": 8,
     "metadata": {},
     "output_type": "execute_result"
    }
   ],
   "source": [
    "# переименовываем столбец с кол-вом покупателем и присоединяем к основному датасету\n",
    "orders = orders.rename(columns={'customer_id':'customers_quantity'})\n",
    "data = data.merge(orders, on='order_id', how='left')\n",
    "data.head()"
   ]
  },
  {
   "cell_type": "code",
   "execution_count": 9,
   "id": "779e48f0",
   "metadata": {},
   "outputs": [
    {
     "data": {
      "text/plain": [
       "(5577, 7)"
      ]
     },
     "execution_count": 9,
     "metadata": {},
     "output_type": "execute_result"
    }
   ],
   "source": [
    "# удаляем дубликаты с учетом нового столбца\n",
    "data = data.drop_duplicates(subset=['order_id', 'product', 'quantity', 'price', 'customers_quantity']).reset_index(drop=True)\n",
    "data.shape"
   ]
  },
  {
   "cell_type": "code",
   "execution_count": 10,
   "id": "a239cfca",
   "metadata": {},
   "outputs": [
    {
     "data": {
      "text/html": [
       "<div>\n",
       "<style scoped>\n",
       "    .dataframe tbody tr th:only-of-type {\n",
       "        vertical-align: middle;\n",
       "    }\n",
       "\n",
       "    .dataframe tbody tr th {\n",
       "        vertical-align: top;\n",
       "    }\n",
       "\n",
       "    .dataframe thead th {\n",
       "        text-align: right;\n",
       "    }\n",
       "</style>\n",
       "<table border=\"1\" class=\"dataframe\">\n",
       "  <thead>\n",
       "    <tr style=\"text-align: right;\">\n",
       "      <th></th>\n",
       "      <th>order_id</th>\n",
       "      <th>customer_id</th>\n",
       "    </tr>\n",
       "  </thead>\n",
       "  <tbody>\n",
       "    <tr>\n",
       "      <th>2368</th>\n",
       "      <td>70903</td>\n",
       "      <td>2</td>\n",
       "    </tr>\n",
       "    <tr>\n",
       "      <th>1639</th>\n",
       "      <td>69485</td>\n",
       "      <td>2</td>\n",
       "    </tr>\n",
       "    <tr>\n",
       "      <th>0</th>\n",
       "      <td>101689</td>\n",
       "      <td>1</td>\n",
       "    </tr>\n",
       "    <tr>\n",
       "      <th>2351</th>\n",
       "      <td>70866</td>\n",
       "      <td>1</td>\n",
       "    </tr>\n",
       "    <tr>\n",
       "      <th>2340</th>\n",
       "      <td>70851</td>\n",
       "      <td>1</td>\n",
       "    </tr>\n",
       "  </tbody>\n",
       "</table>\n",
       "</div>"
      ],
      "text/plain": [
       "     order_id  customer_id\n",
       "2368    70903            2\n",
       "1639    69485            2\n",
       "0      101689            1\n",
       "2351    70866            1\n",
       "2340    70851            1"
      ]
     },
     "metadata": {},
     "output_type": "display_data"
    }
   ],
   "source": [
    "# проверяем, остались ли заказы с несколькими покупателями\n",
    "display(data.groupby('order_id', as_index=False)['customer_id'].agg(\n",
    "    'nunique').sort_values(by='customer_id', ascending=False).head())"
   ]
  },
  {
   "cell_type": "code",
   "execution_count": 11,
   "id": "a5746627",
   "metadata": {},
   "outputs": [
    {
     "data": {
      "text/html": [
       "<div>\n",
       "<style scoped>\n",
       "    .dataframe tbody tr th:only-of-type {\n",
       "        vertical-align: middle;\n",
       "    }\n",
       "\n",
       "    .dataframe tbody tr th {\n",
       "        vertical-align: top;\n",
       "    }\n",
       "\n",
       "    .dataframe thead th {\n",
       "        text-align: right;\n",
       "    }\n",
       "</style>\n",
       "<table border=\"1\" class=\"dataframe\">\n",
       "  <thead>\n",
       "    <tr style=\"text-align: right;\">\n",
       "      <th></th>\n",
       "      <th>date</th>\n",
       "      <th>customer_id</th>\n",
       "      <th>order_id</th>\n",
       "      <th>product</th>\n",
       "      <th>quantity</th>\n",
       "      <th>price</th>\n",
       "      <th>customers_quantity</th>\n",
       "    </tr>\n",
       "  </thead>\n",
       "  <tbody>\n",
       "    <tr>\n",
       "      <th>1118</th>\n",
       "      <td>2018-12-20 16:00:00</td>\n",
       "      <td>5be0f4b4-947f-4672-b147-73ef5936ecd4</td>\n",
       "      <td>69485</td>\n",
       "      <td>Набор столовых приборов 24 предмета SAINT GERM...</td>\n",
       "      <td>1</td>\n",
       "      <td>1087.0</td>\n",
       "      <td>3</td>\n",
       "    </tr>\n",
       "    <tr>\n",
       "      <th>1127</th>\n",
       "      <td>2018-12-21 11:00:00</td>\n",
       "      <td>266beb08-ec9b-43b4-89bb-ac60fa23ffee</td>\n",
       "      <td>69485</td>\n",
       "      <td>Набор столовых приборов 24 предмета FARANDOLE ...</td>\n",
       "      <td>1</td>\n",
       "      <td>1274.0</td>\n",
       "      <td>3</td>\n",
       "    </tr>\n",
       "    <tr>\n",
       "      <th>2120</th>\n",
       "      <td>2019-03-28 10:00:00</td>\n",
       "      <td>5e5a3e1a-0388-4131-a770-f6e3b696985b</td>\n",
       "      <td>70903</td>\n",
       "      <td>Средство против засоров в системах водопровода...</td>\n",
       "      <td>1</td>\n",
       "      <td>104.0</td>\n",
       "      <td>2</td>\n",
       "    </tr>\n",
       "    <tr>\n",
       "      <th>2860</th>\n",
       "      <td>2019-05-01 01:00:00</td>\n",
       "      <td>718316fc-bdf3-4d1d-b8f1-a5c763238ff4</td>\n",
       "      <td>70903</td>\n",
       "      <td>Средство против засоров в системах водопровода...</td>\n",
       "      <td>1</td>\n",
       "      <td>142.0</td>\n",
       "      <td>2</td>\n",
       "    </tr>\n",
       "  </tbody>\n",
       "</table>\n",
       "</div>"
      ],
      "text/plain": [
       "                    date                           customer_id order_id  \\\n",
       "1118 2018-12-20 16:00:00  5be0f4b4-947f-4672-b147-73ef5936ecd4    69485   \n",
       "1127 2018-12-21 11:00:00  266beb08-ec9b-43b4-89bb-ac60fa23ffee    69485   \n",
       "2120 2019-03-28 10:00:00  5e5a3e1a-0388-4131-a770-f6e3b696985b    70903   \n",
       "2860 2019-05-01 01:00:00  718316fc-bdf3-4d1d-b8f1-a5c763238ff4    70903   \n",
       "\n",
       "                                                product  quantity   price  \\\n",
       "1118  Набор столовых приборов 24 предмета SAINT GERM...         1  1087.0   \n",
       "1127  Набор столовых приборов 24 предмета FARANDOLE ...         1  1274.0   \n",
       "2120  Средство против засоров в системах водопровода...         1   104.0   \n",
       "2860  Средство против засоров в системах водопровода...         1   142.0   \n",
       "\n",
       "      customers_quantity  \n",
       "1118                   3  \n",
       "1127                   3  \n",
       "2120                   2  \n",
       "2860                   2  "
      ]
     },
     "metadata": {},
     "output_type": "display_data"
    }
   ],
   "source": [
    "# отфильтровываем оставшиеся два заказа с двумя покупателями\n",
    "display(data.query('order_id in [\"70903\", \"69485\"]').sort_values(by='order_id'))\n",
    "# удаляем повторяющиеся заказы\n",
    "data = data.drop(index=[1127, 2860])"
   ]
  },
  {
   "cell_type": "code",
   "execution_count": 12,
   "id": "b16d4c39",
   "metadata": {},
   "outputs": [
    {
     "data": {
      "text/html": [
       "<div>\n",
       "<style scoped>\n",
       "    .dataframe tbody tr th:only-of-type {\n",
       "        vertical-align: middle;\n",
       "    }\n",
       "\n",
       "    .dataframe tbody tr th {\n",
       "        vertical-align: top;\n",
       "    }\n",
       "\n",
       "    .dataframe thead th {\n",
       "        text-align: right;\n",
       "    }\n",
       "</style>\n",
       "<table border=\"1\" class=\"dataframe\">\n",
       "  <thead>\n",
       "    <tr style=\"text-align: right;\">\n",
       "      <th></th>\n",
       "      <th>order_id</th>\n",
       "      <th>customer_id</th>\n",
       "    </tr>\n",
       "  </thead>\n",
       "  <tbody>\n",
       "    <tr>\n",
       "      <th>0</th>\n",
       "      <td>101689</td>\n",
       "      <td>1</td>\n",
       "    </tr>\n",
       "    <tr>\n",
       "      <th>2352</th>\n",
       "      <td>70869</td>\n",
       "      <td>1</td>\n",
       "    </tr>\n",
       "    <tr>\n",
       "      <th>2341</th>\n",
       "      <td>70853</td>\n",
       "      <td>1</td>\n",
       "    </tr>\n",
       "    <tr>\n",
       "      <th>2342</th>\n",
       "      <td>70854</td>\n",
       "      <td>1</td>\n",
       "    </tr>\n",
       "    <tr>\n",
       "      <th>2343</th>\n",
       "      <td>70856</td>\n",
       "      <td>1</td>\n",
       "    </tr>\n",
       "  </tbody>\n",
       "</table>\n",
       "</div>"
      ],
      "text/plain": [
       "     order_id  customer_id\n",
       "0      101689            1\n",
       "2352    70869            1\n",
       "2341    70853            1\n",
       "2342    70854            1\n",
       "2343    70856            1"
      ]
     },
     "metadata": {},
     "output_type": "display_data"
    },
    {
     "data": {
      "text/plain": [
       "(5575, 7)"
      ]
     },
     "execution_count": 12,
     "metadata": {},
     "output_type": "execute_result"
    }
   ],
   "source": [
    "# проверяем, остались ли заказы с несколькими покупателями\n",
    "display(data.groupby('order_id', as_index=False)['customer_id'].agg(\n",
    "    'nunique').sort_values(by='customer_id', ascending=False).head())\n",
    "data.shape"
   ]
  },
  {
   "cell_type": "markdown",
   "id": "7ad1ab0e",
   "metadata": {},
   "source": [
    "Мы удалили неявные дубликаты, в датасете осталось 5575 строк."
   ]
  },
  {
   "cell_type": "markdown",
   "id": "c6023a83",
   "metadata": {},
   "source": [
    "### Промежуточный вывод\n",
    "\n",
    "В итоге предобработки мы:\n",
    "- скорректировали типы данных в столбце `date` с int на datetime и в столбце `order_id` с int на object;\n",
    "- удалили 1899 неявных дубликатов."
   ]
  },
  {
   "cell_type": "markdown",
   "id": "bb5eaacd",
   "metadata": {},
   "source": [
    "## Исследовательский анализ данных"
   ]
  },
  {
   "cell_type": "markdown",
   "id": "0b37554d",
   "metadata": {},
   "source": [
    "Посмотрим на общую информацию о датасете:\n",
    "- за какой период у нас есть данные;\n",
    "- сколько всего уникальных покупателей и заказов в датасете."
   ]
  },
  {
   "cell_type": "code",
   "execution_count": 13,
   "id": "171c4535",
   "metadata": {},
   "outputs": [
    {
     "name": "stdout",
     "output_type": "stream",
     "text": [
      "Минимальная дата: 2018-10-01 00:00:00\n",
      "Максимальная дата: 2020-01-31 15:00:00\n",
      "\n",
      "Количество уникальных заказов в датасете: 3521\n",
      "Количество уникальных покупателей в датасете: 2430\n"
     ]
    }
   ],
   "source": [
    "print('Минимальная дата:', data['date'].min())\n",
    "print('Максимальная дата:', data['date'].max())\n",
    "print()\n",
    "print('Количество уникальных заказов в датасете:', data['order_id'].nunique())\n",
    "print('Количество уникальных покупателей в датасете:', data['customer_id'].nunique())"
   ]
  },
  {
   "cell_type": "markdown",
   "id": "91221b8f",
   "metadata": {},
   "source": [
    "Временной период в датасете с 1 октября 2018 года по 31 января 2020 года, количество заказов за этот период составляет 3 521 и количество пользователей 2 430."
   ]
  },
  {
   "cell_type": "markdown",
   "id": "c081aabe",
   "metadata": {},
   "source": [
    "Подготовим данные для RFM-анализа и создадим сводную таблицу по покупателям со следующей информацией:\n",
    "- Recency (Давность) — как давно покупатель совершил покупку?\n",
    "- Frequency (Частота) — как часто покупатель совершает покупки?\n",
    "- Monetary Value (Денежная ценность) — сколько покупатель тратит?"
   ]
  },
  {
   "cell_type": "code",
   "execution_count": 14,
   "id": "d714e5d7",
   "metadata": {},
   "outputs": [
    {
     "data": {
      "text/plain": [
       "(5575, 4)"
      ]
     },
     "execution_count": 14,
     "metadata": {},
     "output_type": "execute_result"
    }
   ],
   "source": [
    "# создаем столбец с суммой заказа\n",
    "data['total'] = data['quantity']*data['price']\n",
    "\n",
    "# подготавливаем данные для RFM-анализа\n",
    "columns = ['customer_id', 'order_id', 'date', 'total']\n",
    "RFM_data = data[columns]\n",
    "RFM_data.shape"
   ]
  },
  {
   "cell_type": "code",
   "execution_count": 15,
   "id": "b403f6ad",
   "metadata": {},
   "outputs": [
    {
     "data": {
      "text/html": [
       "<div>\n",
       "<style scoped>\n",
       "    .dataframe tbody tr th:only-of-type {\n",
       "        vertical-align: middle;\n",
       "    }\n",
       "\n",
       "    .dataframe tbody tr th {\n",
       "        vertical-align: top;\n",
       "    }\n",
       "\n",
       "    .dataframe thead th {\n",
       "        text-align: right;\n",
       "    }\n",
       "</style>\n",
       "<table border=\"1\" class=\"dataframe\">\n",
       "  <thead>\n",
       "    <tr style=\"text-align: right;\">\n",
       "      <th></th>\n",
       "      <th>customer_id</th>\n",
       "      <th>recency</th>\n",
       "      <th>frequency</th>\n",
       "      <th>monetary_value</th>\n",
       "    </tr>\n",
       "  </thead>\n",
       "  <tbody>\n",
       "    <tr>\n",
       "      <th>0</th>\n",
       "      <td>000d6849-084e-4d9f-ac03-37174eaf60c4</td>\n",
       "      <td>107</td>\n",
       "      <td>1</td>\n",
       "      <td>555.0</td>\n",
       "    </tr>\n",
       "    <tr>\n",
       "      <th>1</th>\n",
       "      <td>001cee7f-0b29-4716-b202-0042213ab038</td>\n",
       "      <td>349</td>\n",
       "      <td>1</td>\n",
       "      <td>442.0</td>\n",
       "    </tr>\n",
       "    <tr>\n",
       "      <th>2</th>\n",
       "      <td>00299f34-5385-4d13-9aea-c80b81658e1b</td>\n",
       "      <td>109</td>\n",
       "      <td>1</td>\n",
       "      <td>914.0</td>\n",
       "    </tr>\n",
       "    <tr>\n",
       "      <th>3</th>\n",
       "      <td>002d4d3a-4a59-406b-86ec-c3314357e498</td>\n",
       "      <td>369</td>\n",
       "      <td>1</td>\n",
       "      <td>1649.0</td>\n",
       "    </tr>\n",
       "    <tr>\n",
       "      <th>4</th>\n",
       "      <td>003bbd39-0000-41ff-b7f9-2ddaec152037</td>\n",
       "      <td>124</td>\n",
       "      <td>1</td>\n",
       "      <td>2324.0</td>\n",
       "    </tr>\n",
       "  </tbody>\n",
       "</table>\n",
       "</div>"
      ],
      "text/plain": [
       "                            customer_id  recency  frequency  monetary_value\n",
       "0  000d6849-084e-4d9f-ac03-37174eaf60c4      107          1           555.0\n",
       "1  001cee7f-0b29-4716-b202-0042213ab038      349          1           442.0\n",
       "2  00299f34-5385-4d13-9aea-c80b81658e1b      109          1           914.0\n",
       "3  002d4d3a-4a59-406b-86ec-c3314357e498      369          1          1649.0\n",
       "4  003bbd39-0000-41ff-b7f9-2ddaec152037      124          1          2324.0"
      ]
     },
     "execution_count": 15,
     "metadata": {},
     "output_type": "execute_result"
    }
   ],
   "source": [
    "# в качестве точки отсчета обозначаем последнюю дату в датасете + 1 день\n",
    "today = dt.datetime(2020,2,1)\n",
    "\n",
    "# группируем данные по покупателю\n",
    "RFM_table=RFM_data.groupby('customer_id', as_index=False).agg({'date': lambda x: (today - x.max()).days, # Recency\n",
    "                                                'order_id': lambda x: len(x.unique()), # Frequency\n",
    "                                                'total': lambda x: x.sum()})    # Monetary \n",
    "# меняем тип данных количества заказов на int\n",
    "RFM_table['order_id'] = RFM_table['order_id'].astype('int')\n",
    "\n",
    "# переименовываем столбцы по смыслу\n",
    "RFM_table.rename(columns={'date': 'recency', \n",
    "                         'order_id': 'frequency',\n",
    "                         'total': 'monetary_value'}, inplace=True)\n",
    "RFM_table.head()"
   ]
  },
  {
   "cell_type": "markdown",
   "id": "4cf363f2",
   "metadata": {},
   "source": [
    "Для каждого покупателя мы посчитали `recency` — количество дней с последней покупки, `frequency` — количество заказов за весь период и `monetary_value` — общую сумму всех заказов."
   ]
  },
  {
   "cell_type": "markdown",
   "id": "91b8a40a",
   "metadata": {},
   "source": [
    "Посмотрим на распределение каждого из этих показателей."
   ]
  },
  {
   "cell_type": "code",
   "execution_count": 16,
   "id": "452b0eef",
   "metadata": {
    "scrolled": false
   },
   "outputs": [
    {
     "data": {
      "image/png": "[encoded data removed]",
      "text/plain": [
       "<Figure size 360x360 with 1 Axes>"
      ]
     },
     "metadata": {
      "needs_background": "light"
     },
     "output_type": "display_data"
    },
    {
     "data": {
      "text/plain": [
       "count    2430.000000\n",
       "mean      215.992593\n",
       "std       149.143306\n",
       "min         0.000000\n",
       "25%        73.000000\n",
       "50%       210.000000\n",
       "75%       344.000000\n",
       "max       488.000000\n",
       "Name: recency, dtype: float64"
      ]
     },
     "execution_count": 16,
     "metadata": {},
     "output_type": "execute_result"
    }
   ],
   "source": [
    "# строим график распределения по количеству дней с последнего заказа\n",
    "sns.displot(RFM_table['recency'], bins=50)\n",
    "plt.title('Распределение давности последнего заказа')\n",
    "plt.xlabel('количество дней с последнего заказа')\n",
    "plt.ylabel('количество покупателей')\n",
    "plt.grid(True)\n",
    "plt.show()\n",
    "\n",
    "# выводим основные статистические характеристики\n",
    "RFM_table['recency'].describe()"
   ]
  },
  {
   "cell_type": "markdown",
   "id": "d562dcf1",
   "metadata": {},
   "source": [
    "Мы видим, что четверть от всех покупателей последний раз совершали покупку не более 3 месяцев назад, а другая четверть — год назад и более. У половины покупателей последняя покупка была от 3 месяцев до практически года назад."
   ]
  },
  {
   "cell_type": "code",
   "execution_count": 17,
   "id": "52de651f",
   "metadata": {},
   "outputs": [
    {
     "data": {
      "image/png": "[encoded data removed]",
      "text/plain": [
       "<Figure size 360x360 with 1 Axes>"
      ]
     },
     "metadata": {
      "needs_background": "light"
     },
     "output_type": "display_data"
    },
    {
     "data": {
      "text/plain": [
       "count    2430.000000\n",
       "mean        1.448971\n",
       "std         2.688981\n",
       "min         1.000000\n",
       "25%         1.000000\n",
       "50%         1.000000\n",
       "75%         2.000000\n",
       "max       126.000000\n",
       "Name: frequency, dtype: float64"
      ]
     },
     "execution_count": 17,
     "metadata": {},
     "output_type": "execute_result"
    }
   ],
   "source": [
    "# строим график распределения по частоте заказов\n",
    "sns.displot(RFM_table.query('frequency <= 5')['frequency'], bins=20) # убираем выбросы для наглядности графика\n",
    "plt.title('Распределение частоты заказов')\n",
    "plt.xlabel('количество заказов')\n",
    "plt.ylabel('количество покупателей')\n",
    "plt.grid(True)\n",
    "plt.show()\n",
    "\n",
    "# выводим основные статистические характеристики\n",
    "RFM_table['frequency'].describe()"
   ]
  },
  {
   "cell_type": "markdown",
   "id": "254fd92a",
   "metadata": {},
   "source": [
    "Большинство покупателей совершали 1 или 2 заказа.\n",
    "\n",
    "По максимальному значению мы видим, что есть выбросы. Удалим их из датасета."
   ]
  },
  {
   "cell_type": "code",
   "execution_count": 18,
   "id": "1afe5a68",
   "metadata": {},
   "outputs": [
    {
     "data": {
      "image/png": "[encoded data removed]",
      "text/plain": [
       "<Figure size 720x360 with 1 Axes>"
      ]
     },
     "metadata": {
      "needs_background": "light"
     },
     "output_type": "display_data"
    },
    {
     "name": "stdout",
     "output_type": "stream",
     "text": [
      "Перцентили 90, 95, 99: [2. 2. 3.]\n"
     ]
    }
   ],
   "source": [
    "# задаём размер сетки для графиков\n",
    "plt.figure(figsize=(10, 5))\n",
    "\n",
    "x_values = pd.Series(range(0,len(RFM_table)))\n",
    "\n",
    "plt.scatter(x_values, RFM_table['frequency']) \n",
    "plt.title('Точечная диаграмма частоты заказов')\n",
    "plt.xlabel('количество покупателей')\n",
    "plt.ylabel('количество заказов')\n",
    "plt.show()\n",
    "\n",
    "print('Перцентили 90, 95, 99:', np.percentile(RFM_table['frequency'], [90, 95, 99])) \n",
    "\n",
    "# объявляем переменную с выбросами для последующего удаления из датасета\n",
    "abnormal_frequency = RFM_table[RFM_table['frequency'] > np.percentile(RFM_table['frequency'], 95)]['customer_id']"
   ]
  },
  {
   "cell_type": "markdown",
   "id": "53100e80",
   "metadata": {},
   "source": [
    "Выбросами будем считать покупателей, совершивших 3 и более заказа."
   ]
  },
  {
   "cell_type": "code",
   "execution_count": 19,
   "id": "df4d5567",
   "metadata": {
    "scrolled": false
   },
   "outputs": [
    {
     "data": {
      "image/png": "[encoded data removed]",
      "text/plain": [
       "<Figure size 360x360 with 1 Axes>"
      ]
     },
     "metadata": {
      "needs_background": "light"
     },
     "output_type": "display_data"
    },
    {
     "data": {
      "text/plain": [
       "count      2430.000000\n",
       "mean       1902.017455\n",
       "std       14329.072490\n",
       "min          15.000000\n",
       "25%         391.500000\n",
       "50%         839.000000\n",
       "75%        1799.000000\n",
       "max      675000.000000\n",
       "Name: monetary_value, dtype: float64"
      ]
     },
     "execution_count": 19,
     "metadata": {},
     "output_type": "execute_result"
    }
   ],
   "source": [
    "# строим график распределения по стоимости заказов\n",
    "sns.displot(RFM_table.query('monetary_value <= 3000')['monetary_value'], bins=20) # убираем выбросы для наглядности графика\n",
    "plt.title('Распределение стоимости заказов')\n",
    "plt.xlabel('стоимость')\n",
    "plt.ylabel('количество покупателей')\n",
    "plt.grid(True)\n",
    "plt.show()\n",
    "\n",
    "# выводим основные статистические характеристики\n",
    "RFM_table['monetary_value'].describe()"
   ]
  },
  {
   "cell_type": "markdown",
   "id": "0d77ba3b",
   "metadata": {},
   "source": [
    "Основная масса покупателей совершили покупок на сумму до 1500 рублей, причём больше всего тех, кто потратил до 500 рублей.\n",
    "\n",
    "Здесь также есть выбросы."
   ]
  },
  {
   "cell_type": "code",
   "execution_count": 20,
   "id": "828cb401",
   "metadata": {},
   "outputs": [
    {
     "data": {
      "image/png": "[encoded data removed]",
      "text/plain": [
       "<Figure size 720x360 with 1 Axes>"
      ]
     },
     "metadata": {
      "needs_background": "light"
     },
     "output_type": "display_data"
    },
    {
     "name": "stdout",
     "output_type": "stream",
     "text": [
      "Перцентили 90, 95, 99: [ 3401.2   4902.2  10094.63]\n"
     ]
    }
   ],
   "source": [
    "# задаём размер сетки для графиков\n",
    "plt.figure(figsize=(10, 5))\n",
    "\n",
    "x_values = pd.Series(range(0,len(RFM_table)))\n",
    "\n",
    "plt.scatter(x_values, RFM_table['monetary_value']) \n",
    "plt.title('Точечная диаграмма стоимости заказов')\n",
    "plt.xlabel('количество покупателей')\n",
    "plt.ylabel('стоимость')\n",
    "plt.show()\n",
    "\n",
    "print('Перцентили 90, 95, 99:', np.percentile(RFM_table['monetary_value'], [90, 95, 99])) \n",
    "\n",
    "# объявляем переменную с выбросами для последующего удаления из датасета\n",
    "abnormal_monetary_value = RFM_table[RFM_table['monetary_value'] > np.percentile(RFM_table['monetary_value'], 95)]['customer_id']"
   ]
  },
  {
   "cell_type": "markdown",
   "id": "6bf99147",
   "metadata": {},
   "source": [
    "Покупателей, совершивших заказы на сумму более 4 902 руб. будем считать аномальными и уберём из датасета."
   ]
  },
  {
   "cell_type": "code",
   "execution_count": 21,
   "id": "79f81519",
   "metadata": {},
   "outputs": [
    {
     "name": "stdout",
     "output_type": "stream",
     "text": [
      "6     005ba170-45e8-42de-93f7-192481ae2659\n",
      "17    0184f535-b60a-4914-a982-231e3f615206\n",
      "23    01c31cf3-cdb3-4b90-a2ef-ebe1b9e1fc33\n",
      "32    02adb72a-3067-45e9-a3b5-f93d79d7496a\n",
      "45    04416514-5346-4f90-93e3-fb7365e2ee8c\n",
      "Name: customer_id, dtype: object\n",
      "142\n"
     ]
    },
    {
     "data": {
      "text/plain": [
       "5.84"
      ]
     },
     "execution_count": 21,
     "metadata": {},
     "output_type": "execute_result"
    }
   ],
   "source": [
    "abnormal_customers = (\n",
    "    pd.concat([abnormal_frequency, abnormal_monetary_value], axis=0)\n",
    "    .drop_duplicates()\n",
    "    .sort_values()\n",
    ")\n",
    "print(abnormal_customers.head(5))\n",
    "print(abnormal_customers.shape[0])\n",
    "round(len(abnormal_customers)/RFM_table['customer_id'].nunique()*100, 2)"
   ]
  },
  {
   "cell_type": "markdown",
   "id": "1b2a4fb1",
   "metadata": {},
   "source": [
    "Всего аномальных покупателей 142, это 5,84% от общего числа покупателей."
   ]
  },
  {
   "cell_type": "code",
   "execution_count": 22,
   "id": "9a19564c",
   "metadata": {},
   "outputs": [
    {
     "data": {
      "text/plain": [
       "(2288, 4)"
      ]
     },
     "execution_count": 22,
     "metadata": {},
     "output_type": "execute_result"
    }
   ],
   "source": [
    "# удаляем аномальных покупателей из таблицы для RFM анализа и сразу из основного датасета\n",
    "RFM_table = RFM_table[np.logical_not(RFM_table['customer_id'].isin(abnormal_customers))]\n",
    "data = data[np.logical_not(data['customer_id'].isin(abnormal_customers))]\n",
    "RFM_table.shape"
   ]
  },
  {
   "cell_type": "markdown",
   "id": "2b81b476",
   "metadata": {},
   "source": [
    "В таблице для RFM-анализа осталось 2 288 покупателей."
   ]
  },
  {
   "cell_type": "markdown",
   "id": "ccfbef3e",
   "metadata": {},
   "source": [
    "### Промежуточный вывод\n",
    "\n",
    "По итогам исследовательского анализа:\n",
    "- Временной период в датасете с 1 октября 2018 года по 31 января 2020 года, количество заказов за этот период составляет 3 521 и количество пользователей 2 288 с учётом удалённых выбросов.\n",
    "- Подготовили данные для RFM-анализа и посчитали:\n",
    "    - как давно покупатель совершил покупку?\n",
    "    - как часто покупатель совершает покупки?\n",
    "    - сколько покупатель тратит?\n",
    "- Выяснили, что:\n",
    "    - Четверть от всех покупателей последний раз совершали покупку не более 3 месяцев назад, а другая четверть — год назад и более. У половины покупателей последняя покупка была от 3 месяцев до практически года назад.\n",
    "    - Большинство покупателей совершали 1 или 2 заказа.\n",
    "    - Основная масса покупателей совершили покупок на сумму до 1500 рублей, причём больше всего тех, кто потратил до 500 рублей."
   ]
  },
  {
   "cell_type": "markdown",
   "id": "84fdab77",
   "metadata": {},
   "source": [
    "## Сегментация покупателей"
   ]
  },
  {
   "cell_type": "markdown",
   "id": "5e174564",
   "metadata": {},
   "source": [
    "Разделим покупателей на 3 сегмента с помощью RFM-анализа."
   ]
  },
  {
   "cell_type": "code",
   "execution_count": 23,
   "id": "25d79f72",
   "metadata": {},
   "outputs": [
    {
     "data": {
      "text/html": [
       "<div>\n",
       "<style scoped>\n",
       "    .dataframe tbody tr th:only-of-type {\n",
       "        vertical-align: middle;\n",
       "    }\n",
       "\n",
       "    .dataframe tbody tr th {\n",
       "        vertical-align: top;\n",
       "    }\n",
       "\n",
       "    .dataframe thead th {\n",
       "        text-align: right;\n",
       "    }\n",
       "</style>\n",
       "<table border=\"1\" class=\"dataframe\">\n",
       "  <thead>\n",
       "    <tr style=\"text-align: right;\">\n",
       "      <th></th>\n",
       "      <th>customer_id</th>\n",
       "      <th>recency</th>\n",
       "      <th>frequency</th>\n",
       "      <th>monetary_value</th>\n",
       "      <th>R_quantile</th>\n",
       "      <th>F_quantile</th>\n",
       "      <th>M_quantile</th>\n",
       "      <th>RFM_class</th>\n",
       "    </tr>\n",
       "  </thead>\n",
       "  <tbody>\n",
       "    <tr>\n",
       "      <th>0</th>\n",
       "      <td>000d6849-084e-4d9f-ac03-37174eaf60c4</td>\n",
       "      <td>107</td>\n",
       "      <td>1</td>\n",
       "      <td>555.0</td>\n",
       "      <td>2</td>\n",
       "      <td>1</td>\n",
       "      <td>2</td>\n",
       "      <td>212</td>\n",
       "    </tr>\n",
       "    <tr>\n",
       "      <th>1</th>\n",
       "      <td>001cee7f-0b29-4716-b202-0042213ab038</td>\n",
       "      <td>349</td>\n",
       "      <td>1</td>\n",
       "      <td>442.0</td>\n",
       "      <td>1</td>\n",
       "      <td>1</td>\n",
       "      <td>1</td>\n",
       "      <td>111</td>\n",
       "    </tr>\n",
       "    <tr>\n",
       "      <th>2</th>\n",
       "      <td>00299f34-5385-4d13-9aea-c80b81658e1b</td>\n",
       "      <td>109</td>\n",
       "      <td>1</td>\n",
       "      <td>914.0</td>\n",
       "      <td>2</td>\n",
       "      <td>1</td>\n",
       "      <td>2</td>\n",
       "      <td>212</td>\n",
       "    </tr>\n",
       "    <tr>\n",
       "      <th>3</th>\n",
       "      <td>002d4d3a-4a59-406b-86ec-c3314357e498</td>\n",
       "      <td>369</td>\n",
       "      <td>1</td>\n",
       "      <td>1649.0</td>\n",
       "      <td>1</td>\n",
       "      <td>1</td>\n",
       "      <td>3</td>\n",
       "      <td>113</td>\n",
       "    </tr>\n",
       "    <tr>\n",
       "      <th>4</th>\n",
       "      <td>003bbd39-0000-41ff-b7f9-2ddaec152037</td>\n",
       "      <td>124</td>\n",
       "      <td>1</td>\n",
       "      <td>2324.0</td>\n",
       "      <td>2</td>\n",
       "      <td>1</td>\n",
       "      <td>3</td>\n",
       "      <td>213</td>\n",
       "    </tr>\n",
       "  </tbody>\n",
       "</table>\n",
       "</div>"
      ],
      "text/plain": [
       "                            customer_id  recency  frequency  monetary_value  \\\n",
       "0  000d6849-084e-4d9f-ac03-37174eaf60c4      107          1           555.0   \n",
       "1  001cee7f-0b29-4716-b202-0042213ab038      349          1           442.0   \n",
       "2  00299f34-5385-4d13-9aea-c80b81658e1b      109          1           914.0   \n",
       "3  002d4d3a-4a59-406b-86ec-c3314357e498      369          1          1649.0   \n",
       "4  003bbd39-0000-41ff-b7f9-2ddaec152037      124          1          2324.0   \n",
       "\n",
       "   R_quantile  F_quantile  M_quantile RFM_class  \n",
       "0           2           1           2       212  \n",
       "1           1           1           1       111  \n",
       "2           2           1           2       212  \n",
       "3           1           1           3       113  \n",
       "4           2           1           3       213  "
      ]
     },
     "execution_count": 23,
     "metadata": {},
     "output_type": "execute_result"
    }
   ],
   "source": [
    "# используем квантили для разделения данных на 3 части\n",
    "quantiles = RFM_table.quantile(q=[0.33, 0.66], numeric_only=True)\n",
    "\n",
    "# конвертируем в словарь для удобства\n",
    "quantiles = quantiles.to_dict()\n",
    "segmented_rfm = RFM_table.copy()\n",
    "\n",
    "# функция для определения класса Recency (x = value, p = recency, monetary_value, frequency, d = quantiles dict)\n",
    "def R_class(x, p, d):\n",
    "    if x <= d[p][0.33]:\n",
    "        return 3\n",
    "    elif x <= d[p][0.66]:\n",
    "        return 2\n",
    "    else:\n",
    "        return 1\n",
    "    \n",
    "# функция для определения классов Frequency и Monetary Value \n",
    "def FM_class(x, p, d):\n",
    "    if x <= d[p][0.33]:\n",
    "        return 1\n",
    "    elif x <= d[p][0.66]:\n",
    "        return 2\n",
    "    else:\n",
    "        return 3\n",
    "    \n",
    "# создаем дополнительные столбцы с оценками по 3 параметрам\n",
    "segmented_rfm['R_quantile'] = segmented_rfm['recency'].apply(R_class, args=('recency', quantiles))\n",
    "segmented_rfm['F_quantile'] = segmented_rfm['frequency'].apply(FM_class, args=('frequency', quantiles))\n",
    "segmented_rfm['M_quantile'] = segmented_rfm['monetary_value'].apply(FM_class, args=('monetary_value', quantiles))\n",
    "\n",
    "#объединяем 3 оценки в один столбец\n",
    "segmented_rfm['RFM_class'] = segmented_rfm.R_quantile.map(str) \\\n",
    "                            + segmented_rfm.F_quantile.map(str) \\\n",
    "                            + segmented_rfm.M_quantile.map(str)\n",
    "\n",
    "segmented_rfm.head()"
   ]
  },
  {
   "cell_type": "markdown",
   "id": "05607df4",
   "metadata": {},
   "source": [
    "Мы получили оценки по каждому из параметров, где 3 — лучшая оценка, 1 — худшая оценка. "
   ]
  },
  {
   "cell_type": "markdown",
   "id": "f226c862",
   "metadata": {},
   "source": [
    "Посмотрим, сколько покупателей попадает в каждую группу и сформируем 3 сегмента:\n",
    "- лояльные;\n",
    "- спящие;\n",
    "- потерянные."
   ]
  },
  {
   "cell_type": "code",
   "execution_count": 24,
   "id": "8999524d",
   "metadata": {},
   "outputs": [
    {
     "data": {
      "image/png": "[encoded data removed]",
      "text/plain": [
       "<Figure size 1080x576 with 1 Axes>"
      ]
     },
     "metadata": {
      "needs_background": "light"
     },
     "output_type": "display_data"
    }
   ],
   "source": [
    "# строим столбчатую диаграмму по RFM группам\n",
    "fig = plt.figure(figsize=(15, 8))\n",
    "segmented_rfm.groupby('RFM_class')['customer_id'].agg('nunique').plot(kind='bar')\n",
    "plt.title('Распределение покупателей по RFM-анализу')\n",
    "plt.xlabel('группа RFM')\n",
    "plt.ylabel('количество покупателей')\n",
    "plt.grid(True)\n",
    "plt.show()"
   ]
  },
  {
   "cell_type": "markdown",
   "id": "e324868f",
   "metadata": {},
   "source": [
    "Получившиеся группы RFM анализа мы можем интерпретировать следующим образом:\n",
    "- лояльные покупатели:\n",
    "    - `R=3, F=2, M=3` — покупают недавно, много и в целом нередко;\n",
    "    - `R=3, F=2, M=2` — покупают недавно, время от времени на среднюю сумму;\n",
    "    - `R=3, F=2, M=1` — покупают недавно, время от времени на небольшую сумму;\n",
    "    - `R=3, F=1, M=1/2/3` — недавние новые покупатели.\n",
    "- спящие покупатели:\n",
    "    - `R=2, F=1/2/3, M=1/2/3` — спящие покупатели;\n",
    "    - `R=1, F=2, M=2/3` — бывшие лояльные покупатели.\n",
    "- потерянные покупатели:\n",
    "    - `R=1, F=1, M=1` — купили 1 раз, мало и давно;\n",
    "    - `R=1, F=1, M=2/3` — купили 1 раз на среднюю или большую сумму;\n",
    "    - `R=1, F=2, M=1` — покупали часто на маленькую сумму."
   ]
  },
  {
   "cell_type": "code",
   "execution_count": 25,
   "id": "bb767889",
   "metadata": {
    "scrolled": true
   },
   "outputs": [
    {
     "data": {
      "text/html": [
       "<div>\n",
       "<style scoped>\n",
       "    .dataframe tbody tr th:only-of-type {\n",
       "        vertical-align: middle;\n",
       "    }\n",
       "\n",
       "    .dataframe tbody tr th {\n",
       "        vertical-align: top;\n",
       "    }\n",
       "\n",
       "    .dataframe thead th {\n",
       "        text-align: right;\n",
       "    }\n",
       "</style>\n",
       "<table border=\"1\" class=\"dataframe\">\n",
       "  <thead>\n",
       "    <tr style=\"text-align: right;\">\n",
       "      <th></th>\n",
       "      <th>customer_id</th>\n",
       "      <th>recency</th>\n",
       "      <th>frequency</th>\n",
       "      <th>monetary_value</th>\n",
       "      <th>R_quantile</th>\n",
       "      <th>F_quantile</th>\n",
       "      <th>M_quantile</th>\n",
       "      <th>RFM_class</th>\n",
       "      <th>segment</th>\n",
       "    </tr>\n",
       "  </thead>\n",
       "  <tbody>\n",
       "    <tr>\n",
       "      <th>0</th>\n",
       "      <td>000d6849-084e-4d9f-ac03-37174eaf60c4</td>\n",
       "      <td>107</td>\n",
       "      <td>1</td>\n",
       "      <td>555.0</td>\n",
       "      <td>2</td>\n",
       "      <td>1</td>\n",
       "      <td>2</td>\n",
       "      <td>212</td>\n",
       "      <td>sleeping</td>\n",
       "    </tr>\n",
       "    <tr>\n",
       "      <th>1</th>\n",
       "      <td>001cee7f-0b29-4716-b202-0042213ab038</td>\n",
       "      <td>349</td>\n",
       "      <td>1</td>\n",
       "      <td>442.0</td>\n",
       "      <td>1</td>\n",
       "      <td>1</td>\n",
       "      <td>1</td>\n",
       "      <td>111</td>\n",
       "      <td>lost</td>\n",
       "    </tr>\n",
       "    <tr>\n",
       "      <th>2</th>\n",
       "      <td>00299f34-5385-4d13-9aea-c80b81658e1b</td>\n",
       "      <td>109</td>\n",
       "      <td>1</td>\n",
       "      <td>914.0</td>\n",
       "      <td>2</td>\n",
       "      <td>1</td>\n",
       "      <td>2</td>\n",
       "      <td>212</td>\n",
       "      <td>sleeping</td>\n",
       "    </tr>\n",
       "    <tr>\n",
       "      <th>3</th>\n",
       "      <td>002d4d3a-4a59-406b-86ec-c3314357e498</td>\n",
       "      <td>369</td>\n",
       "      <td>1</td>\n",
       "      <td>1649.0</td>\n",
       "      <td>1</td>\n",
       "      <td>1</td>\n",
       "      <td>3</td>\n",
       "      <td>113</td>\n",
       "      <td>lost</td>\n",
       "    </tr>\n",
       "    <tr>\n",
       "      <th>4</th>\n",
       "      <td>003bbd39-0000-41ff-b7f9-2ddaec152037</td>\n",
       "      <td>124</td>\n",
       "      <td>1</td>\n",
       "      <td>2324.0</td>\n",
       "      <td>2</td>\n",
       "      <td>1</td>\n",
       "      <td>3</td>\n",
       "      <td>213</td>\n",
       "      <td>sleeping</td>\n",
       "    </tr>\n",
       "  </tbody>\n",
       "</table>\n",
       "</div>"
      ],
      "text/plain": [
       "                            customer_id  recency  frequency  monetary_value  \\\n",
       "0  000d6849-084e-4d9f-ac03-37174eaf60c4      107          1           555.0   \n",
       "1  001cee7f-0b29-4716-b202-0042213ab038      349          1           442.0   \n",
       "2  00299f34-5385-4d13-9aea-c80b81658e1b      109          1           914.0   \n",
       "3  002d4d3a-4a59-406b-86ec-c3314357e498      369          1          1649.0   \n",
       "4  003bbd39-0000-41ff-b7f9-2ddaec152037      124          1          2324.0   \n",
       "\n",
       "   R_quantile  F_quantile  M_quantile RFM_class   segment  \n",
       "0           2           1           2       212  sleeping  \n",
       "1           1           1           1       111      lost  \n",
       "2           2           1           2       212  sleeping  \n",
       "3           1           1           3       113      lost  \n",
       "4           2           1           3       213  sleeping  "
      ]
     },
     "metadata": {},
     "output_type": "display_data"
    },
    {
     "data": {
      "text/plain": [
       "segment\n",
       "lost        742\n",
       "loyal       757\n",
       "sleeping    789\n",
       "Name: customer_id, dtype: int64"
      ]
     },
     "execution_count": 25,
     "metadata": {},
     "output_type": "execute_result"
    }
   ],
   "source": [
    "# объявляем функцию для присвоения сегментов\n",
    "def segment_choice(row):\n",
    "    if row['RFM_class'] in ['323', '322', '321', '311', '312', '313']:\n",
    "        return 'loyal'\n",
    "    elif row['RFM_class'] in ['211', '212', '213', '221', \n",
    "                              '222', '223', '231', '232', \n",
    "                              '233', '122', '123']:\n",
    "        return 'sleeping'\n",
    "    elif row['RFM_class'] in ['111', '112', '113', '121']:\n",
    "        return 'lost'\n",
    "    else:\n",
    "        return 'not defined'\n",
    "\n",
    "segmented_rfm['segment'] = segmented_rfm.apply(segment_choice, axis=1)\n",
    "\n",
    "display(segmented_rfm.head())\n",
    "segmented_rfm.groupby('segment')['customer_id'].agg('nunique')"
   ]
  },
  {
   "cell_type": "markdown",
   "id": "c82a60a7",
   "metadata": {},
   "source": [
    "В итоге у нас 742 потерянных покупателя, 757 лояльных и 789 спящих."
   ]
  },
  {
   "cell_type": "code",
   "execution_count": 26,
   "id": "6c7e5b4b",
   "metadata": {},
   "outputs": [
    {
     "name": "stdout",
     "output_type": "stream",
     "text": [
      "Совпадающие пользователи в сегментах loyal и sleeping: 0\n",
      "Совпадающие пользователи в сегментах loyal и lost: 0\n",
      "Совпадающие пользователи в сегментах lost и sleeping: 0\n"
     ]
    }
   ],
   "source": [
    "# объявим функцию, которая находит совпадающих пользователей в сегментах\n",
    "def common_users(grp1, grp2):\n",
    "    return list(set(segmented_rfm.query('segment == @grp1')['customer_id']).intersection(\n",
    "        segmented_rfm.query('segment == @grp2')['customer_id']))\n",
    "    \n",
    "print('Совпадающие пользователи в сегментах loyal и sleeping:', len(common_users(\"loyal\", \"sleeping\")))\n",
    "print('Совпадающие пользователи в сегментах loyal и lost:', len(common_users(\"loyal\", \"lost\")))\n",
    "print('Совпадающие пользователи в сегментах lost и sleeping:', len(common_users(\"lost\", \"sleeping\")))"
   ]
  },
  {
   "cell_type": "markdown",
   "id": "e46bdfe2",
   "metadata": {},
   "source": [
    "Совпадающих пользователей в сегментах нет."
   ]
  },
  {
   "cell_type": "markdown",
   "id": "e03ef223",
   "metadata": {},
   "source": [
    "### Промежуточный вывод\n",
    "\n",
    "Мы провели RFM-анализ и разделили покупателей на 3 сегмента:\n",
    "- ***лояльные покупатели*** — последняя покупка была недавно, покупают регулярно и, как правило, на более крупные суммы;\n",
    "- ***спящие покупатели*** — те, кто давно ничего не покупал, бывшие лояльные покупатели;\n",
    "- ***потерянные покупатели*** — последняя покупка была давно, покупали редко и в основном мало.\n"
   ]
  },
  {
   "cell_type": "markdown",
   "id": "0a3961ab",
   "metadata": {},
   "source": [
    "## Проверка гипотез"
   ]
  },
  {
   "cell_type": "markdown",
   "id": "988b6369",
   "metadata": {},
   "source": [
    "Прежде чем анализировать особенности каждого сегмента, проверим корректность разделения с помощью статистического теста."
   ]
  },
  {
   "cell_type": "markdown",
   "id": "430fb7a1",
   "metadata": {},
   "source": [
    "### Проверка данных на нормальность"
   ]
  },
  {
   "cell_type": "markdown",
   "id": "c1127f6f",
   "metadata": {},
   "source": [
    "Проверим с помощью критерия Шапиро-Уилка, можно ли считать наши 3 параметра нормально распределёнными.\n",
    "\n",
    "Сформулируем гипотезы:\n",
    "- **H0** — давность покупки в днях распределена нормально.\n",
    "- **H1** — давность покупки в днях распределена не нормально.\n",
    "\n",
    "Уровень статистической значимости выбираем 0,05."
   ]
  },
  {
   "cell_type": "code",
   "execution_count": 27,
   "id": "a8e905e3",
   "metadata": {},
   "outputs": [
    {
     "name": "stdout",
     "output_type": "stream",
     "text": [
      "p-значение для давности покупки:  1.8388187600251994e-31\n",
      "Отвергаем нулевую гипотезу: распределение не нормально\n"
     ]
    }
   ],
   "source": [
    "alpha = 0.05  # критический уровень статистической значимости\n",
    "\n",
    "results = st.shapiro(segmented_rfm['recency'])\n",
    "p_value = results[\n",
    "    1\n",
    "]  # второе значение в массиве результатов (с индексом 1) - p-value\n",
    "\n",
    "print('p-значение для давности покупки: ', p_value)\n",
    "\n",
    "if p_value < alpha:\n",
    "    print('Отвергаем нулевую гипотезу: распределение не нормально')\n",
    "else:\n",
    "    print('Не получилось отвергнуть нулевую гипотезу, всё нормально') "
   ]
  },
  {
   "cell_type": "markdown",
   "id": "8837fe58",
   "metadata": {},
   "source": [
    "- **H0** — частота покупок распределена нормально.\n",
    "- **H1** — частота покупок распределена не нормально."
   ]
  },
  {
   "cell_type": "code",
   "execution_count": 28,
   "id": "3ae99711",
   "metadata": {},
   "outputs": [
    {
     "name": "stdout",
     "output_type": "stream",
     "text": [
      "p-значение для частоты покупок:  0.0\n",
      "Отвергаем нулевую гипотезу: распределение не нормально\n"
     ]
    }
   ],
   "source": [
    "alpha = 0.05  # критический уровень статистической значимости\n",
    "\n",
    "results = st.shapiro(segmented_rfm['frequency'])\n",
    "p_value = results[\n",
    "    1\n",
    "]  # второе значение в массиве результатов (с индексом 1) - p-value\n",
    "\n",
    "print('p-значение для частоты покупок: ', p_value)\n",
    "\n",
    "if p_value < alpha:\n",
    "    print('Отвергаем нулевую гипотезу: распределение не нормально')\n",
    "else:\n",
    "    print('Не получилось отвергнуть нулевую гипотезу, всё нормально') "
   ]
  },
  {
   "cell_type": "markdown",
   "id": "f573b73b",
   "metadata": {},
   "source": [
    "- **H0** — сумма покупок на покупателя распределена нормально.\n",
    "- **H1** — сумма покупок на покупателя распределена не нормально."
   ]
  },
  {
   "cell_type": "code",
   "execution_count": 29,
   "id": "0408060a",
   "metadata": {},
   "outputs": [
    {
     "name": "stdout",
     "output_type": "stream",
     "text": [
      "p-значение для суммы покупок:  1.778247751228193e-42\n",
      "Отвергаем нулевую гипотезу: распределение не нормально\n"
     ]
    }
   ],
   "source": [
    "alpha = 0.05  # критический уровень статистической значимости\n",
    "\n",
    "results = st.shapiro(segmented_rfm['monetary_value'])\n",
    "p_value = results[\n",
    "    1\n",
    "]  # второе значение в массиве результатов (с индексом 1) - p-value\n",
    "\n",
    "print('p-значение для суммы покупок: ', p_value)\n",
    "\n",
    "if p_value < alpha:\n",
    "    print('Отвергаем нулевую гипотезу: распределение не нормально')\n",
    "else:\n",
    "    print('Не получилось отвергнуть нулевую гипотезу, всё нормально') "
   ]
  },
  {
   "cell_type": "markdown",
   "id": "83017d32",
   "metadata": {},
   "source": [
    "P-value для всех трёх параметров ниже уровня статистической значимости, переменные распределены не нормально."
   ]
  },
  {
   "cell_type": "markdown",
   "id": "8517b869",
   "metadata": {},
   "source": [
    "### Проверка разделения сегментов"
   ]
  },
  {
   "cell_type": "markdown",
   "id": "90852382",
   "metadata": {},
   "source": [
    "Будем использовать критерий Манна-Уитни, поскольку наши переменные распределены не нормально, а значит, алгебраические метрики будут работать плохо, одно выбивающееся значение может существенно повлиять на результат. Критерий Манна-Уитни основан на структурном подходе и работает с рангами, никак не учитывая сами значения.\n",
    "\n",
    "Уровень статистической значимости также выбираем 0,05.\n",
    "\n",
    "Сформулируем гипотезы:\n",
    "\n",
    "- **H0** — нет различий между сегментами по давности покупки.\n",
    "- **H1** — есть различия между сегментами по давности покупки."
   ]
  },
  {
   "cell_type": "code",
   "execution_count": 30,
   "id": "0f2a54e3",
   "metadata": {},
   "outputs": [
    {
     "name": "stdout",
     "output_type": "stream",
     "text": [
      "p-value по давности покупки:\n",
      "для лояльных и спящих — 0.000\n",
      "для лояльных и потерянных — 0.000\n",
      "для потерянных и спящих — 0.000\n"
     ]
    }
   ],
   "source": [
    "# создадим отдельные переменные для каждого сегмента\n",
    "segment_loyal = segmented_rfm.query('segment == \"loyal\"')\n",
    "segment_sleeping = segmented_rfm.query('segment == \"sleeping\"')\n",
    "segment_lost = segmented_rfm.query('segment == \"lost\"')\n",
    "\n",
    "# применим критерий Манна-Уитни и отформатируем p-value, округлив его до трёх знаков после запятой\n",
    "print('p-value по давности покупки:')\n",
    "print('для лояльных и спящих —', \"{0:.3f}\".format(st.mannwhitneyu(segment_loyal['recency'], segment_sleeping['recency'])[1]))\n",
    "print('для лояльных и потерянных —', \"{0:.3f}\".format(st.mannwhitneyu(segment_loyal['recency'], segment_lost['recency'])[1]))\n",
    "print('для потерянных и спящих —', \"{0:.3f}\".format(st.mannwhitneyu(segment_lost['recency'], segment_sleeping['recency'])[1]))"
   ]
  },
  {
   "cell_type": "markdown",
   "id": "088bc810",
   "metadata": {},
   "source": [
    "Сделаем поправку на множественную проверку с помощью метода Холма."
   ]
  },
  {
   "cell_type": "code",
   "execution_count": 31,
   "id": "b11d9326",
   "metadata": {},
   "outputs": [
    {
     "name": "stdout",
     "output_type": "stream",
     "text": [
      "[ True  True  True]\n",
      "[2.12882272e-253 5.36226757e-246 1.58595446e-232]\n"
     ]
    }
   ],
   "source": [
    "rec_pvalue_ls = st.mannwhitneyu(segment_loyal['recency'], segment_sleeping['recency'])[1]\n",
    "rec_pvalue_ll = st.mannwhitneyu(segment_loyal['recency'], segment_lost['recency'])[1]\n",
    "rec_pvalue_sl = st.mannwhitneyu(segment_lost['recency'], segment_sleeping['recency'])[1]\n",
    "rec_pvalue = [rec_pvalue_ls, rec_pvalue_ll, rec_pvalue_sl]\n",
    "rec_reject, rec_p_corrected, a1, a2 = multipletests(rec_pvalue, alpha = 0.05, method = 'holm')\n",
    "print(rec_reject)\n",
    "print(rec_p_corrected)"
   ]
  },
  {
   "cell_type": "markdown",
   "id": "d8ac6f75",
   "metadata": {},
   "source": [
    "По давности покупки p-value ниже 0,05, поэтому мы отвергаем нулевую гипотезу, различия между сегментами есть. "
   ]
  },
  {
   "cell_type": "markdown",
   "id": "2dafca0d",
   "metadata": {},
   "source": [
    "- **H0** — нет различий между сегментами по частоте покупок.\n",
    "- **H1** — есть различия между сегментами по частоте покупок."
   ]
  },
  {
   "cell_type": "code",
   "execution_count": 32,
   "id": "217bd801",
   "metadata": {},
   "outputs": [
    {
     "name": "stdout",
     "output_type": "stream",
     "text": [
      "p-value по частоте покупок:\n",
      "для лояльных и спящих — 0.000\n",
      "для лояльных и потерянных — 0.000\n",
      "для потерянных и спящих — 0.000\n"
     ]
    }
   ],
   "source": [
    "print('p-value по частоте покупок:')\n",
    "print('для лояльных и спящих —', \"{0:.3f}\".format(st.mannwhitneyu(segment_loyal['frequency'], segment_sleeping['frequency'])[1]))\n",
    "print('для лояльных и потерянных —', \"{0:.3f}\".format(st.mannwhitneyu(segment_loyal['frequency'], segment_lost['frequency'])[1]))\n",
    "print('для потерянных и спящих —', \"{0:.3f}\".format(st.mannwhitneyu(segment_lost['frequency'], segment_sleeping['frequency'])[1]))"
   ]
  },
  {
   "cell_type": "code",
   "execution_count": 33,
   "id": "46f8357b",
   "metadata": {},
   "outputs": [
    {
     "name": "stdout",
     "output_type": "stream",
     "text": [
      "[ True  True  True]\n",
      "[1.99663335e-206 9.87390679e-257 2.11827116e-014]\n"
     ]
    }
   ],
   "source": [
    "freq_pvalue_ls = st.mannwhitneyu(segment_loyal['frequency'], segment_sleeping['frequency'])[1]\n",
    "freq_pvalue_ll = st.mannwhitneyu(segment_loyal['frequency'], segment_lost['frequency'])[1]\n",
    "freq_pvalue_sl = st.mannwhitneyu(segment_lost['frequency'], segment_sleeping['frequency'])[1]\n",
    "freq_pvalue = [freq_pvalue_ls, freq_pvalue_ll, freq_pvalue_sl]\n",
    "freq_reject, freq_p_corrected, a1, a2 = multipletests(freq_pvalue, alpha = 0.05, method = 'holm')\n",
    "print(freq_reject)\n",
    "print(freq_p_corrected)"
   ]
  },
  {
   "cell_type": "markdown",
   "id": "8afe1fef",
   "metadata": {},
   "source": [
    "По частоте покупок точно такая же ситуация, различия есть между всеми тремя сегментами."
   ]
  },
  {
   "cell_type": "markdown",
   "id": "08d2a36a",
   "metadata": {},
   "source": [
    "- **H0** — нет различий между сегментами по сумме покупки.\n",
    "- **H1** — есть различия между сегментами по сумме покупки."
   ]
  },
  {
   "cell_type": "code",
   "execution_count": 34,
   "id": "033efa5a",
   "metadata": {},
   "outputs": [
    {
     "name": "stdout",
     "output_type": "stream",
     "text": [
      "p-value по сумме покупки:\n",
      "для лояльных и спящих — 0.000\n",
      "для лояльных и потерянных — 0.000\n",
      "для потерянных и спящих — 0.364\n"
     ]
    }
   ],
   "source": [
    "print('p-value по сумме покупки:')\n",
    "print('для лояльных и спящих —', \"{0:.3f}\".format(st.mannwhitneyu(segment_loyal['monetary_value'], segment_sleeping['monetary_value'])[1]))\n",
    "print('для лояльных и потерянных —', \"{0:.3f}\".format(st.mannwhitneyu(segment_loyal['monetary_value'], segment_lost['monetary_value'])[1]))\n",
    "print('для потерянных и спящих —', \"{0:.3f}\".format(st.mannwhitneyu(segment_lost['monetary_value'], segment_sleeping['monetary_value'])[1]))"
   ]
  },
  {
   "cell_type": "code",
   "execution_count": 35,
   "id": "7d706ad2",
   "metadata": {},
   "outputs": [
    {
     "name": "stdout",
     "output_type": "stream",
     "text": [
      "[ True  True False]\n",
      "[3.15004307e-09 1.83146450e-07 3.64413401e-01]\n"
     ]
    }
   ],
   "source": [
    "mon_pvalue_ls = st.mannwhitneyu(segment_loyal['monetary_value'], segment_sleeping['monetary_value'])[1]\n",
    "mon_pvalue_ll = st.mannwhitneyu(segment_loyal['monetary_value'], segment_lost['monetary_value'])[1]\n",
    "mon_pvalue_sl = st.mannwhitneyu(segment_lost['monetary_value'], segment_sleeping['monetary_value'])[1]\n",
    "mon_pvalue = [mon_pvalue_ls, mon_pvalue_ll, mon_pvalue_sl]\n",
    "mon_reject, mon_p_corrected, a1, a2 = multipletests(mon_pvalue, alpha = 0.05, method = 'holm')\n",
    "print(mon_reject)\n",
    "print(mon_p_corrected)"
   ]
  },
  {
   "cell_type": "markdown",
   "id": "89340119",
   "metadata": {},
   "source": [
    "По сумме покупки между лояльными и спящими/потерянными есть различия, p-value ниже уровня статистической значимости, а между потерянными и спящими p-value значительно больше 0,05, поэтому мы не можем отвергнуть нулевую гипотезу."
   ]
  },
  {
   "cell_type": "markdown",
   "id": "e0f33006",
   "metadata": {},
   "source": [
    "### Промежуточный вывод\n",
    "\n",
    "- с помощью критерия Шапиро-Уилка мы проверили наши переменные на нормальность распределения;\n",
    "- выбрали критерий Манна-Уитни, поскольку распределения не нормальны;\n",
    "- сделали поправку на множественную проверку с помощью метода Холма;\n",
    "- можно считать, что наши 3 сегмента выделены корректно, различия есть между всеми сегментами по давности и частоте покупок, а по сумме покупок нет значимых различий только между потерянными и спящими."
   ]
  },
  {
   "cell_type": "markdown",
   "id": "3a9ead75",
   "metadata": {},
   "source": [
    "## Особенности сегментов"
   ]
  },
  {
   "cell_type": "markdown",
   "id": "dd03b7a8",
   "metadata": {},
   "source": [
    "Теперь мы можем перейти к анализу особенностей каждого сегмента. Для этого добавим в основной датасет столбец с сегментами."
   ]
  },
  {
   "cell_type": "code",
   "execution_count": 36,
   "id": "ee9a32d8",
   "metadata": {},
   "outputs": [
    {
     "data": {
      "text/html": [
       "<div>\n",
       "<style scoped>\n",
       "    .dataframe tbody tr th:only-of-type {\n",
       "        vertical-align: middle;\n",
       "    }\n",
       "\n",
       "    .dataframe tbody tr th {\n",
       "        vertical-align: top;\n",
       "    }\n",
       "\n",
       "    .dataframe thead th {\n",
       "        text-align: right;\n",
       "    }\n",
       "</style>\n",
       "<table border=\"1\" class=\"dataframe\">\n",
       "  <thead>\n",
       "    <tr style=\"text-align: right;\">\n",
       "      <th></th>\n",
       "      <th>date</th>\n",
       "      <th>customer_id</th>\n",
       "      <th>order_id</th>\n",
       "      <th>product</th>\n",
       "      <th>quantity</th>\n",
       "      <th>price</th>\n",
       "      <th>customers_quantity</th>\n",
       "      <th>total</th>\n",
       "      <th>segment</th>\n",
       "    </tr>\n",
       "  </thead>\n",
       "  <tbody>\n",
       "    <tr>\n",
       "      <th>0</th>\n",
       "      <td>2018-10-01</td>\n",
       "      <td>ee47d746-6d2f-4d3c-9622-c31412542920</td>\n",
       "      <td>68477</td>\n",
       "      <td>Комнатное растение в горшке Алое Вера, d12, h30</td>\n",
       "      <td>1</td>\n",
       "      <td>142.0</td>\n",
       "      <td>1</td>\n",
       "      <td>142.0</td>\n",
       "      <td>lost</td>\n",
       "    </tr>\n",
       "    <tr>\n",
       "      <th>1</th>\n",
       "      <td>2018-10-01</td>\n",
       "      <td>ee47d746-6d2f-4d3c-9622-c31412542920</td>\n",
       "      <td>68477</td>\n",
       "      <td>Комнатное растение в горшке Кофе Арабика, d12,...</td>\n",
       "      <td>1</td>\n",
       "      <td>194.0</td>\n",
       "      <td>1</td>\n",
       "      <td>194.0</td>\n",
       "      <td>lost</td>\n",
       "    </tr>\n",
       "    <tr>\n",
       "      <th>2</th>\n",
       "      <td>2018-10-01</td>\n",
       "      <td>ee47d746-6d2f-4d3c-9622-c31412542920</td>\n",
       "      <td>68477</td>\n",
       "      <td>Радермахера d-12 см h-20 см</td>\n",
       "      <td>1</td>\n",
       "      <td>112.0</td>\n",
       "      <td>1</td>\n",
       "      <td>112.0</td>\n",
       "      <td>lost</td>\n",
       "    </tr>\n",
       "    <tr>\n",
       "      <th>3</th>\n",
       "      <td>2018-10-01</td>\n",
       "      <td>ee47d746-6d2f-4d3c-9622-c31412542920</td>\n",
       "      <td>68477</td>\n",
       "      <td>Хризолидокарпус Лутесценс d-9 см</td>\n",
       "      <td>1</td>\n",
       "      <td>179.0</td>\n",
       "      <td>1</td>\n",
       "      <td>179.0</td>\n",
       "      <td>lost</td>\n",
       "    </tr>\n",
       "    <tr>\n",
       "      <th>4</th>\n",
       "      <td>2018-10-01</td>\n",
       "      <td>ee47d746-6d2f-4d3c-9622-c31412542920</td>\n",
       "      <td>68477</td>\n",
       "      <td>Циперус Зумула d-12 см h-25 см</td>\n",
       "      <td>1</td>\n",
       "      <td>112.0</td>\n",
       "      <td>1</td>\n",
       "      <td>112.0</td>\n",
       "      <td>lost</td>\n",
       "    </tr>\n",
       "  </tbody>\n",
       "</table>\n",
       "</div>"
      ],
      "text/plain": [
       "        date                           customer_id order_id  \\\n",
       "0 2018-10-01  ee47d746-6d2f-4d3c-9622-c31412542920    68477   \n",
       "1 2018-10-01  ee47d746-6d2f-4d3c-9622-c31412542920    68477   \n",
       "2 2018-10-01  ee47d746-6d2f-4d3c-9622-c31412542920    68477   \n",
       "3 2018-10-01  ee47d746-6d2f-4d3c-9622-c31412542920    68477   \n",
       "4 2018-10-01  ee47d746-6d2f-4d3c-9622-c31412542920    68477   \n",
       "\n",
       "                                             product  quantity  price  \\\n",
       "0    Комнатное растение в горшке Алое Вера, d12, h30         1  142.0   \n",
       "1  Комнатное растение в горшке Кофе Арабика, d12,...         1  194.0   \n",
       "2                        Радермахера d-12 см h-20 см         1  112.0   \n",
       "3                   Хризолидокарпус Лутесценс d-9 см         1  179.0   \n",
       "4                     Циперус Зумула d-12 см h-25 см         1  112.0   \n",
       "\n",
       "   customers_quantity  total segment  \n",
       "0                   1  142.0    lost  \n",
       "1                   1  194.0    lost  \n",
       "2                   1  112.0    lost  \n",
       "3                   1  179.0    lost  \n",
       "4                   1  112.0    lost  "
      ]
     },
     "execution_count": 36,
     "metadata": {},
     "output_type": "execute_result"
    }
   ],
   "source": [
    "# объявляем функцию для создания столбца с сегментами в основном датасете\n",
    "def segment_to_data(row):\n",
    "    if row['customer_id'] in segment_loyal['customer_id'].tolist():\n",
    "        return 'loyal'\n",
    "    elif row['customer_id'] in segment_sleeping['customer_id'].tolist():\n",
    "        return 'sleeping'\n",
    "    elif row['customer_id'] in segment_lost['customer_id'].tolist():\n",
    "        return 'lost'\n",
    "\n",
    "data['segment'] = data.apply(segment_to_data, axis=1)\n",
    "data.head()"
   ]
  },
  {
   "cell_type": "markdown",
   "id": "2a4cb3d9",
   "metadata": {},
   "source": [
    "### Топ категорий товаров"
   ]
  },
  {
   "cell_type": "markdown",
   "id": "95351c79",
   "metadata": {},
   "source": [
    "Рассмотрим топ категорий товаров в каждом сегменте. Добавим еще один столбец с разделением товаров на категории."
   ]
  },
  {
   "cell_type": "code",
   "execution_count": 37,
   "id": "7696db5e",
   "metadata": {},
   "outputs": [
    {
     "data": {
      "text/html": [
       "<div>\n",
       "<style scoped>\n",
       "    .dataframe tbody tr th:only-of-type {\n",
       "        vertical-align: middle;\n",
       "    }\n",
       "\n",
       "    .dataframe tbody tr th {\n",
       "        vertical-align: top;\n",
       "    }\n",
       "\n",
       "    .dataframe thead th {\n",
       "        text-align: right;\n",
       "    }\n",
       "</style>\n",
       "<table border=\"1\" class=\"dataframe\">\n",
       "  <thead>\n",
       "    <tr style=\"text-align: right;\">\n",
       "      <th></th>\n",
       "      <th>date</th>\n",
       "      <th>customer_id</th>\n",
       "      <th>order_id</th>\n",
       "      <th>product</th>\n",
       "      <th>quantity</th>\n",
       "      <th>price</th>\n",
       "      <th>customers_quantity</th>\n",
       "      <th>total</th>\n",
       "      <th>segment</th>\n",
       "      <th>category</th>\n",
       "    </tr>\n",
       "  </thead>\n",
       "  <tbody>\n",
       "    <tr>\n",
       "      <th>0</th>\n",
       "      <td>2018-10-01</td>\n",
       "      <td>ee47d746-6d2f-4d3c-9622-c31412542920</td>\n",
       "      <td>68477</td>\n",
       "      <td>Комнатное растение в горшке Алое Вера, d12, h30</td>\n",
       "      <td>1</td>\n",
       "      <td>142.0</td>\n",
       "      <td>1</td>\n",
       "      <td>142.0</td>\n",
       "      <td>lost</td>\n",
       "      <td>Растения</td>\n",
       "    </tr>\n",
       "    <tr>\n",
       "      <th>1</th>\n",
       "      <td>2018-10-01</td>\n",
       "      <td>ee47d746-6d2f-4d3c-9622-c31412542920</td>\n",
       "      <td>68477</td>\n",
       "      <td>Комнатное растение в горшке Кофе Арабика, d12,...</td>\n",
       "      <td>1</td>\n",
       "      <td>194.0</td>\n",
       "      <td>1</td>\n",
       "      <td>194.0</td>\n",
       "      <td>lost</td>\n",
       "      <td>Растения</td>\n",
       "    </tr>\n",
       "    <tr>\n",
       "      <th>2</th>\n",
       "      <td>2018-10-01</td>\n",
       "      <td>ee47d746-6d2f-4d3c-9622-c31412542920</td>\n",
       "      <td>68477</td>\n",
       "      <td>Радермахера d-12 см h-20 см</td>\n",
       "      <td>1</td>\n",
       "      <td>112.0</td>\n",
       "      <td>1</td>\n",
       "      <td>112.0</td>\n",
       "      <td>lost</td>\n",
       "      <td>Растения</td>\n",
       "    </tr>\n",
       "    <tr>\n",
       "      <th>3</th>\n",
       "      <td>2018-10-01</td>\n",
       "      <td>ee47d746-6d2f-4d3c-9622-c31412542920</td>\n",
       "      <td>68477</td>\n",
       "      <td>Хризолидокарпус Лутесценс d-9 см</td>\n",
       "      <td>1</td>\n",
       "      <td>179.0</td>\n",
       "      <td>1</td>\n",
       "      <td>179.0</td>\n",
       "      <td>lost</td>\n",
       "      <td>Растения</td>\n",
       "    </tr>\n",
       "    <tr>\n",
       "      <th>4</th>\n",
       "      <td>2018-10-01</td>\n",
       "      <td>ee47d746-6d2f-4d3c-9622-c31412542920</td>\n",
       "      <td>68477</td>\n",
       "      <td>Циперус Зумула d-12 см h-25 см</td>\n",
       "      <td>1</td>\n",
       "      <td>112.0</td>\n",
       "      <td>1</td>\n",
       "      <td>112.0</td>\n",
       "      <td>lost</td>\n",
       "      <td>Растения</td>\n",
       "    </tr>\n",
       "  </tbody>\n",
       "</table>\n",
       "</div>"
      ],
      "text/plain": [
       "        date                           customer_id order_id  \\\n",
       "0 2018-10-01  ee47d746-6d2f-4d3c-9622-c31412542920    68477   \n",
       "1 2018-10-01  ee47d746-6d2f-4d3c-9622-c31412542920    68477   \n",
       "2 2018-10-01  ee47d746-6d2f-4d3c-9622-c31412542920    68477   \n",
       "3 2018-10-01  ee47d746-6d2f-4d3c-9622-c31412542920    68477   \n",
       "4 2018-10-01  ee47d746-6d2f-4d3c-9622-c31412542920    68477   \n",
       "\n",
       "                                             product  quantity  price  \\\n",
       "0    Комнатное растение в горшке Алое Вера, d12, h30         1  142.0   \n",
       "1  Комнатное растение в горшке Кофе Арабика, d12,...         1  194.0   \n",
       "2                        Радермахера d-12 см h-20 см         1  112.0   \n",
       "3                   Хризолидокарпус Лутесценс d-9 см         1  179.0   \n",
       "4                     Циперус Зумула d-12 см h-25 см         1  112.0   \n",
       "\n",
       "   customers_quantity  total segment  category  \n",
       "0                   1  142.0    lost  Растения  \n",
       "1                   1  194.0    lost  Растения  \n",
       "2                   1  112.0    lost  Растения  \n",
       "3                   1  179.0    lost  Растения  \n",
       "4                   1  112.0    lost  Растения  "
      ]
     },
     "metadata": {},
     "output_type": "display_data"
    },
    {
     "data": {
      "image/png": "[encoded data removed]",
      "text/plain": [
       "<Figure size 1440x504 with 1 Axes>"
      ]
     },
     "metadata": {
      "needs_background": "light"
     },
     "output_type": "display_data"
    }
   ],
   "source": [
    "# создаем словарь для разделения товаров на категории\n",
    "product_categories = {\n",
    "    'Растения': ['растение', 'рассада', 'розмарин', 'роза', 'рудбекия', 'пуансеттия', \n",
    "                 'пеларгония', 'радермахера', 'хризолидокарпус', 'циперус', 'сантолина', 'd-',\n",
    "                'аквилегия', 'примула', 'кашпо', 'алиссум', 'петуния', 'пиретрум', 'анемона',\n",
    "                'седум', 'ранункулус', 'овсянница', 'солидаго', 'антуриум', 'смолевка',\n",
    "                'астра', 'петля', 'папоротник', 'настурция', 'гвоздика', 'вербена', 'дерево', 'ромашка',\n",
    "                'незабудка', 'бадан', 'декабрист', 'бархатцы', 'фуксия', 'флокс', 'колокольчик', 'лобелия', \n",
    "                'калибрахоа', 'осина', 'кореопсис', 'физостегия', 'лавр', 'цинния', 'монарда', 'гиностемма',\n",
    "                'энотера', 'цикламен,', 'георгина', 'кипарисовик', 'бузульник', 'любисток', 'цинерария', 'эшшольция',\n",
    "                'камнеломка', 'вербейник', 'барвинок', 'маттиола', 'космея', 'виола', 'хризантема', 'лилейник', 'тюльпан',\n",
    "                'эхинацея', 'цикламен', 'ель', 'бегония', 'платикодон', 'котовник', 'змееголовник', 'гайлардия', 'годеция',\n",
    "                'клен', 'лаватера', 'лапчатка', 'лен', 'валериана', 'ясколка', 'вероника', 'хоста', 'кодонанта',\n",
    "                'дендробиум', 'гипсофила', 'вигна', 'виноград', 'калла'],\n",
    "    'Товары для ванной/стирки': ['доска', 'таз', 'сушилка', 'гладильн', 'ёрш', 'ерш', 'пробка', 'ванн', \n",
    "                                 'подрукавник', 'прищепки', 'прищепок', 'сетка', 'вантуз', 'бак', 'стирк', 'бидон',\n",
    "                                'зубная паста', 'мыл', 'увлажняющ'],\n",
    "    'Товары для кухни': ['чайник', 'тарелка', 'вилка', 'ложка', 'кружка', 'кружек', 'салфетк', 'салфеток', 'салатник',\n",
    "                        'салфетница', 'рыбочистка', 'противень', 'просеиватель', 'рассекатель', 'нож',\n",
    "                        'скатерть', 'половник', 'пресс', 'зажигалка', 'сахарница', 'сито',\n",
    "                        'банка', 'стакан', 'сковород', 'сотейник', 'скалка', 'термос', 'чайн', 'овощечистка',\n",
    "                        'кувшин', 'бульонница', 'кастрюл', 'фужер', 'хлебница', 'тортница', 'блюд', 'миска', 'ваза', \n",
    "                        'ковш', 'форм', 'венчик', 'лопатка', 'терка', 'тёрка', 'картофелемялка', 'орехоколка', 'столов',\n",
    "                        'бокал', 'масленк', 'посуд', 'котел', 'толкушка', 'емкость'],\n",
    "    'Овощи/Фрукты': ['томат', 'огурец', 'морковь', 'салат', 'капуста', 'базилик', 'клубника', \n",
    "                     'земляника', 'укроп', 'тимьян', 'сельдерей', 'арбуз', 'петрушка', 'шалфей', 'лук', 'горох',\n",
    "                    'дыня', 'кориандр'],\n",
    "    'Предметы для дома': ['вешалк', 'вешалок', 'ролик', 'простын', 'мебель', 'покрывало', 'решетка', 'полка', \n",
    "                        'полки', 'одеял', 'подкладка', 'полотенце', 'полотенец', 'подушка', 'плечики', 'плед', 'подставка',\n",
    "                       'коврик', 'ковёр', 'ковер', 'муляж', 'искусственн', 'декор', 'стеллаж', 'стремянк', 'скребок', 'насадка', \n",
    "                        'совок', 'щетка', 'перчатки', 'подголовник', 'пуф', 'коробка', 'уголок', 'сметка', \n",
    "                        'чехол', 'корзина', 'ключница', 'весы', 'кофр', 'ящик', 'матрас', 'матрац', 'наволочка', 'обув',\n",
    "                       'комод', 'урна', 'карниз', 'контейнер', 'халат', 'лоток', 'корзинка', 'ткан', 'пакет',\n",
    "                       'рамка', 'сумка', 'тележка'],\n",
    "    'Техника/Инструменты': ['пылесос', 'сверло', 'светильник', 'утюг', 'миксер', 'термометр', 'фен', 'электроштопор', \n",
    "                'овощеварка',  'мантоварка', 'штангенциркуль', 'соковарка', 'инструмент', 'соковыжималка', 'кипятильник', \n",
    "                'сверел', 'крепеж', 'скоба', 'линейка', 'напильник', 'электр', 'шнур', 'крючок', 'кисточка', 'кольца',\n",
    "                           'стяжка', 'шпингалет', 'бензин','сварка', 'фиксатор', 'завертка', 'шило', 'фал'],\n",
    "    'Товары для уборки': ['средство', 'антижир', 'паста', 'швабра', 'окномойка', 'губк', 'тряпк', 'ведр',\n",
    "                                'веник', 'мытья', 'отбеливатель', 'ополаскиватель', 'чистящий']\n",
    "}\n",
    "\n",
    "# объявляем функцию для добавления столбца с категориями в датасет\n",
    "def categorize(row):\n",
    "    value = row['product'].lower()\n",
    "    for k in product_categories.keys():\n",
    "        for v in range(len(product_categories[k])):\n",
    "            if product_categories[k][v] in value:\n",
    "                return k\n",
    "            else:\n",
    "                continue\n",
    "   \n",
    "    \n",
    "data['category'] = data.apply(categorize, axis=1)\n",
    "display(data.head())\n",
    "\n",
    "# строим график по количеству товаров в категориях\n",
    "plt.figure(figsize=(20, 7))\n",
    "ax = sns.barplot(x='category', y='product', data=data.groupby(\n",
    "    'category', as_index=False)['product'].agg('nunique').sort_values(by='product', ascending=False))\n",
    "ax.set(title='Категории по количеству товаров', xlabel='категории', ylabel='количество товаров')\n",
    "plt.grid(True)\n",
    "plt.show()"
   ]
  },
  {
   "cell_type": "markdown",
   "id": "ab3c9c90",
   "metadata": {},
   "source": [
    "Больше всего товаров в категории `Растения`, далее идут `Предметы для дома`, `Товары для ванной/стирки` и `Товары для кухни`."
   ]
  },
  {
   "cell_type": "markdown",
   "id": "3aefeb21",
   "metadata": {},
   "source": [
    "Посмотрим, есть ли различия в топе категорий между сегментами."
   ]
  },
  {
   "cell_type": "code",
   "execution_count": 38,
   "id": "8476d6a6",
   "metadata": {},
   "outputs": [
    {
     "data": {
      "image/png": "[encoded data removed]",
      "text/plain": [
       "<Figure size 1440x432 with 1 Axes>"
      ]
     },
     "metadata": {
      "needs_background": "light"
     },
     "output_type": "display_data"
    }
   ],
   "source": [
    "# объявляем переменную для подписей оси x\n",
    "cat_par = data['category'].unique()\n",
    "x = np.arange(len(cat_par))\n",
    "\n",
    "# подготавливаем сводные таблицы по каждому сегменту\n",
    "table1 = data.query('segment == \"loyal\"').pivot_table(index='category', values='customer_id', aggfunc='nunique').sort_values(by='customer_id', ascending=False)\n",
    "table2 = data.query('segment == \"sleeping\"').pivot_table(index='category', values='customer_id', aggfunc='nunique').sort_values(by='customer_id', ascending=False)\n",
    "table3 = data.query('segment == \"lost\"').pivot_table(index='category', values='customer_id', aggfunc='nunique').sort_values(by='customer_id', ascending=False)\n",
    "\n",
    "g1 = table1['customer_id']\n",
    "g2 = table2['customer_id']\n",
    "g3 = table3['customer_id']\n",
    "\n",
    "width = 0.3\n",
    "\n",
    "# строим столбчатую диаграмму по категориям во всех 3 сегментах\n",
    "fig, ax = plt.subplots(figsize=(20, 6))\n",
    "rects1 = ax.bar(x - width/3, g1, width, label='loyal')\n",
    "rects2 = ax.bar(x + width/3, g2, width, label='sleeping')\n",
    "rects3 = ax.bar(x + 4*width/3, g3, width, label='lost')\n",
    "ax.set(title='Топ категорий в сегментах', xlabel='категории', ylabel='количество покупателей')\n",
    "ax.set_xticks(x)\n",
    "ax.set_xticklabels(cat_par)\n",
    "ax.legend()\n",
    "plt.grid(True)\n",
    "plt.show()"
   ]
  },
  {
   "cell_type": "markdown",
   "id": "c6e15d22",
   "metadata": {},
   "source": [
    "Во всех трёх сегментах самая популярная категория товаров — это растения, далее идут товары для ванной и стирки, и замыкают топ-3 предметы для дома."
   ]
  },
  {
   "cell_type": "markdown",
   "id": "cf6c741b",
   "metadata": {},
   "source": [
    "### Сезонность категорий"
   ]
  },
  {
   "cell_type": "markdown",
   "id": "fb55d198",
   "metadata": {},
   "source": [
    "Посмотрим, как различается сезонность категорий для каждого сегмента."
   ]
  },
  {
   "cell_type": "code",
   "execution_count": 39,
   "id": "81d151d2",
   "metadata": {
    "scrolled": false
   },
   "outputs": [
    {
     "data": {
      "image/png": "[encoded data removed]",
      "text/plain": [
       "<Figure size 1080x504 with 1 Axes>"
      ]
     },
     "metadata": {
      "needs_background": "light"
     },
     "output_type": "display_data"
    }
   ],
   "source": [
    "# вычленяем из даты месяц и год для графика\n",
    "data['month'] = data['date'].dt.month\n",
    "data['year'] = data['date'].dt.year\n",
    "data['month_year'] = data.month.map(str)+data.year.map(str)\n",
    "data['month_year'] = pd.to_datetime(data['month_year'], format=\"%m%Y\")\n",
    "\n",
    "# группируем данные по дате и категориям\n",
    "seasons_loyal = data.query('segment==\"loyal\"').groupby(\n",
    "    ['month_year', 'category'], as_index=False)['order_id'].agg('nunique')\n",
    "seasons_sleeping = data.query('segment==\"sleeping\"').groupby(\n",
    "    ['month_year', 'category'], as_index=False)['order_id'].agg('nunique')\n",
    "seasons_lost = data.query('segment==\"lost\"').groupby(\n",
    "    ['month_year', 'category'], as_index=False)['order_id'].agg('nunique')\n",
    "\n",
    "# строим график по месяцам для сегмента loyal\n",
    "plt.figure(figsize=(15, 7))\n",
    "ax = sns.lineplot(x='month_year', y='order_id', hue='category', data=seasons_loyal)\n",
    "ax.set(title='Сезонность категорий для сегмента лояльных покупателей', xlabel='дата', ylabel='количество покупателей')\n",
    "plt.grid(True)\n",
    "plt.show()"
   ]
  },
  {
   "cell_type": "markdown",
   "id": "7decce7a",
   "metadata": {},
   "source": [
    "В сегменте лояльных покупателей количество заказов под конец увеличилось за счёт покупателей, которые начали совершать покупки недавно. \n",
    "- Спрос на овощи и фрукты начинает расти с ноября до января. \n",
    "- Пик товаров для кухни приходится на декабрь-февраль. \n",
    "- Товары для ванной и стирки в целом пользуются более высоким спросом в зимние месяцы, а в летние меньшим. \n",
    "- Предметы для дома держатся более-менее на одном уровне. \n",
    "- Спрос на растения больше всего с февраля по апрель, а также с июля по сентябрь."
   ]
  },
  {
   "cell_type": "code",
   "execution_count": 40,
   "id": "acc6d314",
   "metadata": {},
   "outputs": [
    {
     "data": {
      "image/png": "[encoded data removed]",
      "text/plain": [
       "<Figure size 1080x504 with 1 Axes>"
      ]
     },
     "metadata": {
      "needs_background": "light"
     },
     "output_type": "display_data"
    }
   ],
   "source": [
    "# строим график по месяцам для сегмента sleeping\n",
    "plt.figure(figsize=(15, 7))\n",
    "ax = sns.lineplot(x='month_year', y='order_id', hue='category', data=seasons_sleeping)\n",
    "ax.set(title='Сезонность категорий для сегмента спящих покупателей', xlabel='дата', ylabel='количество покупателей')\n",
    "plt.grid(True)\n",
    "plt.show()"
   ]
  },
  {
   "cell_type": "markdown",
   "id": "1878046c",
   "metadata": {},
   "source": [
    "Для сегмента спящих покупателей:\n",
    "- Пик спроса на овощи и фрукты приходится на май.\n",
    "- Товары для ванной и стирки пользуются спросом более-менее одинаково на протяжении всего периода.\n",
    "- У предметов для дома пик — в апреле.\n",
    "- Растения покупают чаще в апреле-мае и в июле.\n",
    "- Также есть пик в декабре у предметов для дома и кухни, когда все покупают подарки."
   ]
  },
  {
   "cell_type": "code",
   "execution_count": 41,
   "id": "7736eeda",
   "metadata": {},
   "outputs": [
    {
     "data": {
      "image/png": "[encoded data removed]",
      "text/plain": [
       "<Figure size 1080x504 with 1 Axes>"
      ]
     },
     "metadata": {
      "needs_background": "light"
     },
     "output_type": "display_data"
    }
   ],
   "source": [
    "# строим график по месяцам для сегмента lost\n",
    "plt.figure(figsize=(15, 7))\n",
    "ax = sns.lineplot(x='month_year', y='order_id', hue='category', data=seasons_lost)\n",
    "ax.set(title='Сезонность категорий для сегмента потерянных покупателей', xlabel='дата', ylabel='количество покупателей')\n",
    "plt.grid(True)\n",
    "plt.show()"
   ]
  },
  {
   "cell_type": "markdown",
   "id": "49b404ff",
   "metadata": {},
   "source": [
    "Для сегмента потерянных покупателей:\n",
    "- Пик спроса на растения в декабре и марте.\n",
    "- На предметы для дома спрос более-менее на одном уровне.\n",
    "- Товары для кухни чаще покупали в декабре, и дальше спрос шёл на спад.\n",
    "- Товары для ванной и стирки пользовались более высоким спросом в ноябре и марте."
   ]
  },
  {
   "cell_type": "markdown",
   "id": "cae6961a",
   "metadata": {},
   "source": [
    "### Средний чек по сегментам"
   ]
  },
  {
   "cell_type": "markdown",
   "id": "379135a7",
   "metadata": {},
   "source": [
    "Исследуем, насколько сильно отличается средний чек между сегментами."
   ]
  },
  {
   "cell_type": "code",
   "execution_count": 42,
   "id": "e4de3ce4",
   "metadata": {},
   "outputs": [
    {
     "data": {
      "image/png": "[encoded data removed]",
      "text/plain": [
       "<Figure size 720x504 with 1 Axes>"
      ]
     },
     "metadata": {
      "needs_background": "light"
     },
     "output_type": "display_data"
    },
    {
     "name": "stdout",
     "output_type": "stream",
     "text": [
      "Лояльные покупатели\n",
      "count    1443.000000\n",
      "mean      692.740067\n",
      "std       848.104744\n",
      "min         9.000000\n",
      "25%       128.000000\n",
      "50%       374.000000\n",
      "75%       966.500000\n",
      "max      4499.000000\n",
      "Name: total, dtype: float64\n",
      "\n",
      "Спящие покупатели\n",
      "count    2071.000000\n",
      "mean      398.622405\n",
      "std       649.706172\n",
      "min         9.000000\n",
      "25%       102.500000\n",
      "50%       149.000000\n",
      "75%       374.000000\n",
      "max      4874.000000\n",
      "Name: total, dtype: float64\n",
      "\n",
      "Потерянные покупатели\n",
      "count    1387.000000\n",
      "mean      553.535689\n",
      "std       766.947857\n",
      "min         9.000000\n",
      "25%       132.000000\n",
      "50%       194.000000\n",
      "75%       712.000000\n",
      "max      4900.000000\n",
      "Name: total, dtype: float64\n"
     ]
    }
   ],
   "source": [
    "# строим диаграмму размаха для каждого сегмента\n",
    "plt.figure(figsize=(10, 7))\n",
    "ax = sns.boxplot(data=data, y='total', x='segment')\n",
    "ax.set(title='Средний чек по сегментам', xlabel='сегменты', ylabel='сумма покупки')\n",
    "plt.ylim(0, 3000)\n",
    "plt.show()\n",
    "\n",
    "# выводим основные статистические характеристики\n",
    "print('Лояльные покупатели')\n",
    "print(data.query('segment==\"loyal\"')['total'].describe())\n",
    "print()\n",
    "print('Спящие покупатели')\n",
    "print(data.query('segment==\"sleeping\"')['total'].describe())\n",
    "print()\n",
    "print('Потерянные покупатели')\n",
    "print(data.query('segment==\"lost\"')['total'].describe())"
   ]
  },
  {
   "cell_type": "markdown",
   "id": "8f7029cf",
   "metadata": {},
   "source": [
    "Выше всего средний чек у лояльных покупателей — 374 руб., а также шире разброс. У спящих и потерянных клиентов средний чек примерно на одном уровне, у спящих — 149 руб, у потерянных — 194 руб. При этом разброс шире у потерянных клиентов."
   ]
  },
  {
   "cell_type": "markdown",
   "id": "0057c2fe",
   "metadata": {},
   "source": [
    "Посмотрим на средний чек по категориям в каждом сегменте."
   ]
  },
  {
   "cell_type": "code",
   "execution_count": 43,
   "id": "4cdc9e33",
   "metadata": {},
   "outputs": [
    {
     "data": {
      "image/png": "[encoded data removed]",
      "text/plain": [
       "<Figure size 1440x720 with 1 Axes>"
      ]
     },
     "metadata": {
      "needs_background": "light"
     },
     "output_type": "display_data"
    }
   ],
   "source": [
    "# строим диаграмму размаха по категориям для лояльных покупателей\n",
    "plt.figure(figsize=(20, 10))\n",
    "ax = sns.boxplot(data=data.query('segment==\"loyal\"'), y='total', x='category')\n",
    "ax.set(title='Средний чек по категориям для лояльных покупателей', xlabel='категории', ylabel='сумма покупки')\n",
    "plt.ylim(0, 4000)\n",
    "plt.show()"
   ]
  },
  {
   "cell_type": "markdown",
   "id": "f3d742df",
   "metadata": {},
   "source": [
    "Для сегмента лояльных покупателей выше всего средний чек у товаров для ванной и стирки, предметов для дома и товаров для уборки — около 800 руб. Средний чек на растения, товары для кухни и технику около 250 руб."
   ]
  },
  {
   "cell_type": "code",
   "execution_count": 44,
   "id": "f36bb63a",
   "metadata": {},
   "outputs": [
    {
     "data": {
      "image/png": "[encoded data removed]",
      "text/plain": [
       "<Figure size 1440x720 with 1 Axes>"
      ]
     },
     "metadata": {
      "needs_background": "light"
     },
     "output_type": "display_data"
    }
   ],
   "source": [
    "# строим диаграмму размаха по категориям для спящих покупателей\n",
    "plt.figure(figsize=(20, 10))\n",
    "ax = sns.boxplot(data=data.query('segment==\"sleeping\"'), y='total', x='category')\n",
    "ax.set(title='Средний чек по категориям для спящих покупателей', xlabel='категории', ylabel='сумма покупки')\n",
    "plt.ylim(0, 3200)\n",
    "plt.show()"
   ]
  },
  {
   "cell_type": "markdown",
   "id": "5879c95c",
   "metadata": {},
   "source": [
    "Для сегмента спящих покупателей выше всего средний чек на предметы для дома — около 1000 руб, далее идут товары для уборки — около 700 руб., товары для ванной/стирки и для кухни — около 500 руб."
   ]
  },
  {
   "cell_type": "code",
   "execution_count": 45,
   "id": "eefcc5cb",
   "metadata": {},
   "outputs": [
    {
     "data": {
      "image/png": "[encoded data removed]",
      "text/plain": [
       "<Figure size 1440x720 with 1 Axes>"
      ]
     },
     "metadata": {
      "needs_background": "light"
     },
     "output_type": "display_data"
    }
   ],
   "source": [
    "# строим диаграмму размаха по категориям для потерянных покупателей\n",
    "plt.figure(figsize=(20, 10))\n",
    "ax = sns.boxplot(data=data.query('segment==\"lost\"'), y='total', x='category')\n",
    "ax.set(title='Средний чек по категориям для потерянных покупателей', xlabel='категории', ylabel='сумма покупки')\n",
    "plt.ylim(0, 2500)\n",
    "plt.show()"
   ]
  },
  {
   "cell_type": "markdown",
   "id": "cb483b07",
   "metadata": {},
   "source": [
    "Для сегмента потерянных покупателей выше всего средний чек на товары для ванной и стирки и предметы для дома — около 600 руб., далее на товары для кухни — около 500 руб."
   ]
  },
  {
   "cell_type": "markdown",
   "id": "98d73730",
   "metadata": {},
   "source": [
    "### Промежуточный вывод\n",
    "\n",
    "Во всех трёх сегментах самая ***популярная категория*** товаров — это растения, далее идут товары для ванной и стирки, и замыкают топ-3 предметы для дома. \n",
    "\n",
    "Общие тенденции по ***сезонности*** для всех сегментов:\n",
    "- `Растения` чаще покупают в феврале-апреле и в августе-октябре;\n",
    "- `Овощи/Фрукты` пользуются более высоким спросом с ноября по январь;\n",
    "- Остальные категории имеют более-менее равномерный спрос;\n",
    "- В целом у категорий `Растения`, `Предметы для дома`, `Товары для кухни` и `Товары для ванной и стирки` есть пик спроса в декабре — в предпраздничный период.\n",
    "\n",
    "Выше всего **средний чек** у лояльных покупателей — 374 руб., а также шире разброс. У спящих и потерянных клиентов средний чек примерно на одном уровне, у спящих — 149 руб, у потерянных — 194 руб. При этом разброс шире у потерянных клиентов.\n",
    "- Для сегмента лояльных покупателей выше всего средний чек у товаров для ванной и стирки, предметов для дома и товаров для уборки — около 800 руб. Средний чек на растения, товары для кухни и технику около 250 руб.\n",
    "- Для сегмента спящих покупателей выше всего средний чек на предметы для дома — около 1000 руб, далее идут товары для уборки — около 700 руб., товары для ванной/стирки и для кухни — около 500 руб.\n",
    "- Для сегмента потерянных покупателей выше всего средний чек на товары для ванной и стирки и предметы для дома — около 600 руб., далее на товары для кухни — около 500 руб."
   ]
  },
  {
   "cell_type": "markdown",
   "id": "f5f8c6bb",
   "metadata": {},
   "source": [
    "## Общий вывод\n",
    "\n",
    "В нашем распоряжении был датасет на 7474 строки с данными о транзакциях покупателей с наименованиями товаров, количеством и ценой.\n",
    "\n",
    "Мы провели **предобработку данных**:\n",
    "- скорректировали типы данных в столбце `date` с int на datetime и в столбце `order_id` с int на object;\n",
    "- удалили 1864 неявных дубликатов.\n",
    "\n",
    "По итогам **исследовательского анализа**:\n",
    "- Временной период в датасете с 1 октября 2018 года по 31 января 2020 года, количество заказов за этот период составляет 3 521 и количество пользователей 2 288.\n",
    "- Подготовили данные для RFM-анализа;\n",
    "- Выяснили, что:\n",
    "    - Четверть от всех покупателей последний раз совершали покупку не более 3 месяцев назад, а другая четверть — год назад и более. У половины покупателей последняя покупка была от 3 месяцев до практически года назад.\n",
    "    - Большинство покупателей совершали 1 или 2 заказа.\n",
    "    - Основная масса покупателей совершили покупок на сумму до 1500 рублей, причём больше всего тех, кто потратил до 500 рублей.\n",
    "    \n",
    "Мы провели **RFM-анализ** и разделили покупателей на 3 сегмента:\n",
    "- лояльные покупатели;\n",
    "- спящие покупатели;\n",
    "- потерянные покупатели.\n",
    "\n",
    "**Проверили гипотезы** с помощью статистического теста:\n",
    "- с помощью критерия Шапиро-Уилка мы проверили наши переменные на нормальность распределения;\n",
    "- выбрали критерий Манна-Уитни, поскольку распределения не нормальны;\n",
    "- сделали поправку на множественную проверку с помощью метода Холма;\n",
    "- можно считать, что наши 3 сегмента выделены корректно, различия есть между всеми сегментами по давности и частоте покупок, а по сумме покупок нет значимых различий только между потерянными и спящими.\n",
    "\n",
    "**Рекомендации по каждому сегменту**:\n",
    "1. ***лояльные покупатели*** — последняя покупка была недавно, покупают регулярно и относительно много;\n",
    "    - ***средний чек*** — 374 руб., выше всего на `товары для ванной и стирки`, `предметы для дома` и `товары для уборки` — около 800 руб., на `растения`, `товары для кухни` и `технику` — около 250 руб.\n",
    "    - ***сезонность*** — спрос на `овощи и фрукты` начинает расти с ноября до января, пик `товаров для кухни` приходится на декабрь-февраль, `товары для ванной и стирки` в целом пользуются более высоким спросом в зимние месяцы, а в летние меньшим. Спрос на `растения` больше всего с февраля по апрель, а также с июля по сентябрь.\n",
    "    - ***популярные категории*** — `растения`, `товары для ванной/стирки`, `предметы для дома`, `техника/инструменты`.\n",
    "    - ***стратегия*** — можно предлагать более дорогой товар особенно в категориях «Товары для ванной и стирки», «Предметы для дома» и «Товары для уборки». Категорию «Растения» предлагать с февраля по апрель и с июля по сентябрь. В декабре предлагать категории «Предметы для дома» и «Товары для кухни», так как спрос на подарки перед новым годом растёт именно на эти категории.\n",
    "\n",
    "\n",
    "2. ***спящие покупатели*** — те, кто давно ничего не покупал, бывшие лояльные покупатели;\n",
    "    - ***средний чек*** — 149 руб., выше всего на `предметы для дома` — около 1000 руб, далее идут `товары для уборки` — около 700 руб., `товары для ванной/стирки` и `товары для кухни` — около 500 руб.\n",
    "    - ***сезонность*** — пик спроса на `овощи и фрукты` приходится на май, `товары для ванной и стирки` пользуются спросом более-менее одинаково на протяжении всего периода, у `предметов для дома` пик — в апреле, `растения` покупают чаще в апреле-мае и в июле, также есть пик в декабре у `предметов для дома` и `товаров для кухни`, когда все покупают подарки.\n",
    "    - ***популярные категории*** — `растения`, `товары для ванной/стирки`, `предметы для дома`.\n",
    "    - ***стратегия*** — для этого сегмента можно попытаться увеличить количество продаваемого товара и возвращаемость покупателей. Предлагать более дешёвый товар, а также делать рассылки о распродажах и выгодных предложениях. Акцент делать на категориях «Растения» (с февраля по апрель и с июля по сентябрь), «Предметы для дома» и «Товары для ванной и стирки». Также делать рассылки в декабре на «Предметы для дома» и «Товары для кухни».\n",
    "\n",
    "\n",
    "3. ***потерянные покупатели*** — последняя покупка была давно, покупали редко и в основном мало.\n",
    "    - ***средний чек*** — 194 руб., выше всего на `товары для ванной и стирки` и `предметы для дома` — около 600 руб., далее на `товары для кухни` — около 500 руб.\n",
    "    - ***сезонность*** — пик спроса на `растения` в декабре и марте, на `предметы для дома` спрос более-менее на одном уровне, `товары для кухни` чаще покупали в декабре, и дальше спрос шёл на спад, `товары для ванной и стирки` пользовались более высоким спросом в ноябре и марте.\n",
    "    - ***популярные категории*** — `растения`, `товары для ванной/стирки`, `предметы для дома`, `техника/инструменты`.\n",
    "    - ***стратегия*** — на этот сегмент нет особого смысла тратить бюджет, при желании можно попробовать вернуть покупателей с помощью спецпредложения или крупной скидки.\n"
   ]
  }
 ],
 "metadata": {
  "ExecuteTimeLog": [
   {
    "duration": 1228,
    "start_time": "2024-03-06T16:00:48.100Z"
   },
   {
    "duration": 123,
    "start_time": "2024-03-06T16:00:49.329Z"
   },
   {
    "duration": 22,
    "start_time": "2024-03-06T16:00:49.454Z"
   },
   {
    "duration": 36,
    "start_time": "2024-03-06T16:00:49.478Z"
   },
   {
    "duration": 16,
    "start_time": "2024-03-06T16:00:49.516Z"
   },
   {
    "duration": 20,
    "start_time": "2024-03-06T16:00:49.534Z"
   },
   {
    "duration": 30,
    "start_time": "2024-03-06T16:00:49.555Z"
   },
   {
    "duration": 5,
    "start_time": "2024-03-06T16:00:49.587Z"
   },
   {
    "duration": 502,
    "start_time": "2024-03-06T16:00:49.594Z"
   },
   {
    "duration": 374,
    "start_time": "2024-03-06T16:00:50.098Z"
   },
   {
    "duration": 363,
    "start_time": "2024-03-06T16:00:50.474Z"
   },
   {
    "duration": 376,
    "start_time": "2024-03-06T16:00:50.838Z"
   },
   {
    "duration": 27,
    "start_time": "2024-03-06T16:00:51.216Z"
   },
   {
    "duration": 323,
    "start_time": "2024-03-06T16:00:51.246Z"
   },
   {
    "duration": 51,
    "start_time": "2024-03-06T16:00:51.571Z"
   },
   {
    "duration": 20,
    "start_time": "2024-03-06T16:00:51.624Z"
   },
   {
    "duration": 6,
    "start_time": "2024-03-06T16:00:51.645Z"
   },
   {
    "duration": 32,
    "start_time": "2024-03-06T16:00:51.653Z"
   },
   {
    "duration": 14,
    "start_time": "2024-03-06T16:00:51.686Z"
   },
   {
    "duration": 19,
    "start_time": "2024-03-06T16:00:51.702Z"
   },
   {
    "duration": 12,
    "start_time": "2024-03-06T16:00:51.722Z"
   },
   {
    "duration": 13,
    "start_time": "2024-03-06T16:00:51.735Z"
   },
   {
    "duration": 332,
    "start_time": "2024-03-06T16:00:51.750Z"
   },
   {
    "duration": 156,
    "start_time": "2024-03-06T16:00:52.083Z"
   },
   {
    "duration": 280,
    "start_time": "2024-03-06T16:00:52.241Z"
   },
   {
    "duration": 613,
    "start_time": "2024-03-06T16:00:52.523Z"
   },
   {
    "duration": 386,
    "start_time": "2024-03-06T16:00:53.138Z"
   },
   {
    "duration": 401,
    "start_time": "2024-03-06T16:00:53.525Z"
   },
   {
    "duration": 193,
    "start_time": "2024-03-06T16:00:53.928Z"
   },
   {
    "duration": 300,
    "start_time": "2024-03-06T16:00:54.122Z"
   },
   {
    "duration": 296,
    "start_time": "2024-03-06T16:00:54.424Z"
   },
   {
    "duration": 283,
    "start_time": "2024-03-06T16:00:54.722Z"
   },
   {
    "duration": 19,
    "start_time": "2024-03-06T16:02:24.752Z"
   },
   {
    "duration": 1342,
    "start_time": "2024-03-07T06:50:59.138Z"
   },
   {
    "duration": 123,
    "start_time": "2024-03-07T06:51:01.528Z"
   },
   {
    "duration": 20,
    "start_time": "2024-03-07T06:51:03.114Z"
   },
   {
    "duration": 33,
    "start_time": "2024-03-07T06:51:09.882Z"
   },
   {
    "duration": 14,
    "start_time": "2024-03-07T06:51:11.795Z"
   },
   {
    "duration": 15,
    "start_time": "2024-03-07T06:51:16.323Z"
   },
   {
    "duration": 10,
    "start_time": "2024-03-07T06:51:30.147Z"
   },
   {
    "duration": 14,
    "start_time": "2024-03-07T06:53:37.951Z"
   },
   {
    "duration": 10,
    "start_time": "2024-03-07T06:53:42.445Z"
   },
   {
    "duration": 10,
    "start_time": "2024-03-07T06:58:05.296Z"
   },
   {
    "duration": 101,
    "start_time": "2024-03-07T06:58:53.834Z"
   },
   {
    "duration": 17,
    "start_time": "2024-03-07T06:59:10.234Z"
   },
   {
    "duration": 14,
    "start_time": "2024-03-07T06:59:18.378Z"
   },
   {
    "duration": 6,
    "start_time": "2024-03-07T07:08:22.242Z"
   },
   {
    "duration": 1061,
    "start_time": "2024-03-07T07:09:22.716Z"
   },
   {
    "duration": 1063,
    "start_time": "2024-03-07T07:10:59.941Z"
   },
   {
    "duration": 85,
    "start_time": "2024-03-07T07:18:11.435Z"
   },
   {
    "duration": 21,
    "start_time": "2024-03-07T07:20:41.956Z"
   },
   {
    "duration": 16,
    "start_time": "2024-03-07T07:21:07.901Z"
   },
   {
    "duration": 79,
    "start_time": "2024-03-07T07:33:25.385Z"
   },
   {
    "duration": 66,
    "start_time": "2024-03-07T07:33:39.377Z"
   },
   {
    "duration": 20,
    "start_time": "2024-03-07T07:34:16.210Z"
   },
   {
    "duration": 20,
    "start_time": "2024-03-07T07:36:01.053Z"
   },
   {
    "duration": 40,
    "start_time": "2024-03-07T07:41:13.081Z"
   },
   {
    "duration": 35,
    "start_time": "2024-03-07T07:41:27.242Z"
   },
   {
    "duration": 7,
    "start_time": "2024-03-07T07:49:41.841Z"
   },
   {
    "duration": 14,
    "start_time": "2024-03-07T07:50:38.001Z"
   },
   {
    "duration": 11,
    "start_time": "2024-03-07T07:52:18.443Z"
   },
   {
    "duration": 15,
    "start_time": "2024-03-07T07:53:27.268Z"
   },
   {
    "duration": 33,
    "start_time": "2024-03-07T07:54:16.934Z"
   },
   {
    "duration": 16,
    "start_time": "2024-03-07T07:54:38.838Z"
   },
   {
    "duration": 1104,
    "start_time": "2024-03-07T07:55:12.130Z"
   },
   {
    "duration": 49,
    "start_time": "2024-03-07T07:55:14.018Z"
   },
   {
    "duration": 21,
    "start_time": "2024-03-07T07:55:15.037Z"
   },
   {
    "duration": 30,
    "start_time": "2024-03-07T07:55:18.501Z"
   },
   {
    "duration": 15,
    "start_time": "2024-03-07T07:55:20.870Z"
   },
   {
    "duration": 16,
    "start_time": "2024-03-07T07:55:22.013Z"
   },
   {
    "duration": 17,
    "start_time": "2024-03-07T07:55:25.509Z"
   },
   {
    "duration": 15,
    "start_time": "2024-03-07T07:55:30.998Z"
   },
   {
    "duration": 16,
    "start_time": "2024-03-07T07:55:43.622Z"
   },
   {
    "duration": 95,
    "start_time": "2024-03-07T07:56:57.608Z"
   },
   {
    "duration": 16,
    "start_time": "2024-03-07T07:57:06.319Z"
   },
   {
    "duration": 9,
    "start_time": "2024-03-07T07:57:12.721Z"
   },
   {
    "duration": 17,
    "start_time": "2024-03-07T07:58:57.312Z"
   },
   {
    "duration": 1156,
    "start_time": "2024-03-07T08:02:20.059Z"
   },
   {
    "duration": 49,
    "start_time": "2024-03-07T08:02:21.217Z"
   },
   {
    "duration": 20,
    "start_time": "2024-03-07T08:02:21.684Z"
   },
   {
    "duration": 31,
    "start_time": "2024-03-07T08:02:24.348Z"
   },
   {
    "duration": 15,
    "start_time": "2024-03-07T08:02:27.588Z"
   },
   {
    "duration": 16,
    "start_time": "2024-03-07T08:02:28.835Z"
   },
   {
    "duration": 15,
    "start_time": "2024-03-07T08:02:32.228Z"
   },
   {
    "duration": 15,
    "start_time": "2024-03-07T08:03:49.702Z"
   },
   {
    "duration": 21,
    "start_time": "2024-03-07T08:04:22.646Z"
   },
   {
    "duration": 15,
    "start_time": "2024-03-07T08:05:04.743Z"
   },
   {
    "duration": 7,
    "start_time": "2024-03-07T08:05:52.753Z"
   },
   {
    "duration": 9,
    "start_time": "2024-03-07T08:06:23.152Z"
   },
   {
    "duration": 26,
    "start_time": "2024-03-07T08:06:25.265Z"
   },
   {
    "duration": 11,
    "start_time": "2024-03-07T08:07:14.923Z"
   },
   {
    "duration": 17,
    "start_time": "2024-03-07T08:07:30.059Z"
   },
   {
    "duration": 20,
    "start_time": "2024-03-07T08:07:37.966Z"
   },
   {
    "duration": 24,
    "start_time": "2024-03-07T08:09:05.956Z"
   },
   {
    "duration": 24,
    "start_time": "2024-03-07T08:09:17.085Z"
   },
   {
    "duration": 22,
    "start_time": "2024-03-07T08:11:04.511Z"
   },
   {
    "duration": 21,
    "start_time": "2024-03-07T08:12:03.129Z"
   },
   {
    "duration": 82,
    "start_time": "2024-03-07T08:13:13.730Z"
   },
   {
    "duration": 18,
    "start_time": "2024-03-07T08:13:40.368Z"
   },
   {
    "duration": 23,
    "start_time": "2024-03-07T08:17:29.100Z"
   },
   {
    "duration": 14,
    "start_time": "2024-03-07T08:21:22.968Z"
   },
   {
    "duration": 14,
    "start_time": "2024-03-07T08:21:38.784Z"
   },
   {
    "duration": 108,
    "start_time": "2024-03-07T08:21:50.977Z"
   },
   {
    "duration": 14,
    "start_time": "2024-03-07T08:21:54.177Z"
   },
   {
    "duration": 9,
    "start_time": "2024-03-07T08:26:20.829Z"
   },
   {
    "duration": 5,
    "start_time": "2024-03-07T08:26:33.030Z"
   },
   {
    "duration": 413,
    "start_time": "2024-03-07T08:26:36.357Z"
   },
   {
    "duration": 8,
    "start_time": "2024-03-07T08:32:20.684Z"
   },
   {
    "duration": 451,
    "start_time": "2024-03-07T08:32:23.356Z"
   },
   {
    "duration": 411,
    "start_time": "2024-03-07T08:34:18.229Z"
   },
   {
    "duration": 344,
    "start_time": "2024-03-07T08:34:41.612Z"
   },
   {
    "duration": 349,
    "start_time": "2024-03-07T08:34:44.332Z"
   },
   {
    "duration": 162,
    "start_time": "2024-03-07T08:39:29.953Z"
   },
   {
    "duration": 144,
    "start_time": "2024-03-07T08:40:48.657Z"
   },
   {
    "duration": 138,
    "start_time": "2024-03-07T08:41:15.449Z"
   },
   {
    "duration": 153,
    "start_time": "2024-03-07T08:49:35.412Z"
   },
   {
    "duration": 11,
    "start_time": "2024-03-07T08:51:46.793Z"
   },
   {
    "duration": 1142,
    "start_time": "2024-03-07T08:52:03.771Z"
   },
   {
    "duration": 50,
    "start_time": "2024-03-07T08:52:04.915Z"
   },
   {
    "duration": 20,
    "start_time": "2024-03-07T08:52:06.151Z"
   },
   {
    "duration": 33,
    "start_time": "2024-03-07T08:52:09.686Z"
   },
   {
    "duration": 16,
    "start_time": "2024-03-07T08:52:11.270Z"
   },
   {
    "duration": 24,
    "start_time": "2024-03-07T08:52:12.591Z"
   },
   {
    "duration": 17,
    "start_time": "2024-03-07T08:52:14.527Z"
   },
   {
    "duration": 15,
    "start_time": "2024-03-07T08:52:15.703Z"
   },
   {
    "duration": 9,
    "start_time": "2024-03-07T08:52:16.319Z"
   },
   {
    "duration": 14,
    "start_time": "2024-03-07T08:52:17.111Z"
   },
   {
    "duration": 16,
    "start_time": "2024-03-07T08:52:17.935Z"
   },
   {
    "duration": 16,
    "start_time": "2024-03-07T08:52:18.607Z"
   },
   {
    "duration": 8,
    "start_time": "2024-03-07T08:52:29.383Z"
   },
   {
    "duration": 7,
    "start_time": "2024-03-07T08:52:31.807Z"
   },
   {
    "duration": 407,
    "start_time": "2024-03-07T08:52:33.304Z"
   },
   {
    "duration": 366,
    "start_time": "2024-03-07T08:52:37.975Z"
   },
   {
    "duration": 358,
    "start_time": "2024-03-07T08:52:41.023Z"
   },
   {
    "duration": 150,
    "start_time": "2024-03-07T08:52:43.904Z"
   },
   {
    "duration": 309,
    "start_time": "2024-03-07T08:52:46.199Z"
   },
   {
    "duration": 166,
    "start_time": "2024-03-07T08:52:49.462Z"
   },
   {
    "duration": 101,
    "start_time": "2024-03-07T08:52:52.525Z"
   },
   {
    "duration": 7,
    "start_time": "2024-03-07T08:53:00.807Z"
   },
   {
    "duration": 9,
    "start_time": "2024-03-07T08:54:35.115Z"
   },
   {
    "duration": 6,
    "start_time": "2024-03-07T08:57:42.212Z"
   },
   {
    "duration": 6,
    "start_time": "2024-03-07T08:58:37.003Z"
   },
   {
    "duration": 7,
    "start_time": "2024-03-07T08:59:09.483Z"
   },
   {
    "duration": 7,
    "start_time": "2024-03-07T09:01:11.415Z"
   },
   {
    "duration": 26,
    "start_time": "2024-03-07T09:02:23.230Z"
   },
   {
    "duration": 241,
    "start_time": "2024-03-07T09:02:33.406Z"
   },
   {
    "duration": 62,
    "start_time": "2024-03-07T09:09:50.821Z"
   },
   {
    "duration": 18,
    "start_time": "2024-03-07T09:10:43.198Z"
   },
   {
    "duration": 5,
    "start_time": "2024-03-07T09:12:29.857Z"
   },
   {
    "duration": 4,
    "start_time": "2024-03-07T09:12:53.532Z"
   },
   {
    "duration": 5,
    "start_time": "2024-03-07T09:13:15.315Z"
   },
   {
    "duration": 19,
    "start_time": "2024-03-07T09:37:15.271Z"
   },
   {
    "duration": 94,
    "start_time": "2024-03-07T09:44:09.856Z"
   },
   {
    "duration": 16,
    "start_time": "2024-03-07T09:44:48.697Z"
   },
   {
    "duration": 12,
    "start_time": "2024-03-07T09:59:58.510Z"
   },
   {
    "duration": 88,
    "start_time": "2024-03-07T10:06:39.745Z"
   },
   {
    "duration": 93,
    "start_time": "2024-03-07T10:16:06.496Z"
   },
   {
    "duration": 71,
    "start_time": "2024-03-07T10:20:37.429Z"
   },
   {
    "duration": 13,
    "start_time": "2024-03-07T10:25:24.509Z"
   },
   {
    "duration": 68,
    "start_time": "2024-03-07T10:26:28.151Z"
   },
   {
    "duration": 69,
    "start_time": "2024-03-07T10:26:46.623Z"
   },
   {
    "duration": 12,
    "start_time": "2024-03-07T10:27:04.452Z"
   },
   {
    "duration": 81,
    "start_time": "2024-03-07T10:27:56.646Z"
   },
   {
    "duration": 219,
    "start_time": "2024-03-07T10:29:09.583Z"
   },
   {
    "duration": 124,
    "start_time": "2024-03-07T10:29:19.352Z"
   },
   {
    "duration": 310,
    "start_time": "2024-03-07T10:34:38.320Z"
   },
   {
    "duration": 315,
    "start_time": "2024-03-07T10:34:59.472Z"
   },
   {
    "duration": 248,
    "start_time": "2024-03-07T10:36:25.064Z"
   },
   {
    "duration": 429,
    "start_time": "2024-03-07T10:38:06.954Z"
   },
   {
    "duration": 325,
    "start_time": "2024-03-07T10:39:32.779Z"
   },
   {
    "duration": 349,
    "start_time": "2024-03-07T10:41:52.350Z"
   },
   {
    "duration": 171,
    "start_time": "2024-03-07T10:43:43.569Z"
   },
   {
    "duration": 362,
    "start_time": "2024-03-07T10:45:07.748Z"
   },
   {
    "duration": 266,
    "start_time": "2024-03-07T10:46:25.940Z"
   },
   {
    "duration": 249,
    "start_time": "2024-03-07T10:47:40.806Z"
   },
   {
    "duration": 1204,
    "start_time": "2024-03-07T11:20:10.568Z"
   },
   {
    "duration": 49,
    "start_time": "2024-03-07T11:20:11.773Z"
   },
   {
    "duration": 20,
    "start_time": "2024-03-07T11:20:11.823Z"
   },
   {
    "duration": 30,
    "start_time": "2024-03-07T11:20:11.844Z"
   },
   {
    "duration": 13,
    "start_time": "2024-03-07T11:20:11.876Z"
   },
   {
    "duration": 17,
    "start_time": "2024-03-07T11:20:11.891Z"
   },
   {
    "duration": 18,
    "start_time": "2024-03-07T11:20:11.910Z"
   },
   {
    "duration": 43,
    "start_time": "2024-03-07T11:20:11.929Z"
   },
   {
    "duration": 10,
    "start_time": "2024-03-07T11:20:11.974Z"
   },
   {
    "duration": 15,
    "start_time": "2024-03-07T11:20:11.986Z"
   },
   {
    "duration": 20,
    "start_time": "2024-03-07T11:20:12.002Z"
   },
   {
    "duration": 18,
    "start_time": "2024-03-07T11:20:12.023Z"
   },
   {
    "duration": 31,
    "start_time": "2024-03-07T11:20:12.042Z"
   },
   {
    "duration": 12,
    "start_time": "2024-03-07T11:20:12.075Z"
   },
   {
    "duration": 414,
    "start_time": "2024-03-07T11:20:12.088Z"
   },
   {
    "duration": 384,
    "start_time": "2024-03-07T11:20:12.503Z"
   },
   {
    "duration": 330,
    "start_time": "2024-03-07T11:20:12.889Z"
   },
   {
    "duration": 155,
    "start_time": "2024-03-07T11:20:13.220Z"
   },
   {
    "duration": 307,
    "start_time": "2024-03-07T11:20:13.376Z"
   },
   {
    "duration": 162,
    "start_time": "2024-03-07T11:20:13.685Z"
   },
   {
    "duration": 22,
    "start_time": "2024-03-07T11:20:13.848Z"
   },
   {
    "duration": 30,
    "start_time": "2024-03-07T11:20:13.872Z"
   },
   {
    "duration": 27,
    "start_time": "2024-03-07T11:20:13.904Z"
   },
   {
    "duration": 242,
    "start_time": "2024-03-07T11:20:13.933Z"
   },
   {
    "duration": 37,
    "start_time": "2024-03-07T11:20:14.177Z"
   },
   {
    "duration": 16,
    "start_time": "2024-03-07T11:20:14.216Z"
   },
   {
    "duration": 32,
    "start_time": "2024-03-07T11:20:14.234Z"
   },
   {
    "duration": 6,
    "start_time": "2024-03-07T11:20:14.267Z"
   },
   {
    "duration": 16,
    "start_time": "2024-03-07T11:20:14.274Z"
   },
   {
    "duration": 19,
    "start_time": "2024-03-07T11:20:14.292Z"
   },
   {
    "duration": 96,
    "start_time": "2024-03-07T11:20:14.312Z"
   },
   {
    "duration": 12,
    "start_time": "2024-03-07T11:20:14.410Z"
   },
   {
    "duration": 91,
    "start_time": "2024-03-07T11:20:14.423Z"
   },
   {
    "duration": 12,
    "start_time": "2024-03-07T11:20:14.516Z"
   },
   {
    "duration": 84,
    "start_time": "2024-03-07T11:20:14.530Z"
   },
   {
    "duration": 235,
    "start_time": "2024-03-07T11:20:14.615Z"
   },
   {
    "duration": 315,
    "start_time": "2024-03-07T11:20:14.852Z"
   },
   {
    "duration": 244,
    "start_time": "2024-03-07T11:20:15.169Z"
   },
   {
    "duration": 456,
    "start_time": "2024-03-07T11:20:15.415Z"
   },
   {
    "duration": 342,
    "start_time": "2024-03-07T11:20:15.873Z"
   },
   {
    "duration": 359,
    "start_time": "2024-03-07T11:20:16.220Z"
   },
   {
    "duration": 189,
    "start_time": "2024-03-07T11:20:16.581Z"
   },
   {
    "duration": 273,
    "start_time": "2024-03-07T11:20:16.772Z"
   },
   {
    "duration": 277,
    "start_time": "2024-03-07T11:20:17.047Z"
   },
   {
    "duration": 338,
    "start_time": "2024-03-07T11:20:17.325Z"
   },
   {
    "duration": 1292,
    "start_time": "2024-03-07T13:35:05.293Z"
   },
   {
    "duration": 52,
    "start_time": "2024-03-07T13:35:06.587Z"
   },
   {
    "duration": 24,
    "start_time": "2024-03-07T13:35:06.641Z"
   },
   {
    "duration": 34,
    "start_time": "2024-03-07T13:35:06.666Z"
   },
   {
    "duration": 16,
    "start_time": "2024-03-07T13:35:06.702Z"
   },
   {
    "duration": 46,
    "start_time": "2024-03-07T13:35:06.720Z"
   },
   {
    "duration": 24,
    "start_time": "2024-03-07T13:35:06.768Z"
   },
   {
    "duration": 20,
    "start_time": "2024-03-07T13:35:06.794Z"
   },
   {
    "duration": 12,
    "start_time": "2024-03-07T13:35:06.816Z"
   },
   {
    "duration": 40,
    "start_time": "2024-03-07T13:35:06.829Z"
   },
   {
    "duration": 14,
    "start_time": "2024-03-07T13:35:06.871Z"
   },
   {
    "duration": 26,
    "start_time": "2024-03-07T13:35:06.886Z"
   },
   {
    "duration": 22,
    "start_time": "2024-03-07T13:35:06.913Z"
   },
   {
    "duration": 8,
    "start_time": "2024-03-07T13:35:06.937Z"
   },
   {
    "duration": 411,
    "start_time": "2024-03-07T13:35:06.947Z"
   },
   {
    "duration": 360,
    "start_time": "2024-03-07T13:35:07.360Z"
   },
   {
    "duration": 377,
    "start_time": "2024-03-07T13:35:07.721Z"
   },
   {
    "duration": 170,
    "start_time": "2024-03-07T13:35:08.100Z"
   },
   {
    "duration": 307,
    "start_time": "2024-03-07T13:35:08.272Z"
   },
   {
    "duration": 157,
    "start_time": "2024-03-07T13:35:08.580Z"
   },
   {
    "duration": 9,
    "start_time": "2024-03-07T13:35:08.738Z"
   },
   {
    "duration": 22,
    "start_time": "2024-03-07T13:35:08.748Z"
   },
   {
    "duration": 24,
    "start_time": "2024-03-07T13:35:08.771Z"
   },
   {
    "duration": 241,
    "start_time": "2024-03-07T13:35:08.797Z"
   },
   {
    "duration": 46,
    "start_time": "2024-03-07T13:35:09.039Z"
   },
   {
    "duration": 17,
    "start_time": "2024-03-07T13:35:09.086Z"
   },
   {
    "duration": 5,
    "start_time": "2024-03-07T13:35:09.104Z"
   },
   {
    "duration": 9,
    "start_time": "2024-03-07T13:35:09.111Z"
   },
   {
    "duration": 5,
    "start_time": "2024-03-07T13:35:09.121Z"
   },
   {
    "duration": 48,
    "start_time": "2024-03-07T13:35:09.128Z"
   },
   {
    "duration": 89,
    "start_time": "2024-03-07T13:35:09.177Z"
   },
   {
    "duration": 11,
    "start_time": "2024-03-07T13:35:09.268Z"
   },
   {
    "duration": 92,
    "start_time": "2024-03-07T13:35:09.280Z"
   },
   {
    "duration": 13,
    "start_time": "2024-03-07T13:35:09.374Z"
   },
   {
    "duration": 84,
    "start_time": "2024-03-07T13:35:09.389Z"
   },
   {
    "duration": 227,
    "start_time": "2024-03-07T13:35:09.474Z"
   },
   {
    "duration": 332,
    "start_time": "2024-03-07T13:35:09.703Z"
   },
   {
    "duration": 255,
    "start_time": "2024-03-07T13:35:10.037Z"
   },
   {
    "duration": 473,
    "start_time": "2024-03-07T13:35:10.293Z"
   },
   {
    "duration": 337,
    "start_time": "2024-03-07T13:35:10.768Z"
   },
   {
    "duration": 351,
    "start_time": "2024-03-07T13:35:11.109Z"
   },
   {
    "duration": 169,
    "start_time": "2024-03-07T13:35:11.465Z"
   },
   {
    "duration": 265,
    "start_time": "2024-03-07T13:35:11.636Z"
   },
   {
    "duration": 266,
    "start_time": "2024-03-07T13:35:11.903Z"
   },
   {
    "duration": 347,
    "start_time": "2024-03-07T13:35:12.171Z"
   },
   {
    "duration": 1342,
    "start_time": "2024-03-08T10:48:54.352Z"
   },
   {
    "duration": 126,
    "start_time": "2024-03-08T10:48:55.696Z"
   },
   {
    "duration": 22,
    "start_time": "2024-03-08T10:48:55.824Z"
   },
   {
    "duration": 39,
    "start_time": "2024-03-08T10:48:55.848Z"
   },
   {
    "duration": 17,
    "start_time": "2024-03-08T10:48:55.889Z"
   },
   {
    "duration": 19,
    "start_time": "2024-03-08T10:48:55.908Z"
   },
   {
    "duration": 46,
    "start_time": "2024-03-08T10:48:55.930Z"
   },
   {
    "duration": 16,
    "start_time": "2024-03-08T10:48:55.978Z"
   },
   {
    "duration": 24,
    "start_time": "2024-03-08T10:48:55.996Z"
   },
   {
    "duration": 13,
    "start_time": "2024-03-08T10:48:56.023Z"
   },
   {
    "duration": 29,
    "start_time": "2024-03-08T10:48:56.038Z"
   },
   {
    "duration": 15,
    "start_time": "2024-03-08T10:48:56.068Z"
   },
   {
    "duration": 14,
    "start_time": "2024-03-08T10:48:56.085Z"
   },
   {
    "duration": 19,
    "start_time": "2024-03-08T10:48:56.101Z"
   },
   {
    "duration": 439,
    "start_time": "2024-03-08T10:48:56.122Z"
   },
   {
    "duration": 415,
    "start_time": "2024-03-08T10:48:56.564Z"
   },
   {
    "duration": 344,
    "start_time": "2024-03-08T10:48:56.980Z"
   },
   {
    "duration": 169,
    "start_time": "2024-03-08T10:48:57.325Z"
   },
   {
    "duration": 315,
    "start_time": "2024-03-08T10:48:57.495Z"
   },
   {
    "duration": 160,
    "start_time": "2024-03-08T10:48:57.811Z"
   },
   {
    "duration": 8,
    "start_time": "2024-03-08T10:48:57.972Z"
   },
   {
    "duration": 7,
    "start_time": "2024-03-08T10:48:57.981Z"
   },
   {
    "duration": 24,
    "start_time": "2024-03-08T10:48:57.990Z"
   },
   {
    "duration": 262,
    "start_time": "2024-03-08T10:48:58.016Z"
   },
   {
    "duration": 37,
    "start_time": "2024-03-08T10:48:58.280Z"
   },
   {
    "duration": 18,
    "start_time": "2024-03-08T10:48:58.318Z"
   },
   {
    "duration": 5,
    "start_time": "2024-03-08T10:48:58.337Z"
   },
   {
    "duration": 4,
    "start_time": "2024-03-08T10:48:58.368Z"
   },
   {
    "duration": 35,
    "start_time": "2024-03-08T10:48:58.373Z"
   },
   {
    "duration": 20,
    "start_time": "2024-03-08T10:48:58.409Z"
   },
   {
    "duration": 78,
    "start_time": "2024-03-08T10:48:58.430Z"
   },
   {
    "duration": 11,
    "start_time": "2024-03-08T10:48:58.510Z"
   },
   {
    "duration": 83,
    "start_time": "2024-03-08T10:48:58.523Z"
   },
   {
    "duration": 12,
    "start_time": "2024-03-08T10:48:58.608Z"
   },
   {
    "duration": 92,
    "start_time": "2024-03-08T10:48:58.622Z"
   },
   {
    "duration": 227,
    "start_time": "2024-03-08T10:48:58.716Z"
   },
   {
    "duration": 330,
    "start_time": "2024-03-08T10:48:58.945Z"
   },
   {
    "duration": 250,
    "start_time": "2024-03-08T10:48:59.276Z"
   },
   {
    "duration": 459,
    "start_time": "2024-03-08T10:48:59.528Z"
   },
   {
    "duration": 319,
    "start_time": "2024-03-08T10:48:59.989Z"
   },
   {
    "duration": 404,
    "start_time": "2024-03-08T10:49:00.310Z"
   },
   {
    "duration": 187,
    "start_time": "2024-03-08T10:49:00.716Z"
   },
   {
    "duration": 283,
    "start_time": "2024-03-08T10:49:00.905Z"
   },
   {
    "duration": 267,
    "start_time": "2024-03-08T10:49:01.189Z"
   },
   {
    "duration": 370,
    "start_time": "2024-03-08T10:49:01.457Z"
   }
  ],
  "kernelspec": {
   "display_name": "Python 3 (ipykernel)",
   "language": "python",
   "name": "python3"
  },
  "language_info": {
   "codemirror_mode": {
    "name": "ipython",
    "version": 3
   },
   "file_extension": ".py",
   "mimetype": "text/x-python",
   "name": "python",
   "nbconvert_exporter": "python",
   "pygments_lexer": "ipython3",
   "version": "3.11.4"
  },
  "toc": {
   "base_numbering": 1,
   "nav_menu": {},
   "number_sections": true,
   "sideBar": true,
   "skip_h1_title": true,
   "title_cell": "Table of Contents",
   "title_sidebar": "Contents",
   "toc_cell": false,
   "toc_position": {
    "height": "calc(100% - 180px)",
    "left": "10px",
    "top": "150px",
    "width": "233.399994px"
   },
   "toc_section_display": true,
   "toc_window_display": true
  }
 },
 "nbformat": 4,
 "nbformat_minor": 5
}
